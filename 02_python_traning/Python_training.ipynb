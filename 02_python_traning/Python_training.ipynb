{
  "nbformat": 4,
  "nbformat_minor": 0,
  "metadata": {
    "colab": {
      "provenance": [],
      "authorship_tag": "ABX9TyOQf+MICRfkimq8MEpIbsGQ",
      "include_colab_link": true
    },
    "kernelspec": {
      "name": "python3",
      "display_name": "Python 3"
    },
    "language_info": {
      "name": "python"
    }
  },
  "cells": [
    {
      "cell_type": "markdown",
      "metadata": {
        "id": "view-in-github",
        "colab_type": "text"
      },
      "source": [
        "<a href=\"https://colab.research.google.com/github/SHAHAB-UD-DIN/Learn-Python/blob/main/02_python_traning/Python_training.ipynb\" target=\"_parent\"><img src=\"https://colab.research.google.com/assets/colab-badge.svg\" alt=\"Open In Colab\"/></a>"
      ]
    },
    {
      "cell_type": "markdown",
      "source": [
        "Python is a popular programming language. It was created by Guido van Rossum, and released in 1991.\n",
        "\n",
        "### It is used for:\n",
        "- web development (server-side).\n",
        "- software development.\n",
        "- mathematics.\n",
        "- system scripting.\n",
        "\n",
        "\n"
      ],
      "metadata": {
        "id": "ZpU9GC0PV6QW"
      }
    },
    {
      "cell_type": "code",
      "source": [
        "print(\"Hello, World!\")"
      ],
      "metadata": {
        "colab": {
          "base_uri": "https://localhost:8080/"
        },
        "id": "xxR-oK2BXcL5",
        "outputId": "23eec8b4-89ec-4562-ac9e-26dc546ffb15"
      },
      "execution_count": null,
      "outputs": [
        {
          "output_type": "stream",
          "name": "stdout",
          "text": [
            "Hello, World!\n"
          ]
        }
      ]
    },
    {
      "cell_type": "markdown",
      "source": [
        "## Python Indentation\n",
        "Indentation refers to the spaces at the beginning of a code line.\n",
        "\n",
        "Where in other programming languages the indentation in code is for readability only, the indentation in Python is very important.\n",
        "\n",
        "Python uses indentation to indicate a block of code."
      ],
      "metadata": {
        "id": "hGbH0oEKZIQw"
      }
    },
    {
      "cell_type": "code",
      "source": [
        "if 5 > 2:\n",
        "  print(\"Five is greater than two!\")"
      ],
      "metadata": {
        "colab": {
          "base_uri": "https://localhost:8080/"
        },
        "id": "V5XCKgTeZWqY",
        "outputId": "dd964a7b-0b15-4c45-8a6e-e5270d0620c6"
      },
      "execution_count": null,
      "outputs": [
        {
          "output_type": "stream",
          "name": "stdout",
          "text": [
            "Five is greater than two!\n"
          ]
        }
      ]
    },
    {
      "cell_type": "markdown",
      "source": [
        "Python will give you an error if you skip the indentation:"
      ],
      "metadata": {
        "id": "e1z7YoltZrvU"
      }
    },
    {
      "cell_type": "code",
      "source": [
        "if 5 > 2:\n",
        "print(\"Five is greater than two!\")"
      ],
      "metadata": {
        "colab": {
          "base_uri": "https://localhost:8080/"
        },
        "id": "qx7JZE_bZz6U",
        "outputId": "1f95df38-574f-4675-90da-07365751793c"
      },
      "execution_count": null,
      "outputs": [
        {
          "output_type": "stream",
          "name": "stdout",
          "text": [
            "Five is greater than two!\n"
          ]
        }
      ]
    },
    {
      "cell_type": "markdown",
      "source": [
        "The number of spaces is up to you as a programmer, the most common use is four, but it has to be at least one."
      ],
      "metadata": {
        "id": "oodK1k8AZ_3l"
      }
    },
    {
      "cell_type": "code",
      "source": [
        "if 5 > 2:\n",
        " print(\"Five is greater than two!\")\n",
        "if 5 > 2:\n",
        "        print(\"Five is greater than two!\")"
      ],
      "metadata": {
        "id": "G0wezF1hadJ6"
      },
      "execution_count": null,
      "outputs": []
    },
    {
      "cell_type": "markdown",
      "source": [
        "You have to use the same number of spaces in the same block of code, otherwise Python will give you an error:"
      ],
      "metadata": {
        "id": "Mw-vs2c2asRL"
      }
    },
    {
      "cell_type": "code",
      "source": [
        "if 5 > 2:\n",
        " print(\"Five is greater than two!\")\n",
        "        print(\"Five is greater than two!\")"
      ],
      "metadata": {
        "id": "n5qMU9d1a-e4"
      },
      "execution_count": null,
      "outputs": []
    },
    {
      "cell_type": "markdown",
      "source": [
        "## Python Comments\n",
        "Comments can be used to explain Python code.\n",
        "\n",
        "Comments can be used to make the code more readable.\n",
        "\n",
        "Comments can be used to prevent execution when testing code."
      ],
      "metadata": {
        "id": "RNF-5V0ibFB2"
      }
    },
    {
      "cell_type": "code",
      "source": [
        "#This is a comment\n",
        "print(\"Hello, World!\")\n",
        "\n",
        "print(\"Hello, World!\") #Comments can be placed at the end of a line, and Python will ignore the rest of the line.\n",
        "\n",
        "#Multiline Comments\n",
        "#Python does not really have a syntax for multiline comments.\n",
        "#To add a multiline comment you could insert a # for each line.\n",
        "print(\"Hello, World!\")\n",
        "\n",
        "\"\"\"\n",
        "Or, not quite as intended, you can use a multiline string.\n",
        "\n",
        "Since Python will ignore string literals that are not assigned to a variable, you can add a multiline string (triple quotes) in your code, and place your comment inside it\n",
        "\"\"\"\n",
        "print(\"Hello, World!\")"
      ],
      "metadata": {
        "id": "g4wPI4lQbbBo"
      },
      "execution_count": null,
      "outputs": []
    },
    {
      "cell_type": "markdown",
      "source": [],
      "metadata": {
        "id": "VAmgAgclc2xE"
      }
    },
    {
      "cell_type": "code",
      "source": [
        "favorite_food = \"Biryani\";\n",
        "favorite_game = \"Cricket\";\n",
        "favorite_person = \"Shahrukh\";\n",
        "print(favorite_food);\n",
        "print(favorite_game);\n",
        "print(favorite_person);"
      ],
      "metadata": {
        "colab": {
          "base_uri": "https://localhost:8080/"
        },
        "id": "-UF-YeiW-x6p",
        "outputId": "eca07c41-9803-4f8a-d548-fa20bf2e5674"
      },
      "execution_count": null,
      "outputs": [
        {
          "output_type": "stream",
          "name": "stdout",
          "text": [
            "Biryani\n",
            "Cricket\n",
            "Shahrukh\n"
          ]
        }
      ]
    },
    {
      "cell_type": "code",
      "source": [
        "name = \"Shahab\";\n",
        "number = 9;\n",
        "number_01 = 0.9;\n",
        "\n",
        "print(type(name))\n",
        "print(type(number))\n",
        "print(type(number_01))\n",
        "print(f\"My name is {name} and my favorite number is {number}\")"
      ],
      "metadata": {
        "colab": {
          "base_uri": "https://localhost:8080/"
        },
        "id": "Te1ON1jCqy-H",
        "outputId": "fe63449c-2689-45de-c60b-778b3a63c645"
      },
      "execution_count": null,
      "outputs": [
        {
          "output_type": "stream",
          "name": "stdout",
          "text": [
            "<class 'str'>\n",
            "<class 'int'>\n",
            "<class 'float'>\n",
            "My name is Shahab and my favorite number is 9\n"
          ]
        }
      ]
    },
    {
      "cell_type": "code",
      "source": [
        "paragraph = \"My name is Shahab\"\n",
        "paragraph_01 = \"\"\"My name is Shahab,\n",
        "My favorite numner is 12,\n",
        "My favorite game is cricket.\"\"\"\n",
        "\n",
        "print(paragraph)\n",
        "print(\" \")\n",
        "print(paragraph_01)"
      ],
      "metadata": {
        "colab": {
          "base_uri": "https://localhost:8080/"
        },
        "id": "sA-BoFviul6C",
        "outputId": "996d44e0-ca9c-4fd6-84e4-9961aa604a15"
      },
      "execution_count": null,
      "outputs": [
        {
          "output_type": "stream",
          "name": "stdout",
          "text": [
            "My name is Shahab\n",
            " \n",
            "My name is Shahab,\n",
            "My favorite numner is 12,\n",
            "My favorite game is cricket.\n"
          ]
        }
      ]
    },
    {
      "cell_type": "code",
      "source": [
        "first_name = \"Hamdan\"\n",
        "\n",
        "print(\n",
        "f\"\"\"\n",
        "Hi {first_name},\n",
        "Welcome to Python Programming.\n",
        "Hope you are doing good.\n",
        "Best Regards,\n",
        "Shahab Ud Din\n",
        "\"\"\"\n",
        ")"
      ],
      "metadata": {
        "id": "Iz-7cUe9xGQM",
        "colab": {
          "base_uri": "https://localhost:8080/"
        },
        "outputId": "d9e0486f-317f-4552-c008-8a21267e7bf6"
      },
      "execution_count": null,
      "outputs": [
        {
          "output_type": "stream",
          "name": "stdout",
          "text": [
            "\n",
            "Hi Hamdan,\n",
            "Welcome to Python Programming.\n",
            "Hope you are doing good.\n",
            "Best Regards,\n",
            "Shahab Ud Din\n",
            "\n"
          ]
        }
      ]
    },
    {
      "cell_type": "code",
      "source": [
        "# Addition\n",
        "a = 12\n",
        "b = 3\n",
        "result = a + b\n",
        "print(\"Addition:\",result)"
      ],
      "metadata": {
        "colab": {
          "base_uri": "https://localhost:8080/"
        },
        "id": "FZAtvAgonAsh",
        "outputId": "6026bca6-b4f0-4b6f-8f93-25ce9351aae9"
      },
      "execution_count": null,
      "outputs": [
        {
          "output_type": "stream",
          "name": "stdout",
          "text": [
            "Addition: 15\n"
          ]
        }
      ]
    },
    {
      "cell_type": "code",
      "source": [
        "# Subtraction\n",
        "item1 = 10\n",
        "item2 = 5\n",
        "result = item1 - item2\n",
        "print(\"Subtraction:\",result)"
      ],
      "metadata": {
        "colab": {
          "base_uri": "https://localhost:8080/"
        },
        "id": "p5wmBiaBoiYN",
        "outputId": "e50c9fab-1c90-4236-d030-2c20ddcf3ad8"
      },
      "execution_count": null,
      "outputs": [
        {
          "output_type": "stream",
          "name": "stdout",
          "text": [
            "Subtraction: 5\n"
          ]
        }
      ]
    },
    {
      "cell_type": "code",
      "source": [
        "# Multiplication\n",
        "X = 13\n",
        "Y = 5\n",
        "result = X * Y\n",
        "print(\"Multiplication:\",result)"
      ],
      "metadata": {
        "colab": {
          "base_uri": "https://localhost:8080/"
        },
        "id": "v9WSCTrTo5TM",
        "outputId": "618042ce-06fa-449f-cfc1-d844488257d4"
      },
      "execution_count": null,
      "outputs": [
        {
          "output_type": "stream",
          "name": "stdout",
          "text": [
            "Multiplication: 65\n"
          ]
        }
      ]
    },
    {
      "cell_type": "code",
      "source": [
        "# Division\n",
        "a = 12\n",
        "b = 3\n",
        "result = a / b\n",
        "print(\"Division:\",result)"
      ],
      "metadata": {
        "colab": {
          "base_uri": "https://localhost:8080/"
        },
        "id": "elzUYtRRpJNi",
        "outputId": "9c21c444-d71c-4360-90cb-fac37958abf0"
      },
      "execution_count": null,
      "outputs": [
        {
          "output_type": "stream",
          "name": "stdout",
          "text": [
            "Division: 4.0\n"
          ]
        }
      ]
    },
    {
      "cell_type": "code",
      "source": [
        "# Modulus\n",
        "a = 12\n",
        "b = 5\n",
        "result = a % b\n",
        "print(\"Modulus:\",result)"
      ],
      "metadata": {
        "colab": {
          "base_uri": "https://localhost:8080/"
        },
        "id": "VHKmG6cqqEOV",
        "outputId": "bdc6e743-24c6-4c36-e77d-d9b0de957ba9"
      },
      "execution_count": null,
      "outputs": [
        {
          "output_type": "stream",
          "name": "stdout",
          "text": [
            "Modulus: 2\n"
          ]
        }
      ]
    },
    {
      "cell_type": "code",
      "source": [
        "num1 = 5;\n",
        "print(num1 ** 3)"
      ],
      "metadata": {
        "colab": {
          "base_uri": "https://localhost:8080/"
        },
        "id": "azNbNMuys69i",
        "outputId": "f8775157-adb8-4412-d345-2f4560474633"
      },
      "execution_count": null,
      "outputs": [
        {
          "output_type": "stream",
          "name": "stdout",
          "text": [
            "125\n"
          ]
        }
      ]
    },
    {
      "cell_type": "markdown",
      "source": [
        "**Assigment Question 01**\n",
        "![Screenshot 2025-01-16 090645.jpg](data:image/jpeg;base64,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)"
      ],
      "metadata": {
        "id": "6ZBwznLkSaV0"
      }
    },
    {
      "cell_type": "code",
      "source": [
        "# Assigment_01\n",
        "\n",
        "number_of_facutly = 12\n",
        "admin = 4\n",
        "students = 100\n",
        "absent = 15\n",
        "per_person_rabri = 250\n",
        "\n",
        "total_members = number_of_facutly + admin + students\n",
        "total_present_members = total_members - absent\n",
        "total_rabri = total_present_members * per_person_rabri\n",
        "\n",
        "print(f\"Total present member in PIAIC: {total_present_members}\")\n",
        "print(f\"Total rabri in grams: {total_rabri}g\")\n",
        "print(f\"Total rabri is kg: {total_rabri // 1000}kg\")"
      ],
      "metadata": {
        "id": "VcW7big8vFHP",
        "colab": {
          "base_uri": "https://localhost:8080/"
        },
        "outputId": "bd689380-db9c-4cc9-816d-c03f77206433"
      },
      "execution_count": null,
      "outputs": [
        {
          "output_type": "stream",
          "name": "stdout",
          "text": [
            "Total present member in PIAIC: 101\n",
            "Total rabri in grams: 25250g\n",
            "Total rabri is kg: 25kg\n"
          ]
        }
      ]
    },
    {
      "cell_type": "code",
      "source": [
        "# Boolean Example\n",
        "is_loggedin = True # Boolean example\n",
        "are_road_close = True\n",
        "is_internet_close = False\n",
        "\n",
        "print(is_loggedin)\n",
        "print(type(is_internet_close))"
      ],
      "metadata": {
        "colab": {
          "base_uri": "https://localhost:8080/"
        },
        "id": "y2mxnuwBKxo1",
        "outputId": "42aaee31-db02-4560-cc53-8848c96c3a38"
      },
      "execution_count": null,
      "outputs": [
        {
          "output_type": "stream",
          "name": "stdout",
          "text": [
            "True\n",
            "<class 'bool'>\n"
          ]
        }
      ]
    },
    {
      "cell_type": "code",
      "source": [
        "# Comparsion Operators\n",
        "# == : equal to\n",
        "# != : not equal to\n",
        "# > : greater than\n",
        "# < : less than\n",
        "# >= : greater than or equal to\n",
        "# <= : less than or equal to\n",
        "\n",
        "# Comparsion Operators Examples\n",
        "a = 90\n",
        "b = 30\n",
        "\n",
        "print(a == b) # False\n",
        "print(a != b) # True\n",
        "print(a > b) # True\n",
        "print(a <= b) # False"
      ],
      "metadata": {
        "id": "f7gbI1nNXeoV",
        "colab": {
          "base_uri": "https://localhost:8080/"
        },
        "outputId": "f0bb94ad-afb4-4f1e-f788-5500c262a5a9"
      },
      "execution_count": null,
      "outputs": [
        {
          "output_type": "stream",
          "name": "stdout",
          "text": [
            "False\n",
            "True\n",
            "True\n",
            "False\n"
          ]
        }
      ]
    },
    {
      "cell_type": "code",
      "source": [
        "myage = 14\n",
        "\n",
        "#        14 > 18\n",
        "print(myage > 18)\n",
        "print(myage < 18)\n",
        "print(myage == 18)\n",
        "print(myage != 18)"
      ],
      "metadata": {
        "colab": {
          "base_uri": "https://localhost:8080/"
        },
        "id": "qcZRLLlGQG5o",
        "outputId": "0bb3c773-a435-4757-f52a-3fb291e5d0fe"
      },
      "execution_count": null,
      "outputs": [
        {
          "output_type": "stream",
          "name": "stdout",
          "text": [
            "False\n",
            "True\n",
            "False\n",
            "True\n"
          ]
        }
      ]
    },
    {
      "cell_type": "code",
      "source": [
        "yousaf_age = 14\n",
        "\n",
        "if(yousaf_age > 18):\n",
        "  print(\"You're allowed\")\n",
        "else:\n",
        "  print(\"You're not allowed\")"
      ],
      "metadata": {
        "id": "NXXTlmk_Xfua",
        "colab": {
          "base_uri": "https://localhost:8080/"
        },
        "outputId": "47bd1171-cfdd-4f43-b906-fc84a6451435"
      },
      "execution_count": null,
      "outputs": [
        {
          "output_type": "stream",
          "name": "stdout",
          "text": [
            "You're not allowed\n"
          ]
        }
      ]
    },
    {
      "cell_type": "code",
      "source": [
        "# Input Example\n",
        "name = input(\"Enter your name: \")\n",
        "print(f\"Hello {name}!\")"
      ],
      "metadata": {
        "colab": {
          "base_uri": "https://localhost:8080/"
        },
        "id": "oTQDgmSeiTcZ",
        "outputId": "e492e3f9-6c47-4991-fa5e-7b045710cc02"
      },
      "execution_count": null,
      "outputs": [
        {
          "output_type": "stream",
          "name": "stdout",
          "text": [
            "Enter your name:  Abdulah\n",
            "Hello  Abdulah!\n"
          ]
        }
      ]
    },
    {
      "cell_type": "code",
      "source": [
        "# Conditional Statments\n",
        "age_01 = int(input(\"Enter your age: \"))\n",
        "\n",
        "if ( age_01 < 18 ):\n",
        "   print(\"You're not allowed\")\n",
        "elif ( age_01 == 18 ):\n",
        "   print(\"You are a young person\")\n",
        "   print(\"You're allowed\")\n",
        "elif ( age_01 >= 80 ):\n",
        "   print(\"You're older\")\n",
        "else:\n",
        "   print(\"You're allowed\")"
      ],
      "metadata": {
        "colab": {
          "base_uri": "https://localhost:8080/"
        },
        "id": "eUcyf_oDjEMB",
        "outputId": "9ffea20c-e9a3-45a5-d6e8-97d7dc372b47"
      },
      "execution_count": null,
      "outputs": [
        {
          "output_type": "stream",
          "name": "stdout",
          "text": [
            "Enter your age: 14\n",
            "You're not allowed\n"
          ]
        }
      ]
    },
    {
      "cell_type": "code",
      "source": [
        "# Assigment 2\n",
        "is_hungry = True\n",
        "burger_lover = False\n",
        "pizza_lover = False\n",
        "\n",
        "if ( is_hungry and (burger_lover or pizza_lover) ):\n",
        "  print(\"Let's order the Pizza\")\n",
        "elif(is_hungry):\n",
        "  print(\"Sleep without eat\")\n",
        "else:\n",
        "  print(\"Not Hungry\")"
      ],
      "metadata": {
        "id": "Zk0YdwI4eOI2",
        "colab": {
          "base_uri": "https://localhost:8080/"
        },
        "outputId": "fa5903e7-9274-4963-b3fa-cfb806bc32a6"
      },
      "execution_count": null,
      "outputs": [
        {
          "output_type": "stream",
          "name": "stdout",
          "text": [
            "Sleep without eat\n"
          ]
        }
      ]
    },
    {
      "cell_type": "markdown",
      "source": [
        "# List\n"
      ],
      "metadata": {
        "id": "Fw47mF6ODkbq"
      }
    },
    {
      "cell_type": "code",
      "source": [
        "from typing import List\n",
        "\n",
        "shopping_list : List[str] = [\"eggs\", \"juice\", \"bread\"]\n",
        "print(shopping_list)"
      ],
      "metadata": {
        "id": "bDyQ9TEwejO-",
        "colab": {
          "base_uri": "https://localhost:8080/"
        },
        "outputId": "bad971ee-e14b-4082-a358-dcebddaaf672"
      },
      "execution_count": null,
      "outputs": [
        {
          "output_type": "stream",
          "name": "stdout",
          "text": [
            "['eggs', 'juice', 'bread']\n"
          ]
        }
      ]
    },
    {
      "cell_type": "code",
      "source": [
        "from os import path\n",
        "shopping_items : list[str] = [\"orange\", \"mango\", \"Banana\", \"Pine apple\"]\n",
        "print(shopping_items[0])\n",
        "\n",
        "# find the length of the list\n",
        "print(len(shopping_items))\n",
        "\n",
        "# slipt\n",
        "print(shopping_items[0:2])"
      ],
      "metadata": {
        "colab": {
          "base_uri": "https://localhost:8080/"
        },
        "id": "aZsByGR9ajXS",
        "outputId": "8476b159-89eb-4e08-9ab3-2b9d8fcb1d07"
      },
      "execution_count": null,
      "outputs": [
        {
          "output_type": "stream",
          "name": "stdout",
          "text": [
            "orange\n",
            "4\n",
            "['orange', 'mango']\n"
          ]
        }
      ]
    },
    {
      "cell_type": "markdown",
      "source": [
        "**Checking Membership**"
      ],
      "metadata": {
        "id": "6eeQ61s-GvEw"
      }
    },
    {
      "cell_type": "code",
      "source": [
        "grocery_items : list[str] = [\"oil\", \"sugar\", \"salt\", \"rice\", \"wheat\"]\n",
        "\n",
        "print(\"oil\" in grocery_items)   #True\n",
        "print(\"Wheat\" in grocery_items) #False\n",
        "print(\"flour\" in grocery_items) #False"
      ],
      "metadata": {
        "id": "nrly8-NBxqiV",
        "colab": {
          "base_uri": "https://localhost:8080/"
        },
        "outputId": "e52902d7-1d77-4513-c0ec-b411b6f635a1"
      },
      "execution_count": null,
      "outputs": [
        {
          "output_type": "stream",
          "name": "stdout",
          "text": [
            "True\n",
            "False\n",
            "False\n"
          ]
        }
      ]
    },
    {
      "cell_type": "code",
      "source": [
        "from typing import List\n",
        "fruit_items : List[str] = [\"apple\", \"banana\", \"mango\", \"strawberry\"]\n",
        "print(fruit_items)\n",
        "\n",
        "# append item in fruit\n",
        "fruit_items.append(\"pineapple\")\n",
        "print(fruit_items)\n",
        "\n",
        "# remove item in fruit\n",
        "fruit_items.remove(\"pineapple\")\n",
        "print(fruit_items)\n",
        "\n",
        "# inster item in fruit\n",
        "fruit_items.insert(0, \"pineapple\")\n",
        "print(fruit_items)\n",
        "\n",
        "# pop item in fruit\n",
        "fruit_items.pop(0)\n",
        "print(fruit_items)"
      ],
      "metadata": {
        "colab": {
          "base_uri": "https://localhost:8080/"
        },
        "id": "qgzXeGZjHjiL",
        "outputId": "8bdb976b-2bb7-4312-849b-2b7b3868f9ec"
      },
      "execution_count": null,
      "outputs": [
        {
          "output_type": "stream",
          "name": "stdout",
          "text": [
            "['apple', 'banana', 'mango', 'strawberry']\n",
            "['apple', 'banana', 'mango', 'strawberry', 'pineapple']\n",
            "['apple', 'banana', 'mango', 'strawberry']\n",
            "['pineapple', 'apple', 'banana', 'mango', 'strawberry']\n",
            "['apple', 'banana', 'mango', 'strawberry']\n"
          ]
        }
      ]
    },
    {
      "cell_type": "markdown",
      "source": [
        "# Function"
      ],
      "metadata": {
        "id": "C_kTW3_12wBR"
      }
    },
    {
      "cell_type": "code",
      "source": [
        "# why we use function?\n",
        "# Because it saves us repetition.\n",
        "# Because help us organize our code\n",
        "\n",
        "# syntax\n",
        "def function_name(parameter):\n",
        "  return Value\n"
      ],
      "metadata": {
        "id": "y3Ft31UwKaZf"
      },
      "execution_count": null,
      "outputs": []
    },
    {
      "cell_type": "code",
      "source": [
        "#Lets greet through fnction\n",
        "\n",
        "def greet():\n",
        "  print(\"Hello world!\")\n",
        "\n",
        "# calling the function\n",
        "greet()"
      ],
      "metadata": {
        "colab": {
          "base_uri": "https://localhost:8080/"
        },
        "id": "aAG1T9zx5ELB",
        "outputId": "823ebc73-b466-4e04-9b22-515a41d82029"
      },
      "execution_count": null,
      "outputs": [
        {
          "output_type": "stream",
          "name": "stdout",
          "text": [
            "Hello world!\n"
          ]
        }
      ]
    },
    {
      "cell_type": "code",
      "source": [
        "def greet(name):\n",
        "  print(f\"Hello {name}!\")\n",
        "\n",
        "# let's call the function with a parameter\n",
        "greet(\"yousaf\")\n",
        "greet(\"Shahab\")"
      ],
      "metadata": {
        "colab": {
          "base_uri": "https://localhost:8080/"
        },
        "id": "GbY-748P5Su2",
        "outputId": "1d03d4b2-5008-4eec-c922-9273504e556c"
      },
      "execution_count": null,
      "outputs": [
        {
          "output_type": "stream",
          "name": "stdout",
          "text": [
            "Hello yousaf!\n",
            "Hello Shahab!\n"
          ]
        }
      ]
    },
    {
      "cell_type": "code",
      "source": [
        "# lets create a function with return value\n",
        "def add_two(a, b):\n",
        "  return a + b\n",
        "\n",
        "add_two(10, 20)"
      ],
      "metadata": {
        "colab": {
          "base_uri": "https://localhost:8080/"
        },
        "id": "_C-MeoW77LLD",
        "outputId": "611bc874-0d0b-4ce7-f5ab-ec3c289b3ba8"
      },
      "execution_count": null,
      "outputs": [
        {
          "output_type": "execute_result",
          "data": {
            "text/plain": [
              "40"
            ]
          },
          "metadata": {},
          "execution_count": 12
        }
      ]
    },
    {
      "cell_type": "code",
      "source": [
        "# subtract\n",
        "def sub_two(x, y):\n",
        "  z = x - y\n",
        "  return z\n",
        "\n",
        "sub_two(50, 10)"
      ],
      "metadata": {
        "colab": {
          "base_uri": "https://localhost:8080/"
        },
        "id": "s7ATRBmH-Ger",
        "outputId": "891e8f8d-71e3-4ca9-9f67-6edb32201e14"
      },
      "execution_count": null,
      "outputs": [
        {
          "output_type": "execute_result",
          "data": {
            "text/plain": [
              "40"
            ]
          },
          "metadata": {},
          "execution_count": 15
        }
      ]
    },
    {
      "cell_type": "markdown",
      "source": [
        "# Define default parameter"
      ],
      "metadata": {
        "id": "1gvd5WTCBxxp"
      }
    },
    {
      "cell_type": "code",
      "source": [
        "def greet(name = \"Guest\"):\n",
        "  print(f\"Hello {name}\")\n",
        "\n",
        "greet()\n",
        "greet(\"Shahab\")\n",
        "\n",
        "def add_two(b = 3, c = 4):\n",
        "  a = b + c\n",
        "  return a\n",
        "\n",
        "add_two(10, 20)"
      ],
      "metadata": {
        "colab": {
          "base_uri": "https://localhost:8080/"
        },
        "id": "9jARlfar-HZX",
        "outputId": "c53ce806-f89f-448b-ac93-ffb1c79111fe"
      },
      "execution_count": null,
      "outputs": [
        {
          "output_type": "stream",
          "name": "stdout",
          "text": [
            "Hello Guest\n",
            "Hello Shahab\n"
          ]
        },
        {
          "output_type": "execute_result",
          "data": {
            "text/plain": [
              "30"
            ]
          },
          "metadata": {},
          "execution_count": 1
        }
      ]
    },
    {
      "cell_type": "markdown",
      "source": [
        "# Short Assigment Function"
      ],
      "metadata": {
        "id": "CuW1oqpy0AfP"
      }
    },
    {
      "cell_type": "code",
      "source": [
        "def make_tea():\n",
        "  print(\"step_01: Boil water\")\n",
        "  print(\"step_02: add patti\")\n",
        "  print(\"step_03: add milk\")\n",
        "  print(\"step_05: make tea\")\n",
        "  return \"Tea is ready\"\n",
        "\n",
        "tea = make_tea()\n",
        "print(tea)"
      ],
      "metadata": {
        "id": "UhYLprZ8CEB9",
        "colab": {
          "base_uri": "https://localhost:8080/"
        },
        "outputId": "ced6acda-3ed4-44b6-e4e9-50d65d49ddae"
      },
      "execution_count": null,
      "outputs": [
        {
          "output_type": "stream",
          "name": "stdout",
          "text": [
            "step_01: Boil water\n",
            "step_02: add patti\n",
            "step_03: add milk\n",
            "step_05: make tea\n",
            "Tea is ready\n"
          ]
        }
      ]
    },
    {
      "cell_type": "code",
      "source": [
        "def call_llm():\n",
        "  return \"Hello, How can I assist you today?\"\n",
        "\n",
        "responce = call_llm()\n",
        "print(responce)"
      ],
      "metadata": {
        "colab": {
          "base_uri": "https://localhost:8080/"
        },
        "id": "2tmBotRws0X1",
        "outputId": "c872a9a3-0902-4610-851d-99217bb55b45"
      },
      "execution_count": null,
      "outputs": [
        {
          "output_type": "stream",
          "name": "stdout",
          "text": [
            "Hello, How can I assist you today?\n"
          ]
        }
      ]
    },
    {
      "cell_type": "code",
      "source": [
        "# parameter & Argument\n",
        "\n",
        "#              parameter\n",
        "def call_llm_01(prompt):\n",
        "  print(f\"User: {prompt}\")\n",
        "  return \"AI: Hello, How can I assist you today?\"\n",
        "\n",
        "#                             keyword Argument\n",
        "responce = call_llm_01(prompt = \"Hello, My name is Shahab\")\n",
        "print(responce)"
      ],
      "metadata": {
        "id": "YYnSGy-Zzx7e",
        "colab": {
          "base_uri": "https://localhost:8080/"
        },
        "outputId": "0c9f74c1-7cad-46c2-d035-c5c914745a8c"
      },
      "execution_count": null,
      "outputs": [
        {
          "output_type": "stream",
          "name": "stdout",
          "text": [
            "User: Hello, My name is Shahab\n",
            "AI: Hello, How can I assist you today?\n"
          ]
        }
      ]
    },
    {
      "cell_type": "code",
      "source": [
        "import random\n",
        "\n",
        "def roll_dice():\n",
        "  return random.randint(1, 6)\n",
        "\n",
        "answer = roll_dice()\n",
        "print(answer)\n",
        "\n",
        "# print(roll_dice())"
      ],
      "metadata": {
        "colab": {
          "base_uri": "https://localhost:8080/"
        },
        "id": "sA2AmFJxrQ-d",
        "outputId": "186ec7d9-4e66-4ecf-b920-6e445b05cbad"
      },
      "execution_count": null,
      "outputs": [
        {
          "output_type": "stream",
          "name": "stdout",
          "text": [
            "2\n"
          ]
        }
      ]
    },
    {
      "cell_type": "code",
      "source": [
        " import random\n",
        "\n",
        "def roll_dice(limit = 6):\n",
        "  return random.randint(1, limit)\n",
        "\n",
        "print( roll_dice() )\n",
        "\n",
        "print( roll_dice(limit = 12) )\n",
        "\n",
        "print( roll_dice( 24 ) )"
      ],
      "metadata": {
        "colab": {
          "base_uri": "https://localhost:8080/"
        },
        "id": "_ZumSqqN03Jm",
        "outputId": "69ded25e-db41-4476-d75d-54d68f85f4c3"
      },
      "execution_count": null,
      "outputs": [
        {
          "output_type": "stream",
          "name": "stdout",
          "text": [
            "4\n",
            "8\n",
            "1\n"
          ]
        }
      ]
    },
    {
      "cell_type": "markdown",
      "source": [
        "# Dictionary"
      ],
      "metadata": {
        "id": "Vth4jhMMvuK1"
      }
    },
    {
      "cell_type": "code",
      "source": [
        "users = {\n",
        "    \"username\" : \"Shahab\",\n",
        "    \"age\" : 12,\n",
        "    \"city\" : \"Islamabad\"\n",
        "}\n",
        "\n",
        "print(users['age'])\n",
        "\n",
        "# update age\n",
        "users[\"age\"] = 15\n",
        "print(users[\"age\"])\n"
      ],
      "metadata": {
        "id": "enpPoa-U3Hed",
        "colab": {
          "base_uri": "https://localhost:8080/"
        },
        "outputId": "7a737bd0-cd6f-4cfa-f80b-235bf4fe1e97"
      },
      "execution_count": null,
      "outputs": [
        {
          "output_type": "stream",
          "name": "stdout",
          "text": [
            "12\n",
            "15\n"
          ]
        }
      ]
    },
    {
      "cell_type": "code",
      "source": [
        "teacher_id = {\n",
        "    \"name\" : \"hamdan\",\n",
        "    \"subject\" : \"urdu\",\n",
        "     \"id\": 1234\n",
        "}\n",
        "print(teacher_id[\"name\"])\n",
        "print(teacher_id[\"subject\"])\n",
        "print(teacher_id[\"id\"])\n",
        "\n",
        "print()\n",
        "\n",
        "# update value\n",
        "teacher_id[\"name\"] = \"Wania\"\n",
        "teacher_id[\"subject\"] = \"Agentic AI\"\n",
        "teacher_id[\"id\"] = 321\n",
        "\n",
        "print(teacher_id[\"name\"])\n",
        "print(teacher_id[\"subject\"])\n",
        "print(teacher_id[\"id\"])"
      ],
      "metadata": {
        "colab": {
          "base_uri": "https://localhost:8080/"
        },
        "id": "TlOZxPahwU60",
        "outputId": "04be0c42-0f45-48de-9d2e-0eec81a8ab77"
      },
      "execution_count": null,
      "outputs": [
        {
          "output_type": "stream",
          "name": "stdout",
          "text": [
            "hamdan\n",
            "urdu\n",
            "1234\n",
            "\n",
            "Wania\n",
            "Agentic AI\n",
            "321\n"
          ]
        }
      ]
    },
    {
      "cell_type": "code",
      "source": [
        "# Add a key value in our dictionary\n",
        "\n",
        "teacher_id[\"institute\"] = \"PIAIC\"\n",
        "print(teacher_id)"
      ],
      "metadata": {
        "colab": {
          "base_uri": "https://localhost:8080/"
        },
        "id": "IWWuVagIyo4B",
        "outputId": "be540c77-ddd5-4e07-e4e2-7a6c524b8bd4"
      },
      "execution_count": null,
      "outputs": [
        {
          "output_type": "stream",
          "name": "stdout",
          "text": [
            "{'name': 'Wania', 'subject': 'Agentic AI', 'id': 321, 'institute': 'PIAIC'}\n"
          ]
        }
      ]
    },
    {
      "cell_type": "code",
      "source": [
        "# how to define type in dictionary\n",
        "\n",
        "car : dict = {\n",
        "    \"color\" : \"red\",\n",
        "    \"brand\" : \"toyota\",\n",
        "    \"model\" : 2020\n",
        "}\n",
        "\n",
        "print(car)"
      ],
      "metadata": {
        "colab": {
          "base_uri": "https://localhost:8080/"
        },
        "id": "4YUlGAXXzjqU",
        "outputId": "5f425759-5865-4aa4-e539-0ba707504c59"
      },
      "execution_count": null,
      "outputs": [
        {
          "output_type": "stream",
          "name": "stdout",
          "text": [
            "{'color': 'red', 'brand': 'toyota', 'model': 2020}\n"
          ]
        }
      ]
    },
    {
      "cell_type": "code",
      "source": [
        "# list of dict\n",
        "user : dict = [\n",
        "    {\n",
        "        \"name\" : \"Shahab\",\n",
        "        \"age\" : 12,\n",
        "        \"city\" : \"Islamabad\"\n",
        "    },\n",
        "    {\n",
        "        \"name\" : \"Yousaf\",\n",
        "        \"age\" : 15,\n",
        "        \"city\" : \"Karachi\"\n",
        "    },\n",
        "    {\n",
        "        \"name\" : \"Hamdan\",\n",
        "        \"age\" : 10,\n",
        "        \"city\" : \"Lahore\"\n",
        "    }\n",
        "]\n",
        "\n",
        "print(user[1])"
      ],
      "metadata": {
        "id": "16glP5nb5hs2",
        "colab": {
          "base_uri": "https://localhost:8080/"
        },
        "outputId": "3196e302-0421-4fc4-f8f6-2f0c32c12aa0"
      },
      "execution_count": null,
      "outputs": [
        {
          "output_type": "stream",
          "name": "stdout",
          "text": [
            "{'name': 'Yousaf', 'age': 15, 'city': 'Karachi'}\n"
          ]
        }
      ]
    },
    {
      "cell_type": "markdown",
      "source": [
        "# Loops"
      ],
      "metadata": {
        "id": "jKbl7yXmnQrO"
      }
    },
    {
      "cell_type": "markdown",
      "source": [
        "# Assigment Operator\n",
        "![62ad74bb34d6b40c0a0965944ccbb798ebe6d125-2813x2033.avif](data:image/avif;base64,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)"
      ],
      "metadata": {
        "id": "Xb0yMKnAnVtn"
      }
    },
    {
      "cell_type": "code",
      "source": [
        "countdown = 10\n",
        "\n",
        "while countdown >= 1:\n",
        "  print(f\"{countdown}...\")\n",
        "  countdown -= 1\n",
        "\n",
        "print(\"Happy New Year!!!\")"
      ],
      "metadata": {
        "id": "6b4eSadFO0M4",
        "colab": {
          "base_uri": "https://localhost:8080/"
        },
        "outputId": "ef72f033-e1ff-4e6c-f303-09f8c5057a3b"
      },
      "execution_count": null,
      "outputs": [
        {
          "output_type": "stream",
          "name": "stdout",
          "text": [
            "10...\n",
            "9...\n",
            "8...\n",
            "7...\n",
            "6...\n",
            "5...\n",
            "4...\n",
            "3...\n",
            "2...\n",
            "1...\n",
            "Happy New Year!!!\n"
          ]
        }
      ]
    },
    {
      "cell_type": "code",
      "source": [
        "numbers = [1, 2, 3, 4, 5]\n",
        "\n",
        "#    1\n",
        "for num in numbers:\n",
        "  print( num ** 2 )"
      ],
      "metadata": {
        "colab": {
          "base_uri": "https://localhost:8080/"
        },
        "id": "FQtEeFHFZ6jk",
        "outputId": "3c724f3c-30ea-4a4b-9d4b-bfd83d345ec6"
      },
      "execution_count": null,
      "outputs": [
        {
          "output_type": "stream",
          "name": "stdout",
          "text": [
            "1\n",
            "4\n",
            "9\n",
            "16\n",
            "25\n"
          ]
        }
      ]
    },
    {
      "cell_type": "markdown",
      "source": [
        "# Error handling in python"
      ],
      "metadata": {
        "id": "feVi4X4X7CvC"
      }
    },
    {
      "cell_type": "code",
      "source": [
        "try:\n",
        "  print(10/0)\n",
        "\n",
        "except ZeroDivisionError:\n",
        "  print(\"can not divided by zero\")"
      ],
      "metadata": {
        "colab": {
          "base_uri": "https://localhost:8080/"
        },
        "id": "y5Ry54K8R3DA",
        "outputId": "dad1ed88-01b4-4e55-a5ee-b9f94f670b2b"
      },
      "execution_count": null,
      "outputs": [
        {
          "output_type": "stream",
          "name": "stdout",
          "text": [
            "can not divided by zero\n"
          ]
        }
      ]
    },
    {
      "cell_type": "code",
      "source": [
        "try:\n",
        "  num = int(input(\"Enter the number: \"))\n",
        "  result = num / 10\n",
        "  print(f\"Result is: {result}\")\n",
        "\n",
        "except ZeroDivisionError:\n",
        "  print(\"can not divided by zero\")\n",
        "\n",
        "# except ValueError:\n",
        "#   print(\"only number are accepted\")\n",
        "\n",
        "except Exception as e:\n",
        "  # print(f\"An error occurred: {e}\")\n",
        "  print(\"some error happend\")"
      ],
      "metadata": {
        "id": "Zgs-rlyzgalv",
        "colab": {
          "base_uri": "https://localhost:8080/"
        },
        "outputId": "46ccfb2d-3333-4142-a090-6bc60a61200a"
      },
      "execution_count": null,
      "outputs": [
        {
          "output_type": "stream",
          "name": "stdout",
          "text": [
            "Enter the number: 101\n",
            "Result is: 10.1\n"
          ]
        }
      ]
    },
    {
      "cell_type": "code",
      "source": [
        "import greetings\n",
        "\n",
        "print(greetings.say_hello)"
      ],
      "metadata": {
        "id": "x_xJcE2B-ZJq",
        "colab": {
          "base_uri": "https://localhost:8080/"
        },
        "outputId": "7036edee-595e-47fb-8c8d-1f2038fc8ada"
      },
      "execution_count": null,
      "outputs": [
        {
          "output_type": "stream",
          "name": "stdout",
          "text": [
            "Hello world\n"
          ]
        }
      ]
    },
    {
      "cell_type": "code",
      "source": [
        "from greetings import say_hello\n",
        "\n",
        "say_hello"
      ],
      "metadata": {
        "colab": {
          "base_uri": "https://localhost:8080/",
          "height": 35
        },
        "id": "cMMecQkdn6nn",
        "outputId": "6b7dc14d-d9e7-4bc5-ad47-f57df1876aef"
      },
      "execution_count": null,
      "outputs": [
        {
          "output_type": "execute_result",
          "data": {
            "text/plain": [
              "'Hello world'"
            ],
            "application/vnd.google.colaboratory.intrinsic+json": {
              "type": "string"
            }
          },
          "metadata": {},
          "execution_count": 25
        }
      ]
    },
    {
      "cell_type": "markdown",
      "source": [
        "# File Handling"
      ],
      "metadata": {
        "id": "EHArmKM5DutP"
      }
    },
    {
      "cell_type": "code",
      "source": [
        "file = open(\"shahab.txt\", \"a+\")\n",
        "\n",
        "file.write(\" Hello Shahab ud din \")\n",
        "file.seek(0)\n",
        "line = file.read()\n",
        "print(line)\n",
        "file.close()"
      ],
      "metadata": {
        "id": "chfYeAwHoLva",
        "colab": {
          "base_uri": "https://localhost:8080/"
        },
        "outputId": "81408032-61af-4844-d9ed-cad208dc3e36"
      },
      "execution_count": null,
      "outputs": [
        {
          "output_type": "stream",
          "name": "stdout",
          "text": [
            " Hello Shahab ud din  Hello Shahab ud din \n"
          ]
        }
      ]
    },
    {
      "cell_type": "code",
      "source": [
        "with open (\"hamdan.txt\", \"w+\") as newfile:\n",
        "  newfile.write(\"\\nHello M hamdan\")\n",
        "  newfile.seek(0)\n",
        "  line = newfile.read()\n",
        "  print(line)"
      ],
      "metadata": {
        "colab": {
          "base_uri": "https://localhost:8080/"
        },
        "id": "nLP4txflQ8-b",
        "outputId": "3a00c6fc-d454-4415-f8ed-d9f9d29ff822"
      },
      "execution_count": null,
      "outputs": [
        {
          "output_type": "stream",
          "name": "stdout",
          "text": [
            "\n",
            "Hello M hamdan\n"
          ]
        }
      ]
    },
    {
      "cell_type": "code",
      "source": [
        "from google.colab import files\n",
        "uploaded = files.upload()"
      ],
      "metadata": {
        "colab": {
          "base_uri": "https://localhost:8080/",
          "height": 73
        },
        "id": "9JpqqY5eFlFL",
        "outputId": "cbdaf1ca-873c-4120-8aba-5182282f6d8f"
      },
      "execution_count": null,
      "outputs": [
        {
          "output_type": "display_data",
          "data": {
            "text/plain": [
              "<IPython.core.display.HTML object>"
            ],
            "text/html": [
              "\n",
              "     <input type=\"file\" id=\"files-55ac4d6c-c73a-4d6c-a5ab-69fb8b26c3a2\" name=\"files[]\" multiple disabled\n",
              "        style=\"border:none\" />\n",
              "     <output id=\"result-55ac4d6c-c73a-4d6c-a5ab-69fb8b26c3a2\">\n",
              "      Upload widget is only available when the cell has been executed in the\n",
              "      current browser session. Please rerun this cell to enable.\n",
              "      </output>\n",
              "      <script>// Copyright 2017 Google LLC\n",
              "//\n",
              "// Licensed under the Apache License, Version 2.0 (the \"License\");\n",
              "// you may not use this file except in compliance with the License.\n",
              "// You may obtain a copy of the License at\n",
              "//\n",
              "//      http://www.apache.org/licenses/LICENSE-2.0\n",
              "//\n",
              "// Unless required by applicable law or agreed to in writing, software\n",
              "// distributed under the License is distributed on an \"AS IS\" BASIS,\n",
              "// WITHOUT WARRANTIES OR CONDITIONS OF ANY KIND, either express or implied.\n",
              "// See the License for the specific language governing permissions and\n",
              "// limitations under the License.\n",
              "\n",
              "/**\n",
              " * @fileoverview Helpers for google.colab Python module.\n",
              " */\n",
              "(function(scope) {\n",
              "function span(text, styleAttributes = {}) {\n",
              "  const element = document.createElement('span');\n",
              "  element.textContent = text;\n",
              "  for (const key of Object.keys(styleAttributes)) {\n",
              "    element.style[key] = styleAttributes[key];\n",
              "  }\n",
              "  return element;\n",
              "}\n",
              "\n",
              "// Max number of bytes which will be uploaded at a time.\n",
              "const MAX_PAYLOAD_SIZE = 100 * 1024;\n",
              "\n",
              "function _uploadFiles(inputId, outputId) {\n",
              "  const steps = uploadFilesStep(inputId, outputId);\n",
              "  const outputElement = document.getElementById(outputId);\n",
              "  // Cache steps on the outputElement to make it available for the next call\n",
              "  // to uploadFilesContinue from Python.\n",
              "  outputElement.steps = steps;\n",
              "\n",
              "  return _uploadFilesContinue(outputId);\n",
              "}\n",
              "\n",
              "// This is roughly an async generator (not supported in the browser yet),\n",
              "// where there are multiple asynchronous steps and the Python side is going\n",
              "// to poll for completion of each step.\n",
              "// This uses a Promise to block the python side on completion of each step,\n",
              "// then passes the result of the previous step as the input to the next step.\n",
              "function _uploadFilesContinue(outputId) {\n",
              "  const outputElement = document.getElementById(outputId);\n",
              "  const steps = outputElement.steps;\n",
              "\n",
              "  const next = steps.next(outputElement.lastPromiseValue);\n",
              "  return Promise.resolve(next.value.promise).then((value) => {\n",
              "    // Cache the last promise value to make it available to the next\n",
              "    // step of the generator.\n",
              "    outputElement.lastPromiseValue = value;\n",
              "    return next.value.response;\n",
              "  });\n",
              "}\n",
              "\n",
              "/**\n",
              " * Generator function which is called between each async step of the upload\n",
              " * process.\n",
              " * @param {string} inputId Element ID of the input file picker element.\n",
              " * @param {string} outputId Element ID of the output display.\n",
              " * @return {!Iterable<!Object>} Iterable of next steps.\n",
              " */\n",
              "function* uploadFilesStep(inputId, outputId) {\n",
              "  const inputElement = document.getElementById(inputId);\n",
              "  inputElement.disabled = false;\n",
              "\n",
              "  const outputElement = document.getElementById(outputId);\n",
              "  outputElement.innerHTML = '';\n",
              "\n",
              "  const pickedPromise = new Promise((resolve) => {\n",
              "    inputElement.addEventListener('change', (e) => {\n",
              "      resolve(e.target.files);\n",
              "    });\n",
              "  });\n",
              "\n",
              "  const cancel = document.createElement('button');\n",
              "  inputElement.parentElement.appendChild(cancel);\n",
              "  cancel.textContent = 'Cancel upload';\n",
              "  const cancelPromise = new Promise((resolve) => {\n",
              "    cancel.onclick = () => {\n",
              "      resolve(null);\n",
              "    };\n",
              "  });\n",
              "\n",
              "  // Wait for the user to pick the files.\n",
              "  const files = yield {\n",
              "    promise: Promise.race([pickedPromise, cancelPromise]),\n",
              "    response: {\n",
              "      action: 'starting',\n",
              "    }\n",
              "  };\n",
              "\n",
              "  cancel.remove();\n",
              "\n",
              "  // Disable the input element since further picks are not allowed.\n",
              "  inputElement.disabled = true;\n",
              "\n",
              "  if (!files) {\n",
              "    return {\n",
              "      response: {\n",
              "        action: 'complete',\n",
              "      }\n",
              "    };\n",
              "  }\n",
              "\n",
              "  for (const file of files) {\n",
              "    const li = document.createElement('li');\n",
              "    li.append(span(file.name, {fontWeight: 'bold'}));\n",
              "    li.append(span(\n",
              "        `(${file.type || 'n/a'}) - ${file.size} bytes, ` +\n",
              "        `last modified: ${\n",
              "            file.lastModifiedDate ? file.lastModifiedDate.toLocaleDateString() :\n",
              "                                    'n/a'} - `));\n",
              "    const percent = span('0% done');\n",
              "    li.appendChild(percent);\n",
              "\n",
              "    outputElement.appendChild(li);\n",
              "\n",
              "    const fileDataPromise = new Promise((resolve) => {\n",
              "      const reader = new FileReader();\n",
              "      reader.onload = (e) => {\n",
              "        resolve(e.target.result);\n",
              "      };\n",
              "      reader.readAsArrayBuffer(file);\n",
              "    });\n",
              "    // Wait for the data to be ready.\n",
              "    let fileData = yield {\n",
              "      promise: fileDataPromise,\n",
              "      response: {\n",
              "        action: 'continue',\n",
              "      }\n",
              "    };\n",
              "\n",
              "    // Use a chunked sending to avoid message size limits. See b/62115660.\n",
              "    let position = 0;\n",
              "    do {\n",
              "      const length = Math.min(fileData.byteLength - position, MAX_PAYLOAD_SIZE);\n",
              "      const chunk = new Uint8Array(fileData, position, length);\n",
              "      position += length;\n",
              "\n",
              "      const base64 = btoa(String.fromCharCode.apply(null, chunk));\n",
              "      yield {\n",
              "        response: {\n",
              "          action: 'append',\n",
              "          file: file.name,\n",
              "          data: base64,\n",
              "        },\n",
              "      };\n",
              "\n",
              "      let percentDone = fileData.byteLength === 0 ?\n",
              "          100 :\n",
              "          Math.round((position / fileData.byteLength) * 100);\n",
              "      percent.textContent = `${percentDone}% done`;\n",
              "\n",
              "    } while (position < fileData.byteLength);\n",
              "  }\n",
              "\n",
              "  // All done.\n",
              "  yield {\n",
              "    response: {\n",
              "      action: 'complete',\n",
              "    }\n",
              "  };\n",
              "}\n",
              "\n",
              "scope.google = scope.google || {};\n",
              "scope.google.colab = scope.google.colab || {};\n",
              "scope.google.colab._files = {\n",
              "  _uploadFiles,\n",
              "  _uploadFilesContinue,\n",
              "};\n",
              "})(self);\n",
              "</script> "
            ]
          },
          "metadata": {}
        },
        {
          "output_type": "stream",
          "name": "stdout",
          "text": [
            "Saving pic_11zon (1).jpg to pic_11zon (1).jpg\n"
          ]
        }
      ]
    },
    {
      "cell_type": "code",
      "source": [
        "# prompt: create a csv file with three columns name, number and address with python\n",
        "\n",
        "import csv\n",
        "\n",
        "data = [\n",
        "    {'name': 'John Doe', 'number': 12345, 'address': '123 Main St'},\n",
        "    {'name': 'Jane Smith', 'number': 67890, 'address': '456 Oak Ave'},\n",
        "    {'name': 'Peter Jones', 'number': 13579, 'address': '789 Pine Ln'}\n",
        "]\n",
        "\n",
        "filename = \"my_data.csv\"\n",
        "\n",
        "with open(filename, 'w', newline='') as csvfile:\n",
        "    fieldnames = ['name', 'number', 'address']\n",
        "    writer = csv.DictWriter(csvfile, fieldnames=fieldnames)\n",
        "\n",
        "    writer.writeheader()\n",
        "    writer.writerows(data)\n",
        "\n",
        "print(f\"CSV file '{filename}' created successfully.\")\n"
      ],
      "metadata": {
        "colab": {
          "base_uri": "https://localhost:8080/"
        },
        "id": "DPWeBFMlGtvz",
        "outputId": "458f16f9-54f6-47c1-cfa2-cd34f7fac2c0"
      },
      "execution_count": null,
      "outputs": [
        {
          "output_type": "stream",
          "name": "stdout",
          "text": [
            "CSV file 'my_data.csv' created successfully.\n"
          ]
        }
      ]
    },
    {
      "cell_type": "code",
      "source": [
        "# prompt: create a simple dice(ludo) game for fun\n",
        "\n",
        "import random\n",
        "\n",
        "def roll_dice():\n",
        "    \"\"\"Simulates rolling a six-sided die.\"\"\"\n",
        "    return random.randint(1, 6)\n",
        "\n",
        "def ludo_game():\n",
        "    \"\"\"Plays a simple Ludo game.\"\"\"\n",
        "    players = [\"Player 1\", \"Player 2\"]  # Can easily expand to more players\n",
        "    player_positions = {player: 0 for player in players}\n",
        "    winning_position = 30 # Define winning position\n",
        "\n",
        "    print(\"Welcome to Ludo!\")\n",
        "    while True:\n",
        "        for player in players:\n",
        "            input(f\"{player}, press Enter to roll the dice...\")\n",
        "            dice_roll = roll_dice()\n",
        "            print(f\"{player} rolled a {dice_roll}.\")\n",
        "            player_positions[player] += dice_roll\n",
        "            if player_positions[player] >= winning_position:\n",
        "              print(f\"{player} wins!\")\n",
        "              return\n",
        "\n",
        "            print(f\"{player} is now at position {player_positions[player]}.\")\n",
        "ludo_game()\n"
      ],
      "metadata": {
        "colab": {
          "base_uri": "https://localhost:8080/"
        },
        "id": "gyRxPCvsRV0g",
        "outputId": "be92b2f6-70b4-4920-99b2-e929ec0a6288"
      },
      "execution_count": null,
      "outputs": [
        {
          "output_type": "stream",
          "name": "stdout",
          "text": [
            "Welcome to Ludo!\n",
            "Player 1, press Enter to roll the dice...\n",
            "Player 1 rolled a 6.\n",
            "Player 1 is now at position 6.\n",
            "Player 2, press Enter to roll the dice...\n",
            "Player 2 rolled a 6.\n",
            "Player 2 is now at position 6.\n",
            "Player 1, press Enter to roll the dice...\n",
            "Player 1 rolled a 5.\n",
            "Player 1 is now at position 11.\n",
            "Player 2, press Enter to roll the dice...\n",
            "Player 2 rolled a 2.\n",
            "Player 2 is now at position 8.\n",
            "Player 1, press Enter to roll the dice...\n",
            "Player 1 rolled a 6.\n",
            "Player 1 is now at position 17.\n",
            "Player 2, press Enter to roll the dice...\n",
            "Player 2 rolled a 2.\n",
            "Player 2 is now at position 10.\n",
            "Player 1, press Enter to roll the dice...\n",
            "Player 1 rolled a 3.\n",
            "Player 1 is now at position 20.\n",
            "Player 2, press Enter to roll the dice...\n",
            "Player 2 rolled a 6.\n",
            "Player 2 is now at position 16.\n",
            "Player 1, press Enter to roll the dice...\n",
            "Player 1 rolled a 4.\n",
            "Player 1 is now at position 24.\n",
            "Player 2, press Enter to roll the dice...\n",
            "Player 2 rolled a 6.\n",
            "Player 2 is now at position 22.\n",
            "Player 1, press Enter to roll the dice...\n",
            "Player 1 rolled a 5.\n",
            "Player 1 is now at position 29.\n",
            "Player 2, press Enter to roll the dice...\n",
            "Player 2 rolled a 5.\n",
            "Player 2 is now at position 27.\n",
            "Player 1, press Enter to roll the dice...\n",
            "Player 1 rolled a 6.\n",
            "Player 1 wins!\n"
          ]
        }
      ]
    },
    {
      "cell_type": "markdown",
      "source": [
        "## Object Oriented programming in python"
      ],
      "metadata": {
        "id": "IhRMzliHZ_Ir"
      }
    },
    {
      "cell_type": "code",
      "source": [
        "# this is a class\n",
        "class House:\n",
        "    # properities\n",
        "  adress: str\n",
        "  numbers_of_rooms: int = 4\n",
        "  numbers_of_doors: int = 3\n",
        "\n",
        "  def __init__(self, address: str):\n",
        "    self.adress = address\n",
        "    print(\"this is a constructor\")\n",
        "\n",
        "    # methods\n",
        "  def ring_bell(self):\n",
        "    print(self.adress)\n",
        "    print(\"Ding Dong\")\n",
        "\n",
        "# this is an object\n",
        "shahab_house = House(\"House no: 231\")\n",
        "print(f\"Shahab House Address: {shahab_house.adress}\")\n",
        "shahab_house.ring_bell()\n",
        "\n",
        "# hamdan_house = House(\"House no: 2121\")\n",
        "# print(f\"Hamdan house Address: {hamdan_house.adress}\")"
      ],
      "metadata": {
        "colab": {
          "base_uri": "https://localhost:8080/"
        },
        "id": "1SXSdh65Z-ca",
        "outputId": "5b71da59-7a47-4557-e48e-d9cb4ae082a4"
      },
      "execution_count": 2,
      "outputs": [
        {
          "output_type": "stream",
          "name": "stdout",
          "text": [
            "this is a constructor\n",
            "Shahab House Address: House no: 231\n",
            "House no: 231\n",
            "Ding Dong\n"
          ]
        }
      ]
    },
    {
      "cell_type": "code",
      "source": [],
      "metadata": {
        "id": "QAmnoxAOarCT"
      },
      "execution_count": null,
      "outputs": []
    }
  ]
}
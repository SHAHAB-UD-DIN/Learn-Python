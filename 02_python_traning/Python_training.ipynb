{
  "nbformat": 4,
  "nbformat_minor": 0,
  "metadata": {
    "colab": {
      "provenance": [],
      "authorship_tag": "ABX9TyOqElPxkGEH62MNCp25k/oU",
      "include_colab_link": true
    },
    "kernelspec": {
      "name": "python3",
      "display_name": "Python 3"
    },
    "language_info": {
      "name": "python"
    }
  },
  "cells": [
    {
      "cell_type": "markdown",
      "metadata": {
        "id": "view-in-github",
        "colab_type": "text"
      },
      "source": [
        "<a href=\"https://colab.research.google.com/github/SHAHAB-UD-DIN/Learn-Python/blob/main/02_python_traning/Python_training.ipynb\" target=\"_parent\"><img src=\"https://colab.research.google.com/assets/colab-badge.svg\" alt=\"Open In Colab\"/></a>"
      ]
    },
    {
      "cell_type": "markdown",
      "source": [
        "Python is a popular programming language. It was created by Guido van Rossum, and released in 1991.\n",
        "\n",
        "### It is used for:\n",
        "- web development (server-side).\n",
        "- software development.\n",
        "- mathematics.\n",
        "- system scripting.\n",
        "\n",
        "\n"
      ],
      "metadata": {
        "id": "ZpU9GC0PV6QW"
      }
    },
    {
      "cell_type": "code",
      "source": [
        "print(\"Hello, World!\")"
      ],
      "metadata": {
        "colab": {
          "base_uri": "https://localhost:8080/"
        },
        "id": "xxR-oK2BXcL5",
        "outputId": "23eec8b4-89ec-4562-ac9e-26dc546ffb15"
      },
      "execution_count": null,
      "outputs": [
        {
          "output_type": "stream",
          "name": "stdout",
          "text": [
            "Hello, World!\n"
          ]
        }
      ]
    },
    {
      "cell_type": "markdown",
      "source": [
        "## Python Indentation\n",
        "Indentation refers to the spaces at the beginning of a code line.\n",
        "\n",
        "Where in other programming languages the indentation in code is for readability only, the indentation in Python is very important.\n",
        "\n",
        "Python uses indentation to indicate a block of code."
      ],
      "metadata": {
        "id": "hGbH0oEKZIQw"
      }
    },
    {
      "cell_type": "code",
      "source": [
        "if 5 > 2:\n",
        "  print(\"Five is greater than two!\")"
      ],
      "metadata": {
        "colab": {
          "base_uri": "https://localhost:8080/"
        },
        "id": "V5XCKgTeZWqY",
        "outputId": "dd964a7b-0b15-4c45-8a6e-e5270d0620c6"
      },
      "execution_count": null,
      "outputs": [
        {
          "output_type": "stream",
          "name": "stdout",
          "text": [
            "Five is greater than two!\n"
          ]
        }
      ]
    },
    {
      "cell_type": "markdown",
      "source": [
        "Python will give you an error if you skip the indentation:"
      ],
      "metadata": {
        "id": "e1z7YoltZrvU"
      }
    },
    {
      "cell_type": "code",
      "source": [
        "if 5 > 2:\n",
        "print(\"Five is greater than two!\")"
      ],
      "metadata": {
        "colab": {
          "base_uri": "https://localhost:8080/"
        },
        "id": "qx7JZE_bZz6U",
        "outputId": "1f95df38-574f-4675-90da-07365751793c"
      },
      "execution_count": null,
      "outputs": [
        {
          "output_type": "stream",
          "name": "stdout",
          "text": [
            "Five is greater than two!\n"
          ]
        }
      ]
    },
    {
      "cell_type": "markdown",
      "source": [
        "The number of spaces is up to you as a programmer, the most common use is four, but it has to be at least one."
      ],
      "metadata": {
        "id": "oodK1k8AZ_3l"
      }
    },
    {
      "cell_type": "code",
      "source": [
        "if 5 > 2:\n",
        " print(\"Five is greater than two!\")\n",
        "if 5 > 2:\n",
        "        print(\"Five is greater than two!\")"
      ],
      "metadata": {
        "id": "G0wezF1hadJ6"
      },
      "execution_count": null,
      "outputs": []
    },
    {
      "cell_type": "markdown",
      "source": [
        "You have to use the same number of spaces in the same block of code, otherwise Python will give you an error:"
      ],
      "metadata": {
        "id": "Mw-vs2c2asRL"
      }
    },
    {
      "cell_type": "code",
      "source": [
        "if 5 > 2:\n",
        " print(\"Five is greater than two!\")\n",
        "        print(\"Five is greater than two!\")"
      ],
      "metadata": {
        "id": "n5qMU9d1a-e4"
      },
      "execution_count": null,
      "outputs": []
    },
    {
      "cell_type": "markdown",
      "source": [
        "## Python Comments\n",
        "Comments can be used to explain Python code.\n",
        "\n",
        "Comments can be used to make the code more readable.\n",
        "\n",
        "Comments can be used to prevent execution when testing code."
      ],
      "metadata": {
        "id": "RNF-5V0ibFB2"
      }
    },
    {
      "cell_type": "code",
      "source": [
        "#This is a comment\n",
        "print(\"Hello, World!\")\n",
        "\n",
        "print(\"Hello, World!\") #Comments can be placed at the end of a line, and Python will ignore the rest of the line.\n",
        "\n",
        "#Multiline Comments\n",
        "#Python does not really have a syntax for multiline comments.\n",
        "#To add a multiline comment you could insert a # for each line.\n",
        "print(\"Hello, World!\")\n",
        "\n",
        "\"\"\"\n",
        "Or, not quite as intended, you can use a multiline string.\n",
        "\n",
        "Since Python will ignore string literals that are not assigned to a variable, you can add a multiline string (triple quotes) in your code, and place your comment inside it\n",
        "\"\"\"\n",
        "print(\"Hello, World!\")"
      ],
      "metadata": {
        "id": "g4wPI4lQbbBo"
      },
      "execution_count": null,
      "outputs": []
    },
    {
      "cell_type": "markdown",
      "source": [],
      "metadata": {
        "id": "VAmgAgclc2xE"
      }
    },
    {
      "cell_type": "code",
      "source": [
        "favorite_food = \"Biryani\";\n",
        "favorite_game = \"Cricket\";\n",
        "favorite_person = \"Shahrukh\";\n",
        "print(favorite_food);\n",
        "print(favorite_game);\n",
        "print(favorite_person);"
      ],
      "metadata": {
        "colab": {
          "base_uri": "https://localhost:8080/"
        },
        "id": "-UF-YeiW-x6p",
        "outputId": "eca07c41-9803-4f8a-d548-fa20bf2e5674"
      },
      "execution_count": null,
      "outputs": [
        {
          "output_type": "stream",
          "name": "stdout",
          "text": [
            "Biryani\n",
            "Cricket\n",
            "Shahrukh\n"
          ]
        }
      ]
    },
    {
      "cell_type": "code",
      "source": [
        "name = \"Shahab\";\n",
        "number = 9;\n",
        "number_01 = 0.9;\n",
        "\n",
        "print(type(name))\n",
        "print(type(number))\n",
        "print(type(number_01))\n",
        "print(f\"My name is {name} and my favorite number is {number}\")"
      ],
      "metadata": {
        "colab": {
          "base_uri": "https://localhost:8080/"
        },
        "id": "Te1ON1jCqy-H",
        "outputId": "fe63449c-2689-45de-c60b-778b3a63c645"
      },
      "execution_count": null,
      "outputs": [
        {
          "output_type": "stream",
          "name": "stdout",
          "text": [
            "<class 'str'>\n",
            "<class 'int'>\n",
            "<class 'float'>\n",
            "My name is Shahab and my favorite number is 9\n"
          ]
        }
      ]
    },
    {
      "cell_type": "code",
      "source": [
        "paragraph = \"My name is Shahab\"\n",
        "paragraph_01 = \"\"\"My name is Shahab,\n",
        "My favorite numner is 12,\n",
        "My favorite game is cricket.\"\"\"\n",
        "\n",
        "print(paragraph)\n",
        "print(\" \")\n",
        "print(paragraph_01)"
      ],
      "metadata": {
        "colab": {
          "base_uri": "https://localhost:8080/"
        },
        "id": "sA-BoFviul6C",
        "outputId": "996d44e0-ca9c-4fd6-84e4-9961aa604a15"
      },
      "execution_count": null,
      "outputs": [
        {
          "output_type": "stream",
          "name": "stdout",
          "text": [
            "My name is Shahab\n",
            " \n",
            "My name is Shahab,\n",
            "My favorite numner is 12,\n",
            "My favorite game is cricket.\n"
          ]
        }
      ]
    },
    {
      "cell_type": "code",
      "source": [
        "first_name = \"Hamdan\"\n",
        "\n",
        "print(\n",
        "f\"\"\"\n",
        "Hi {first_name},\n",
        "Welcome to Python Programming.\n",
        "Hope you are doing good.\n",
        "Best Regards,\n",
        "Shahab Ud Din\n",
        "\"\"\"\n",
        ")"
      ],
      "metadata": {
        "id": "Iz-7cUe9xGQM",
        "colab": {
          "base_uri": "https://localhost:8080/"
        },
        "outputId": "d9e0486f-317f-4552-c008-8a21267e7bf6"
      },
      "execution_count": null,
      "outputs": [
        {
          "output_type": "stream",
          "name": "stdout",
          "text": [
            "\n",
            "Hi Hamdan,\n",
            "Welcome to Python Programming.\n",
            "Hope you are doing good.\n",
            "Best Regards,\n",
            "Shahab Ud Din\n",
            "\n"
          ]
        }
      ]
    },
    {
      "cell_type": "code",
      "source": [
        "# Addition\n",
        "a = 12\n",
        "b = 3\n",
        "result = a + b\n",
        "print(\"Addition:\",result)"
      ],
      "metadata": {
        "colab": {
          "base_uri": "https://localhost:8080/"
        },
        "id": "FZAtvAgonAsh",
        "outputId": "6026bca6-b4f0-4b6f-8f93-25ce9351aae9"
      },
      "execution_count": null,
      "outputs": [
        {
          "output_type": "stream",
          "name": "stdout",
          "text": [
            "Addition: 15\n"
          ]
        }
      ]
    },
    {
      "cell_type": "code",
      "source": [
        "# Subtraction\n",
        "item1 = 10\n",
        "item2 = 5\n",
        "result = item1 - item2\n",
        "print(\"Subtraction:\",result)"
      ],
      "metadata": {
        "colab": {
          "base_uri": "https://localhost:8080/"
        },
        "id": "p5wmBiaBoiYN",
        "outputId": "e50c9fab-1c90-4236-d030-2c20ddcf3ad8"
      },
      "execution_count": null,
      "outputs": [
        {
          "output_type": "stream",
          "name": "stdout",
          "text": [
            "Subtraction: 5\n"
          ]
        }
      ]
    },
    {
      "cell_type": "code",
      "source": [
        "# Multiplication\n",
        "X = 13\n",
        "Y = 5\n",
        "result = X * Y\n",
        "print(\"Multiplication:\",result)"
      ],
      "metadata": {
        "colab": {
          "base_uri": "https://localhost:8080/"
        },
        "id": "v9WSCTrTo5TM",
        "outputId": "618042ce-06fa-449f-cfc1-d844488257d4"
      },
      "execution_count": null,
      "outputs": [
        {
          "output_type": "stream",
          "name": "stdout",
          "text": [
            "Multiplication: 65\n"
          ]
        }
      ]
    },
    {
      "cell_type": "code",
      "source": [
        "# Division\n",
        "a = 12\n",
        "b = 3\n",
        "result = a / b\n",
        "print(\"Division:\",result)"
      ],
      "metadata": {
        "colab": {
          "base_uri": "https://localhost:8080/"
        },
        "id": "elzUYtRRpJNi",
        "outputId": "9c21c444-d71c-4360-90cb-fac37958abf0"
      },
      "execution_count": null,
      "outputs": [
        {
          "output_type": "stream",
          "name": "stdout",
          "text": [
            "Division: 4.0\n"
          ]
        }
      ]
    },
    {
      "cell_type": "code",
      "source": [
        "# Modulus\n",
        "a = 12\n",
        "b = 5\n",
        "result = a % b\n",
        "print(\"Modulus:\",result)"
      ],
      "metadata": {
        "colab": {
          "base_uri": "https://localhost:8080/"
        },
        "id": "VHKmG6cqqEOV",
        "outputId": "bdc6e743-24c6-4c36-e77d-d9b0de957ba9"
      },
      "execution_count": null,
      "outputs": [
        {
          "output_type": "stream",
          "name": "stdout",
          "text": [
            "Modulus: 2\n"
          ]
        }
      ]
    },
    {
      "cell_type": "code",
      "source": [
        "num1 = 5;\n",
        "print(num1 ** 3)"
      ],
      "metadata": {
        "colab": {
          "base_uri": "https://localhost:8080/"
        },
        "id": "azNbNMuys69i",
        "outputId": "f8775157-adb8-4412-d345-2f4560474633"
      },
      "execution_count": null,
      "outputs": [
        {
          "output_type": "stream",
          "name": "stdout",
          "text": [
            "125\n"
          ]
        }
      ]
    },
    {
      "cell_type": "markdown",
      "source": [
        "**Assigment Question 01**\n",
        "![Screenshot 2025-01-16 090645.jpg](data:image/jpeg;base64,/9j/4AAQSkZJRgABAQEAkACQAAD/2wBDAAMCAgMCAgMDAwMEAwMEBQgFBQQEBQoHBwYIDAoMDAsKCwsNDhIQDQ4RDgsLEBYQERMUFRUVDA8XGBYUGBIUFRT/2wBDAQMEBAUEBQkFBQkUDQsNFBQUFBQUFBQUFBQUFBQUFBQUFBQUFBQUFBQUFBQUFBQUFBQUFBQUFBQUFBQUFBQUFBT/wAARCAFUBIwDASIAAhEBAxEB/8QAHwAAAQUBAQEBAQEAAAAAAAAAAAECAwQFBgcICQoL/8QAtRAAAgEDAwIEAwUFBAQAAAF9AQIDAAQRBRIhMUEGE1FhByJxFDKBkaEII0KxwRVS0fAkM2JyggkKFhcYGRolJicoKSo0NTY3ODk6Q0RFRkdISUpTVFVWV1hZWmNkZWZnaGlqc3R1dnd4eXqDhIWGh4iJipKTlJWWl5iZmqKjpKWmp6ipqrKztLW2t7i5usLDxMXGx8jJytLT1NXW19jZ2uHi4+Tl5ufo6erx8vP09fb3+Pn6/8QAHwEAAwEBAQEBAQEBAQAAAAAAAAECAwQFBgcICQoL/8QAtREAAgECBAQDBAcFBAQAAQJ3AAECAxEEBSExBhJBUQdhcRMiMoEIFEKRobHBCSMzUvAVYnLRChYkNOEl8RcYGRomJygpKjU2Nzg5OkNERUZHSElKU1RVVldYWVpjZGVmZ2hpanN0dXZ3eHl6goOEhYaHiImKkpOUlZaXmJmaoqOkpaanqKmqsrO0tba3uLm6wsPExcbHyMnK0tPU1dbX2Nna4uPk5ebn6Onq8vP09fb3+Pn6/9oADAMBAAIRAxEAPwD9Q6KKKACiiigAooooAKKKKACiiigAooooAKKKKACiiigAooooAKKKKACiiigAooooAKKKKACiiigAooooAKKKKACiiigAooooAKKKKACiiigAooooAKKKKACiiigAooooAKKKKACiiigAooooAKKKKACiiigAooooAKKKKACiiigAooooAKKKKACiiigAooooAKKKKACiiigAooooAKKKKACiiigAooooAKKKKACiiigAooooAKKKKACiiigAooooAKKKKACiiigAooooAKKKKACiiigAooooAKKKKACiiigAooooAKKKKACiiigAooooAKKKKACiiigAooooAKKKKACiiigAooooAKKKKACiiigAooooAKKKKACiiigAooooAKKKKACiiigAooooAKKKKACiiigAooooAKKKKACiiigAooooAKKKKACiiigAooooAKKKKACiiigAooooAKKKKACiiigAooooAKKKKACiiigAooooAKKKKACiiigAooooAKKKKACiiigAooooAKKKKACiiigAooooAKKKKACiiigAooooAKKKKACiiigAooooAKKKKACiiigAooooAKKKKACiiigAooooAKKKKACiiigAooooAKKKKACiiigAooooAKKKKACiiigB20UbRRRQAbRRtFFFABtFG0UUUAG0UmBS0UANooooAKKKKACiiigAooooAKKKKACiiigAooooAKKKKACiiigAooooAKKKKACiiigAooooAKKKKACiiigAooooAKKKKACiiigAooooAKKKKACiiigAooqpq12NP0u8uiMiGF5DxnopP9KAMnxV8Q/C3gXyB4k8SaToDT5MK6nex25kwcHaHYE49qnt/Gnh+88OnxBBrenz6EsbSnU47pGtggyCxkB2gAg9+1fMX7KPwn8O/G7wJ/wtr4haVZ+MfFPiq4muRPq9uk6WdskzxxW8KMNqKAv8IFbX7R3wb8IfCn9mj40Xng/RoNA/tjSvNvLW1d1tmkTgOsOSkbEEAlFGcAnOKAPpmGeO5hjlidZIpFDI6nIZSMgg9wR3qSvlWx/ad8Q/Dj4V+FPFWs/DC7tvh5IllZtq7axH/aEUbxoiTtZeXgRlyMYlLbTnaOg9s8feMfG2k6rplp4O8CR+K7e6jaWfULrWItPtrbGAqMdskhY8n5YyOmSDxQB31FeR/C/47XvxC0zxlBeeErjSPGPhOR4dQ8Nw3cdyZZDGZIBBcHYjiRcYLBcHOcYzXOX/AO0J458F33hm48e/DGPwx4e1zU49IF5a6+l/PaTysVg86FIVAViMFkkcKfWgD3+ivAtb/aW16b43eJvhf4S+H7+Itb0W3trp7241VLSzEciBmMjmNmTBKqoVXLkk4UKTVrwP+1Jp+reAfHviDxjos3gzUfAt1Na67pJuBdmEogdGjkVVEgkBG3gc+2CQD2jVtVstC0241DUruGwsLdd81zcOEjjX1ZjwKnWeJ7ZbhZEaBk8xZVYFSuM7gfTHevij9pr41ePPFn7KHivUdc+Fsnh3w3rVgq2t1FrMV3dQLI6+VLcQeWnlKwK/dZ2UlQQM5H114FhjuPh/odvLGkscum26vHIMqwMKggjuDQBmN8a/h4pYHx74ZBXqv9sW+R+G+tPw78RPCni+8ltNC8T6NrV1EnmvBp2oQ3DqmQNxVGJxkgZ9x618qfto/A/4d+D/AAR4Hu9H8D6BptxP400mGVrTToYzJDJI+6NiFyVPOQeK901bwTo3wT06bVfhp8JdN1PxFdlLVbXSBbaaWRsN+9nYDbGNik4DMSBhTQB6tupx461434J+OPiC8+Kf/Cv/ABt4Lh8Ia3daa2qabPZ6qNRtbuNGCyLu8qJldSfulemT6Zp+OfjV8TfBuna/rsnwkE3hTRi8s1zN4hhivZbaMnzZ4bdInVgEUuFeVGYcYU4FAHt9LXgnxE/aug8In4YHQfCl14wHj23ln0+OyuBFJkQpJEu1gRhjIu5mZQgDE5wRXUXnj74mQ+G9Cmt/hdDda9fNILu0HiKFbLT0Uja8tyY97Fgfuxwsc57DNAHqdUtW1vTtBtRc6nf22nW5dYhNdSrGhdjhVyxAyTwB3Nea/CP41ah448XeJ/Bvijw0PCfi7QFhmuLWG++2W8sMqkxyQzeXGWBxggopHvXn/wDwUG1CLTf2e47uYgQReINLeXapZii3KE4A5PHpzQB9Gatq1loOnTX+pXcNhYwLvlurmQRxxr6sx4A+tQr4i0ptQtLAalaG+u4Tc29t56+ZNEMZdFzllG5eRxyK+Z/Af2n9tW6tPFutSpY/CWwvH/sfw0sgeTV5onC/aL8AkBFZcrAep5bjrR+PHinU/CP7Znwvk0PQbjxJqs3hzUoLfTbWZIASZFwXkf5Y41CkknOMAAEkCgD63oryD4Z/HTVvFnxG8R+AfFXg4eEfFek2kOoxwWupjULe7tZCVWRJfKjx84K7WUHofpzvjL9oT4h/D3w3d+LfEHwj+weELKYC6b/hIYpdTitywH2g2yRNHgZB2+fuAPIHNAH0DRXhvxU/aYm8D+PPBXhDQvCF14q1fxXYzXViYbtLdAyBWUPvU7U27mZuSoXhWJxV/wCF/wAd9Y8VfFHXvh54v8HJ4P8AFOm2MWqQx2up/wBoW93ZudvmrKIo8EOCpUj6Z5wAeravreneH7NrzVL+202zVlVri8mWKMFiFUFmIAJJAHqTVtXV1BVlYHkFTkV5N+1N4o8O+Cfg5qOseKfC9v4w0iO6tI30q5YKjM86Ir5KtypbcOO3UVD4t+NesWXxOTwB4K8JQeJdctdMj1S+N/qw063tYHcpEobyZWkdircBeAvUUAew1Sk1rT4dVj0yS+t01KSFrhLNpVEzRqQrOEzkqCQCcY5FZHw/8Qa74l8OR3niPw0/hTVfMaOTT2vYrtcDo6SRnlW6jcFb1UV83/FzxTqvhP8Abo8KTaHoNx4k1m68CXNtZ6dDOsCySfbNxMkrAiOMKrEttY8YAJIFAH1j5yf3hR5iHgMK8c+HH7SN54g8VeN/C3jPwuPBPiHwnbx6hdKt/wDbrSWzdSROk3lx8DacgqMfnjk7f9rXxhfeAZ/iLb/Ca6m+Gyg3Kai2sRrqb2QJDXQsREcIMFtplDbRnHoAfSVAGSBXjnjP9oUWN14E0zwXo0XjLWPGVpJqGmCa/WwtTaoiO0rSlXI+WRcKqMTiuJ/aB+J/xTsf2dfiHff8IAvhzVLOxuYZruDxHG6w25gcm7tnEIZynACssbZ5B4oA+i9W1zTdBsJb7U9QtdOsYiFkurqZYokJOBl2IAySByetXVYOoZSGVhkMpyDXyXqXxP1uD9kG71z4qfDPT9V0G10XTHS1n10Xb6t5gjXzJR5A8lhuV/4yCevGa9A+IX7RE/w+8d+DPAPh3wLceI9T8Q6XJdWEFpfR20UJjKAI5ZNqRhCxLg5G0AIxNAHutFeNfDv4/wCpeIfiF4q8EeMfCMfgrxBoWnx6t+61QX9tcWbEgzCURR4wwIKlfxrl9B/aj8V+J/Cd5460r4XT3vw5hMksOq/2zEuoXVsgYNOll5fK5VvlMoYhcgEkAgH0bRXCfA34qRfGr4T+G/G8emtpKavbmf7C03mmLDspXftXP3fQfSoPHHjDx9pmuRad4S+H0fiK3EIml1W/1uOwtgSzARqBHLIzjaCfkC4YfN1wAehVSutb0+y1Kz064vreC/vQ5tbWSVVkn2DL7FJy20cnHQVxHwT+L8fxg8N6jeTaPN4d1rSdSm0jVtHnnSc2l3FtLoJF4dcMpDYGQegryv49Xltpv7WfwIvb26js7O1tdcmmuJnCJEgtVLMxPAAGTk9gaAPo/UNStdJsZ729uI7S0t0Ms08zBUjQDJZmPAAHUmnWV7b6lZwXdpPHc2s8ayxTQsGSRGAKsrDgggggjqDXzX8RPjS3xj/Z0+NGoaT4durfwhb6FfQaTr125T+18QSCSWOAqGWIEDa5PzZPAxXM+Bf2mvFHw5/Z18DeKbn4YyXHw+tNM0yzuNZOrpFeRxGOOJrlbPyzuj3/AHf3oZgQcAc0AfYNFeW+PvjTc6F4p0Lwl4U8OSeLfFusWjaklm92LSC0tFYKZp5tjlFLHaoCMScj3rP8O/tCQW1x4y07x7pg8F6z4Vsl1S+hjuxfW7WT7yk8UoRGZf3bKVKKwYAYOQSAexUV87/8NOeK9M8G2Xj3XPhm2mfDufy5n1H+2Vk1KC1kbalxLZeUAFwVYqsrMoPQ4NX/AB5+0rq+h/GJvht4W8B3PjHX5tGg1m1kiv1tbfY8zI/mu6MI0VVU7/mLFwoToSAe89aqf2tZf2oNN+1wjUDCbgWu8eaYg20vt67dxAz0yaNDe+utFsJNVtI7PU5IEa6tY5vOSKUgb0Em1d6g5AbauQM4GcV8y/CvxdYv8cvj/wDEvX7gw6N4W8nw9Bcyklba2toTNcqoHQF2DHjqBzxQB9OalqVro+n3F9fXEdnZW6NLNcTMESNAMlmY8AAcknpTrK9t9Ss4Lu0mjubWdFlimiYMkiEZDKRwQR3FfIXxi+PXjbxt+zF4z8QXPwsm03wXrGh3cdnqH9sJLepHJEVhuJbTygFjbcCcSMyg52kcnufD3xtT4c/CH4LeHNJ0ObxN4z8S6HZrpejxTrboyR2qNLLLMVby40BGSFY84CmgD6LoryLwp8cdR/4S7WPCvjrwxH4Q1y00xtatvsupDUba+s0O2V4pRHEdyNtUqyA/MDyCDWL4H+PXj74g6HpPinRvhXHd+C9UlU21z/wkUSam1uzFRMbVohGOm4r5+Quep4oA93orxfXvjh4nv/ibr/gzwH4KtfFN14eggm1O51HWhpiI0y744ox5MrSEqMk4VRx83NWvGXx7uvA/hLwvLqXhC+h8ceJLw6dpvg/7VC0stwM7gZ0LoI1A3NJ0VTkgH5aAPXqK8h8N/GrXYfiFp/gzx14Qj8LarrFrJdaTPp+qf2ja3XlDM0XmeTEY5FBU4KkFejE1ynwh/ae8WfGy8mfw78LpI9GsdTudP1DWdR1yOCCNonIUQr5ReZiuCQAFXdjc1AH0Uql8YB/Kqdrq1le3l5aW95BPdWbKlzDHIGaFmXcocA/KSORnrXyN+z/8S/i1rP7QXxastR8H281lDq1gl3by+KzMuho0Az5CmAibKjdgeWM8cda7TVLh/AH7cmiCH93pnj7wzLDcQqBtkvrJwySkddwhYpngEAdxQB9IUVR1/VF0HQdS1N4zMtlbSXJjU4LBELY/HFfN/hT9rTxx48+GNv8AETQfg7NP4TW2NzdNN4giW8Kxg+ebaDyT54QqwG5omcrgL0yAfT1FeW6h8ZdS1z4d+GPE/wAO/CcnjhPECRTQb7+PT4beJgDvmkkDFccjaqM24EY71n+A/jtqes+OPEvgrxV4VXwz4p0XTo9W8i11IX1tdWrFgHSbyo8HK7SGQHPTIoA9ipNwzjPNfOfwe/aa8c/HTwvb+IfDfwlaHRJLe4/07UfEEcCSXMfmbYolELM6MVRTIQm0s2A201xX7MHxO+LN5qfxPF14Jj1rTbfxlrEc003iXe+myRxIwsIUaE70VgqhwUH7wnaNvIB9hUYNeP8AhX9pXQte/Z2k+LN9bNpNla2M1ze6c0geSGeIlHtw2BuYuNo4Gdy8DNeg/D/xLe+MPA+h65qOk/2He6jZx3UumtP55ty6hthcKuSARngc0Ab9HbOCfoM15D40+KHxL0TUNdbQvhRFq+h6YMpe33iOK0nvQBljBCkUvAHH7woSQeO58Q/aa/aC8R+KvgP4B8Y/D/TZl0PXdU0yZ71dWNncRS/aQDZyIqHcGZTGzB8Dn5WFAH2b3xVKHWtPuNVn0yK+t5NSgiWeWzWVTNHGxIV2TOQCQcEjtWR8P9Y8Ta9oP2nxZ4dtvC+qGZlFjbal9vXy8DDmTyo8Ekt8u3jA5Oa+YW8ZeIPDH7cXxMtPC/hWXxTrF34e0sLG10tnawxruZ3nnIYqPmwoVGJJxjqQAfXOpala6PYT319cRWlnboZJriZwiRoBkszHgAAEknpTrO+ttStYbq0uIrq2mRZIpoHDo6kZDKw4IIIORXz5H+0HZ+NPhV8X08b+A/sOreCbS4/tzwrcXqXUF1F5DyII5wgDJIgODtyuTkcVevPjlD4T8J/CXRvBXguO61bxlp8c2kaH9uSytLOFYElcPMUbCorgAKhJx0FAHvlUb7XNN0u6s7W81C1tLm9cx2sM8yo87gZKxqTljjnAzXO/D3xJ4t19dRj8WeDl8KXdu6iE2+px39tdRkcvHIqq/ByCHRe3rXH/ABo8WeHPD/xM+Emn6z4Wg1zUtW1e4g0zUpCofS5FgLmVQVOScAYBHrngCgD2Civnpf2mfFHif4neOfBHgv4cf27qHhW4WG4vbzWEsrR0aMODuMbsJCd4CBWBC7iy9Ks6V+1lY3nwN1f4gX3h65sNQ0nU5NCvvDyXCySRaisyw+R52ApXey/vMY2nOKAPfKSvKdI8efFO4nuLfU/hhY2hezluLS4sfE0dxEJgpMcFwXgjaPeeA8aygHrXjf7IfxL+KXiLxB49tNZ8MQ6jpK+N9ShvL648Q+ZJpZUJutYojAPNRD0begO4/KO4B9W6Prum+ILb7TpeoWupW4dojLaTLKgdThlJUkBgeCOoq8QR1GK+Cfil8Wrxf2N/EusfCvwPD4M0b+2bmzvZLDVltXtGS8jQTKqxAv5o4IDLsHGWr3fxB+0B4z+GnwysfEnjXwLa2FxNq+n6TDa22vi7Msdwyo05f7OuCrMT5eOcEbh1oA9/pdhxn8etecfFD4tf8Kz8R/D3SpdN/tEeLNZXR/OWYR/Zi0TOJNu07hlQMZHGfpXz74F+LXxhuv2rviPpcPgW3v4orXTQ+kSeKtttp8JVwJ0PkHcXB3FQqkcDNAH2RtNGDXic/wAfvEfibxR4m0j4d+BYfFsPhuZrDVNR1DWP7NgF6qhntoD5MplkUHDEhFBwMnnHefCf4mWPxZ8F23iCxgmsS001rc2F1jzrS4ikaOWF8EjcrKenqKAOvJCgk8AVS0bXNO8RWC32lX9tqVkzMq3FpKssbEHBAZSQcEEfhVm6G61mH+w38q+Hf2Q/2svhZ8L/AIJ6X4Y8R+ILnT9btr6+821h0W+uAN91Iy4eKBkbII6E9cdaAPthte02PWk0hr+3GqvD9pWx80ecYt23zNmc7d3G7GM8Vfr5F8D/ABc8L/F/9ujT9R8KX819Yw+ApreaW4sLi0ZZFv0bG2eNGIw45AxyRng16Ba/tFeLPGFjrOu+AvhzD4q8HabcTWw1a41xLGa+MLlZXtYGiYOgKnDPIm4gjigD3qiuc+HnjfTfiZ4I0TxRo0zS6Xq1qlzA7gBwGHKsBwGU5UgdCprye4/aO8Sax8XvGvw58J/D065q3hn7M8mo3GspZ2jJLFv+djC7IwJ2qqq+7GTtANAHvdFeGeCf2r9G1b4Y+MfFnivR7rwldeEL6bTda0gv9qeG5jKgRRSAKJtxdApAAy3OACaRv2gfFvhtNI1fxx8OF8LeEtTuYbRdQh1tL24snmYLCbuARKI1YsAWSSTaWXPcgA90orx7XPjhrl98SNX8HeA/CEPiu+0OGOXWLvUNV/s6ztWkG6OEP5MrNIV+bG3AA+9nisa6/ax03SfhTqXivVNBvrTXtM1X/hHrnwurq87aoxUJbpIPlYMHRhJjBU5xnigD27Vtc07QY4JNSv7awS4mW3ha5lWPzZWOFjXJ+Zieijk1d3V8SftQ/ErxrqekfCnT/Gnw9HhN77xvo9xaXFnqyalEsiScwzOscZjkIbcAodTtb5uCB7d4k+O3iGf4pax4E8CeDLfxTqmh28Nzqt1qOsf2bb2/mj9zGv7iVpGYKTkAAZGWycUAe3UVgeB9Y1fxB4ftrzXNBm8NanIzCXTZ7iKcxYJAIeMlWU9R3weQDxXMeGfjHFrPxm8WfDu90w6fqGjWdtqVpcGcSDULWUEPKqhfk2ONmMnOc5oA9GorwPWP2ttK0O0+Iepz6RJNofhfVIdBs7u0nMr6vqDqoaCJSihWV3Vc7iDyeMUrftFeKvB3iHwta/Ej4eL4Q0XxHdx6da6tZayupJb3kgPlwXCrDHsLYIDKXXPGR2APe6K818F/F5vGHxg8f+BBp32Q+FVspft/2jf9pW4iLgbNg2bSMdTnrx0ride/aui0nwZ8Y9eHh12Hw61F7BoVvB/p+2NG3ZMf7vJfGMN0z3xQB79VC917TdN1CxsLu/t7a9viy2lvNKqvOVGWCAnLEDk46VwXwe+KXib4nWzarqPgCbwn4buYI59MvdR1NHurtWAOXtkU+UuDwSxJGMgV5H+1R4iu/C/7RPwA1Gw0W68Q3i3OrRwadYsokmka2VVXL4VVywJdiAgBJ4oA+qKMGvGfBfx21y6+K3/CAeOPB0Pg7VrjTW1TTp7XWF1GC9hRwsgLeVEY2XI4IwecHgZydP8A2jPFnjbT9U8Q+Bfhx/wkvguynlhTVZ9ZWxuL8RErK9rbNC29QwYL5kke7FAHtt5r2m6dqVjp91f29vf3xYWtrJKFkn2jLbFJy2BycdKv18qeOfG2lfEf4+fsw+KNFlafTNUTVrq3LoUdVayztZTyGHQj1Fd145/aN1TQ/jx/wqfw74Kl8R6+2iR6zFdNfi2twjSyRt57GNvKRdqEOA5YuF29MgHuNGM15F8I/jlfeN/H/iTwH4r8Mt4N8ZaNBHfGwW9W8guLRyQs8MwRC654OUUgkAiuA/b98aeM/BPwVln8L2MhtZL20F1rFtqhs57Ii5i2KqKhLhz8pO4bQf4uRQB9NghgCDkHoaWvDfEn7QXiH4d+C7S58XeB44PGGr6gmmaD4b0fWRfSajIybtzTGGMRAANklSAFznJxUnh39oDXbH4maN4L+IfgkeDbvXo2bR7+z1ZNRtLqRU3Pbs/lRFJQOcbSD2JoA9uorn/H3jjSfhr4N1nxRrk5ttK0q2e6uJFUs21RnAA6k9AO5NebeBfjF8SPGL6DqNx8IzpXhnV2RkvG8RQPeW0LkFJprUooVSpDFVldwONpPFAHtNUtQ1rT9KnsoL2+t7Sa9l8i1jnlVGnkwTsQE/M2ATgc8GvJvHHxa+Jnhl/E9/pvwmh1Pw1ou5/t114jitrq7iTJkkhtxFIMAAkCR0LY6DNebfFzxxYfEjxX+yv4s0neNO1rXWu4Y5cBkD2jHa3ONynIOOMg4oA+r8UYNeO/ED48anovxOtPh54K8Jf8Jn4sayGp3yTagLGz062ZiqPNN5ch3MRwiqWxg9Oao+JP2hPEHgDwt4b1Lxf4Ck0bUdW8U2nhl9OXVI50XzyMXUcyL86cH5WVGJByFABIB7hVGx1zTtTub23s7+1u7ixkEN1FBMrtBIRkI4B+VsEHB55rivH3xcTwH8Rfh54XfS/tg8XXk9oLrz9n2Yxw+bu27TvB6YyPX2rzT9mOXb8Xv2i32fOPFMaEgcn/AEZAKAPo3IozXgHi39oL4i+CfDuq+LNU+DUlp4R0qZmup5vEcJ1D7KpIe4W2jiZMAfNtMoYgdq4D47fFf4h2/wC0V8HI/C/h+PUNAvvtk9hC+vmzj1hWtUc+enknyvLySNwfOO1AH19kUteMeJfjh4k0LUvDHhay8Dx6t8RdYtmv7jRI9V22WnWykhppbzyfu7htG2IljkY7nb+GfxcvfGHizxB4R8Q+Hm8LeLtESG5nso7sXdvPay7vLnhm2JuUlGUgqpG09aAPTKKKKACiiigAooooAKKKKACiiigAooooAKKKKACiiigAooooAKKKKACo7iFLm3lhkUPHIpRlPQgjBFSUUAfJHw31bxx+yJHe/D/UPh74i8ceCUvJ5/Dmu+GYEuJI4JHMhguY9wKspf73Q/NjpWz8TPEfj345fs3/ABSt5fhnqfhlbnTWg0aw1CeN9Rv2XJkL26/6rlcKpYs2OByK+nG+bIPQ9RmnRjZwOO2etAHzz+0d4L13XP2PZdA0rS7jUNa+waZH/Z9tGXmzHLA0ihQM5ADE+mDXNfGzRfFFr8cNK1LxDovjbxR8NV0KOG00/wAE3M0TQaksp3NcLBNG7gpgAsSvbHHP1Xxhmb59oAC/1qNtqmJQGZjxlv8APrQB8W/Dn4Z/EvTNK/aPufDPh/UvAuu+IPsk3hwahcGWV9kDbwZnd8SsGxncQrvwRt45TxV4P1fxp4P8Faf4c+FnxJs9Ysdd0q61nUPFV/dTIuJYzKY1knYS/MNxcKqIoPT5RX11rX7Rnwu8OardaVqvxD8O2GoWcjQXFrc6nEkkTg4ZWBbIIIqr/wANTfB5tn/FzvCw29MatCPb+9WbnGLs2VyyeyOZ+Gvg3WtJ/ao+M+u3Gl3Nto+q2ekfYdQZP3VyY4GVwrdyp6jtn3rzjXPgX4m+IUP7UWii1fTn8U6jZS6PdXsZSC7MNvEQQe6b49hPua9p/wCGp/g62APif4XHy9tWiHOev3utKf2pvg5D5xj+JXhUL/dGrQgckf7VHtIdx8kux4B8aPiT8Qfit+zfr3gez+EHiqx8WS6eLfUWurZBYxCNl8z7PNuzOW24UIvIPoM19ceD7Saw8I6JbzxtFPFYQRvG3VWEagg+4NcRH+1R8HZIwP8AhZPhUcf9BeEH/wBCol/am+EDEk/E3wr/AODaH/4qj2kO4ckuxyn7ZngzXPG3gjwVa6Dpd1q1xbeL9IvJ47VCxjgjdt0h/wBkbhk9s1N+1ppfi++0bwhPoNvrOp+HrPXIJPEek+G53h1K8tNpXZEyMrEBjllVlOBkHjjqT+1J8H18jPxM8K5yP+YrD/d/3qa37UXweXKn4oeFyFGedWh74/2qPaQ7hyS7Hhfw88E6zqH7VXhPxXpPw/8AE/hfwda6BfWQvvFF5LPdPclo8tIss0rRKSUCqSC212xjk8hJ4X8Z3HgXxt4c8S+B/H/in4rXh1GGHWP7XuU0GZGLmB0ZLhI1TyyP3fl7iRtIycD6gX9qP4PKv/JSvChHvqsJHb/a9h+VNP7VHwf3An4l+FTgY51aE/8As1HtIdw5JdjxHwj8OfE9jefskGbQtQjHhvSLiHVwsRxYSNYxqqy4+4SwZee/BrtP2oNJ8T3PxG8CagdI8VeIvhrBFdQ6zo/g+9lt7xrplBt5XWGSOR0GP4XwCDnrg97J+1Z8HmVQPiX4WGDnjVof/iqWT9qv4PSbCfiZ4VJB/wCgtD/8VR7SHcOSXY8l/Zj8Ha5Y/tGfEHxJL4P1vwl4V1LR9Pj01dcnkmupNhkz5peWQq+fmMe7KgrkAk12n7Z3hPWvH3wjtNM0DTrnV75df0yYw2qbiqJcIzOeeAAMk9sV1Ef7UXwejZwvxO8KgY4xq0XHP+9SD9qb4Pqoz8TfCjY7f2rCP/ZqPaQ7hyy7HnvxA+FXiX4KeK734h/CCxW6tb11k8ReA1/dw6lg4e5tscR3IC8gDEmBnJ4Ojq2ha14i/a2+F3jCLQdQg0QeE74XdxPAU+yTStGyQS8nbJ2K56g11rftSfB9unxM8KKPbV4Rj6fNxSf8NTfCFZMj4l+FM42/8hWHp+dHtIdw5Jdjkx4N8TyftfeLNetbG4g0248Aw2FpqssTG3F4Lt3WPcO4BViBzg+9fNHibwB4x179nrXfCupfD74k6v8AFeS1lXUtV1LVbl9MuGWQlnhxceVISm3bGkeDnGCATX2Mn7Unwg5I+JPhNSeTjVIf8faiT9qD4QyNk/EzwrnGM/2tEP8A2aj2kO4ckuxwN14G1+P9pT4Ka2dGuDpWmeFr+xvrzbujgmaOLajkcAkggfTrW9D4f1mP9t298SHTbgeHv+EAj01dSaP9x9oGovJ5W4dG2MDg9jXRf8NQfB/Az8T/AArwP+grF/8AFUxv2pPg+rNn4neE2zxzq0P/AMVR7SHcOSXY5z9tjwzrPjv9nzV9I8P6ZNrOqS3ti8dnaqWkdVuo2YgZ7AEn0Arn/wBoTS/DFx40s5dd+E/jjX9QtLRTZeKvBIdblV+bdC0kE0cgALZAfKndxzmvRl/aj+ED7NnxP8KHac/8haH0/wB6mz/tSfB4q2fiX4Vzj+HV4h1I/wBr3o9pDuHJLsZ/7LFj400v4YTL45fVBM+qXT6VHrsyzalHpxfFutyV483AJPoGA7Vlax4R1af9tnw74lj0q8k0CPwTc2EmpCPMKXBuw6xluzEcge3tXSt+1N8IfPdl+JvhRBt7arD6j/apZf2pvhA3l5+J/hQnPX+1Yc/T73tR7SHcOSXY881z4San4w/aI+Mlte6ddWXh7xR4Fg0W31gLlDI4ljdVP95Qc4+nrXGaT4y+Imk/s7p8HW+FHiOXxlBpH/CKRahHCv8AYzR+ULcXZud+AvlkOVIznjjOa90P7VHwf4DfEvwq+3pnVIc/+hUf8NS/B98Z+J3hcd/+QrF+X3untR7SHcOSXY808afDnw94B+G3w08JeJfhr4k+Ilr4dsIrW213wySLuwuI41GV8maOdA2zO5Pl4AJrF8C+AfH3jr4K/Gjwzc2viOz8Pa9aTWfhKy8a3Ky6iN1uyOJWJZkjaTAUOSRy3Q5Ps/8Aw1H8H2Uj/haHhcA+mrwj/wBmpH/am+DzNk/E/wALZ/7C0P8A8VT549w5Jdj5+8cX3iv4q/sb6v8AD+P4aeKtJ8TaRoljbG31CzCw3UsMsSMLeQH97xGWyB0Neoat4L1uT9qr4a62mk3Y0iz8JXtleXyx5jgmLRkRsw6MccDPY12X/DUvwekXDfE7wqR76tDx/wCPUkn7U3weYYPxO8K/+DaH/wCK9qOePcOSXY4zVvhnf+JP2tPF19dWF9F4d1T4dDRv7S8s+T5sl5JujVs43BTux6HNcR8PdT+K3wt+Csnwqm+G88mp6Lps9jbeKvt9uNIa1CvsuJGL+apVOsQQsSvbOR7T/wANRfB1gf8Ai53hUZ/6i0P/AMVXg2reHf2ddUSfTv8Ahet9beGbh903h+HxyfsMik5aMq7s+w5IK7sYPGOKOePcOSXY9T/YZSWP9k34ceYv7xtPdsEEZzNJg/QjBz3BzXGfFTTdf0349arqPjDw/wCOfGXgq40+2Hh6DwbdzJFayqWFxHcRQTREsxZTvfcMHAPGF9N0P9oj4IeG9Js9K0z4ieEbDTbKJYLa1t9VgEcUajCqoz0FX/8AhqL4QEYHxN8KsPfVYP8A4qjnj3Dkl2PPf2K/BPiLwTpfxLXX/DV54YfUPF1zf2lleXL3LCB4YdpEzsxkAwVLZOSprK/aw+Ac3x5+LXwx029sdQPhn7Hq9vqOpWII+xs8C+SxYcfeHQ5Bxgg9K9T/AOGnvhApP/FyvCpz1zq0B/8AZqkT9qT4RqOPiZ4V4OR/xNYOP/HqPaR7hyS7Hk91Z/Ep/gT8T/hN4m8NS6xrOm+G7m30TxFptsEs9ahMDJAqoOI7gAANGPTI61b+L/gfxBqn7A8HhSw0S5n8QL4d0q3OmwoTceZH5G9No5yoVuPbFemf8NQ/CE7v+LleFPm6/wDE0g/+K96T/hqD4Q7hn4meFeuf+QtD16Z+9R7SPcOSXY8X+PHwgubb4weGfiLceFPEni7QJPD6aDqun+GdTubPUbN1kM0UqJBNE0qkuyshJA4OMjNT6L8F9D+Jngj4maf4c+HvizwRf6zoT6TFrnja+uZ55i29kiVJ7iV1jVtrE8Z3n0r2H/hqb4QSM3/F0fCxCjlf7Vhx/wChUq/tS/B64+T/AIWh4WO3k/8AE2h/+Ko549w5Jdj5t8PeDdJHhez8LeJvgV8TNR8RvHHYX1vH4gv59JmcAZcXD3wiER2hsEDA4xxXsug+ENYs/wBtDVvETaPdW3h+fwLa2MN8Y/3JmW8ZjDuz94AZx6YPQiuvk/ae+Dzgbfih4X+UYI/taADHv81dr4T8X6D440iPVPDus2euaczMqXdjMk0ZKnDAMCeh4p80e5HK+pt7toJP1r4y8C+AJvE+qftW/Crz/seo6tqkl/aSyHKqL62BjcgZO0MuT/8AXr7L4auWtvhro1r8TZfHcEMkevXGmjSbiRZSEkgVxIpZOhYEYDdQCRV2HY+W/EnjT4keIv2YdV+F4+EfiZfHMfh99FuZ5oUXTW8uHy3kinDnzWZc7EXOWYdqb8Sfgjry+G/gV4rk8Max4hg8M+HU0fXfD2i6jNY6mqSW8YLxGJ42Yo6EMm8ZBxg819nygPwwDc9xn/PWliXaOFGM0WCx8zfBPwv4WTxpf654f+EXjnRrm102aOHUPF9/cs0hbYTbQx3V1JgPtBLYC/LgnmvMNT8L3r6ppY+EPw2+Jnwz8XHUoZpY7h3g8OACVWm85GleEptDDEajdnABr7tPzNu7+tNZAyYI3ehPJ/OiwWPln47aX4XvfHt1ea18JfiDL4gWBYbPxX4ELI9zHtGA0kE6HKspASZTjaDjDc8T4p+CnxG8WfB34TeIvFmmal4s8S+Eru6n1LQf7Ta21K5sZSVCi4idMzpGsbEBsuVZcknn7ZK/KykcN15oEYX+AY9KLBY+X/g94X8Jal8TNF1LSvg/490K40+KaQa34vvbryrBmTaQkc905kZxlflXjIJNdX+xj4T1nwP8HbrTPEOn3OlXw1/VJVguE8t/La6ZkYc8qwwQehHtXvDfeZj93gbc8cr6VFCo2Aj/AJ5jPv0osFj5d0C98SfBf9pj4lzXfgfxB4g0PxrdWF5ZapodoLmCFlj8plnO8eXg85PY9MVpfECCTxR+3N8L7S0fcPDXh7UdVvsJnZHPiCIE9ssD6/lX0iyqy4KqR0rk/D/wv0Lw3498S+MrZLiTXPEKwR3ck0pdUSFCqLGD91ScsRnqfyLBYufEn5vh14p6f8gq669P9S1fHn7P/wAaPGfhX9lLwt4d0/4U+I/EGtS6R5Oi3mnRJLps8chdYZJpw48oqfvqwHC5BwRX23qmmQa1pF7p90pe2u4Xt5VBIyrKVIz9CaxPh18PtJ+F/gjRfCuiNcDTNJt1trf7RKWfaO5Ixk5z6CiwWPlLVvhH42+GPw1+CPh2e18QeJPCOix3C+LNL8H3UkV5PPIu+Nk8uRJHiSRmXCsOAOK1Pg54H14/tFeMfEtv4I1/wv4UvvB62Vg+u3UlxcSy/ackSNJJIyOSGPllshQpOC1fX6x4TaSSPTtTDCq8gc/3u9FgseH/ALGHhHVfAv7NvhPRtc0y50jVbcXH2mzuUMcqk3MrDcD6hgR9RXI/BXUPE/wd+LHxD8J6v4F8Q32n+J/GNzrmneIdLs0msUhuigYzPvzHswc8E+xGCfp3Hy4/rSxgdySM9CTj8qLBY+E/EXw31Gb9qjU/gvZiSb4beJNQt/H2pC3bItQhcS223nYktzFEx6YyMdSR92bQqhUAUAYA7D0rkfD/AMK9E8O+PPE3jKBrmbXfEIt1vJLiTciLCpVEiGPkXlmIz1Ndc3KkdPocUWCx8XSaB4osfGXxBs/HHgrx3408T3+q3TeHL7R9VuINFFhIo+zRsyXEccQQ7g25C3U85qjp/wAG/GzfsFeD/Dtv4eu/+Eu0LUYdWl0ORvLmk8q+eV0XfgbihyM9ewJIr7f2huCM/wD680jRAcBQo9BxRYLHIfC/4iT/ABL0qe+l8K+IvCElvOIWs/EdmLeZ/kVtyLuJK5ON3qD6V5r4B8K6zZftjfE/xDNpl3Dol9oGmQ22oMhEM0iBgyqe7Lg8V2uuftI/C7QdUutN1P4geHdN1KzkaKe3uNRijkjdTtKsCeCD2NVJP2pPg79o/wCSmeFf/BrD0x/vVmpR2bHyyeyPFvEnwt8T6hfftcG20G9k/wCEk0qCDRsREC+f7BKhERPDHcQvHcit3xN4f0q1+Dfwo0jxv8KvEfi/+y9GtFa48Pgi+0m6jgjR1/dyxzISQQShx8uDXprftT/B9sA/E/wqQOedXh/+KpjftTfB/G3/AIWf4WUYx8urwjH0+ajnh3HyS7HE/sn6Z4y0a+8byalH4ptPAs1zbjw7ZeOLjzdUiUR/vyckusRYqFVmJ+UnHJJ0/wBoLwXrPib4vfAnU9M0+e90/SdduZ7+e3TcttG1syqz88Anj6ketdEv7VHwbWRnX4n+Fwzbs/8AE3h9R/tUrftUfB5vnPxQ8LHt/wAhaH3/ANqjnj3Dkl2OW/Z/8F654f8AjF8eNR1LTp7Ow1jW7a5024njwl1EtsAXQg8gHj61x3w88MXXhf4W/GeDxX8OdS8W2WqfEDVb5tDit0868sZZkZZ40dlEgGCRg7iRgc16037UfweXcR8UfC6Ec/Lq0Hr/AL1If2pfhDHNJ/xc/wALMMH72rQeo/2qOePcOSXY8Y+COj61p/x00RvA2gfEbwn8O4LC4TWtL8bSzNabyi+Qtok0skgffknB2gDHHStn4J3Xif4K/Ff4heEdV8C+I9Q0zxN4vuNa07xJp1mJLFIbkJkTPu+TYVw2R3z9fUR+1V8G/wDopnhTsT/xNYeo6fxUH9qn4MsMH4meFMf9hWH/AOK9qOePcOSXY+d9G+BvjG8/Yj8e+C4dDntPFF1rF/d2un3TeU06LeiVApJx86IAp6HI5rpPi/qXiz4/fAKe20X4e+JNJ17w5f6Xqcmm69Atu955MoeVIGLEOwCkjgE8Y5OD6/8A8NSfBgDaPiZ4V29wdWhOf/Hqe37VXwcLbv8AhZvhXP8A2Fof/iqOePcOSXY8U+IXiLxt8bvid8F9Q0v4Z+J9E8PeH/E8d5qVxrtmLeSMmJsFFDE+Uo3bpG4yUA7it3WpvEnwX/ak8XeMD4G8ReLfDPizSLKGG78M263UltNbqVZJU3KVBypDd89eDj1CT9qj4OLI7j4l+FVK5zjVYeef96o1/ap+D/lRk/E7wuTjP/IVhxjj/ao549w5Jdj53h+FkPwj8beNoPEHw38eeL9I1vV59e0rVPBOqXwCLcYZ7aeCC6jVJEP8ePmB68V7H4L1ab4TfDHRZvC/wf1+xg1rXVW40b7aLi8s0nfDX1w7u5PABYFiVJwxXmupX9qf4NTMC/xM8KggYBGqw/8AxVK/7U/wdJ/5Kf4W/wCA6rCM/X5qOePcOSXY9PuId8Tp13qRt/DFeEfsUeDtX8Ffs+aPpWv6Zc6Nqkd7fvJa3cZjlAa7lZSQeeVII9sV05/an+Drdfid4W/8GsP/AMVR/wANTfB4n/kpvhb/AMGsP/xVHPHuHJLsctq3grVJf21NN8Stp1z/AMI5/wAIHPpkmprGfKW4N7vERbs235gDXh3gX4Yw/A/Rb7wZ4s+GXxH8RTafdXBsdW8HapfSWN9bO7SR5jiu40gYBtrKVGSpOea+m2/ai+D4xn4m+Fu//MVh/wDiqB+1F8HlU5+JnhXB/wCorD/8VRzx7hyS7HQ/B3w1a+EvhzoOlWXhr/hDLOC33JoE10LmSzLMXKPKGbe2WJJ3Nyeprzn4M+Etb0f9pb47axfaZPaaTqs2ltYXksZWO52WzKxQ9G2nj2z716T4L+MHgj4jX1xaeFfFujeILiCISzQ6deRzMinA3EKemSPzrrZlVVDbip68HGfrV6dBcrR8ea98AfE/xK8C/tF+HBaTabda94qF9pLXgaKK7SOO1dSG/usYym7sR7VQ0Pw14b8Vf2ToV/8AAj4mSaq88H2qHV9dvW0mBo2UtJ58l6Y5EUrvGFy+1RjNfaMSoq5VAM07bn6enagVj4r8a/CNPAvx38b634l8B+LvHPhTxZLFf2N34Pv7tZrK4WJY5Ip4IZ4s7goZX5A4H0ua/wDB+61j4PWXiD4e/DXVPDmt6L4us/FNto/iO+ea+1gWyouXMsjsjMu5QjOCPLHqK+ydpAwOBSKnl8j68nNAWPjf45+MfHfx6tPh5a+Hvhb4o0qz03xXpOo6tPrVkLeVESU/6pMkuq5ZnfgKFX146j48aZ4am+IV3c6z8JPiBe6otssdr4u8D71knjKg7Wa3uEb5WBAWYHkA4wRX0+Vy2ckHGOCRQqqq4AwM5/HrmgLHlP7Mdn40034M6LD48lvZtdDzFV1R1e8jtjK5gW4dSVaURlM4PseQa8s/bcn1b4X/APCHfGDwlBby+JdFuzo0lm7+W1/b3YMaxA4+YrKUcDHqexr6oLDZtHQDgVyHjT4Y6L8QtY8K6hrP2iU+G9Q/tWyt0lKwtcBdqPIv8RXOV9DQFjwbxZ+zhruj/sreFfDPhyFdV8W+HNQs/ErRysE/tO9jn8+dSzNwXLOASeyj3qt8Sdc8VftQSeEfCFh8OvEvhLT4NZs9W1vWfEVuttHaxW7bzHCN+ZpGYBQRwDyeOR9YrGOcgc5OPr1oaMbh8o67uABz3oCx8r3V54m+CH7T3xG8SyeAvEninw74usLF7S98OWq3RiltkKNHIu4Fc5zk8f082tvhz8R9d+BP7TUWseDLrS/EvibWJL2x0mIeb5qGOJsRt0kIA2krwWUgZr7vaMN275I+nSnRRrGuNi4z93AxQFjD+H1g+l+C9BtZYpEmg06CKSF/vIyxoCpHYggg+4ryP42eFtY1r9pD4F6vZ6Ld3Ol6TPqjX19DCWjthJahU3sBxuYYHrXvEcZWaQM5IAOMn6U8orLgjP1oCx4F488E6tq37XHgHWodMupNBg8N6lZ3WoCPMMMkjpsVj0BI/PFeEeAvhjD8F/Ctx4I8ZfDD4heJryzmnW01jwfql61hfwSSuUJWO6RYG+bBUgdN3IOa+9VUKuABijAVcDjHI9qAsfIvj3wTrHgG7+Avi3wx8NdRh0bwhNdR6h4U0uRbu8sY7mHYSpDYl2sSWIY8nPTJrL1b4jav4c/bau/E1n4O1fWbSf4e2LX2l20I/tS1SS8YqRDnDSK2FdA3GSQTjB+yjGGzke3HHHpXJW/wv0az+K978Qo0uDr95pMejTZl/c+RHK8qkLjh9z9Qei9OuQLHjvwl0fxT8Sv2kNX+LOr+GNS8H+HrPQR4a0ay1hBFe3Smbzpp5IwxKqHACqxPXIGcmup/a/8Ah7rnxL/Z/wDEOi+HLJdR1jzLe8hs94RpvJnjlZFJIG4qhAya9oKrvLhcMRjOTSk8etAWPkf4ian4o+LD+APiP4f+Hniaz1TwBrHn3Gga5BHZT3tvPF5dx9mJYh3QAEZ27s4Ga07+bxJ+0X8aPhnqVv4K8Q+DvDHgu6m1a9vvFFotrLcTPFsihgTeS3qzYxj3r6gaNWIJHIGAe9KqjPft39KBHnH7RXw1uvjD8FvFfg+xnitb7UrXFvNN9zzUYOgbjoSoH41yHw2+O3iTVJPD+ga18I/GWka3sitdRupLeL+zrfaoDzJP5mJEBBIAyxGMAmveCvNNddwIPGfTjNAHw5deGPFtzJ4+0jxV4G8deMPiBqN9fxaXq1pqlzBoP2aQFrcnbcJCiIuMgx7zgqASQDbT4deM/CvwH/Zt1f8A4RHUtTv/AALeQ3Oq6DaRD7csUkbo5VCRuZdy5Qc884Gcfa5y2MgHknkA9aFUdMcZBx24oA+U47zxP8O/jxqXxbtfh94i13w3430W2tr7TrW1VtW0q7tywQPbkj92yZztJ5XnHGbfx8/4Sr41/BbQ/EOleAdesb3w34ssdah0DUvKW/v7W2JZyqK52M29tqMd2U6civqNo1bqM0Nu3ZyfzoA+RPEmueMfjN+0F8FtatPhv4o8PeFvD+oXcl7da1bLDKrPbFQTGGZhGMY3nGS2BW/8MYvEnw4/aK+LOh33hbWPsXjPU49W0rxLaQCSxi/0faVmfPyEFFHTknp0J+m2+ZSDyCcnPtQzEjGeOv8An8qAPzw1nwX401L4D+KPDGvfDj4jeJvi3La3cV1rVxql02kTfPJtkiK3HlOBFtCxKh3HAI617N8WPCPi7Qpv2f8AxzZ+FtT8RL4PhaLWtL0tEa9RZ7RItyRlhvKsCCqnOcdBk19UZ6dOuelNjURspUYI70AfGvxN8KXni34qeHvjBP8AD7xpq/h6+0RtE1TQ7O6n0vWbCRLl5IpxFBPG0iNuIKFjj5W7V6j+zv4Z8NxeKde1rSPhl4u8HTNbQ2p1fxlezzXN0AzMYUSe4ldUUkNkYBJ9q98Ubdv+yMDJz/8Arpdx9aACiiigAooooAKKKKACiiigAooooAKKKKACiiigAooooAKKKKACiiigAppYZI6fy7/4U6sbxd4cPizw3qGkrqeo6K13H5f9oaRKsV1DyDmNypwfw+mDQBS8IfEPQPH/AIfuda8O6gmqadbzTQPNGjoBJExWRcMAeCDzjB6jIrP+DHxTsPjN8O9L8X6faXVjZagsrRxXW0uPLkaNs7eMZQn6Gvl/9hj4VS2vwvvvEz+MPE8i2+q6vbtos+oKbCfEjp5jxbOX/i3ZHzVy3wF+F/izVP2NbXxZY/E3xL4bvNLs9Su9G0/SJkhs4vKllkxOu0mbc6nJJ6EADjkA+/wwZcjpwcfr0okbecjhscV8YeLv2itf8Q+DfgVpN5rl/wCGl8aaM2q67rOgaVLeXoiihjLJbxwxSMjO0nMgX5ACRjiut+Bvji/s/jEnhjQtc8Z+MfBWo6fLdSX3i7SbyCbTb2NlwonuLeLdHLHkBOdrJkfeNAE3gPxF4b8HeF/iX4j8UPa2WmWXjHWWuLueHzPLX7ayrwFJ6kDgd69ct9N0u6hilhsrV45V3owgXkEZz0+lfGn7QPhaXXf2cfi9qK6xq1gNN8W60xsrGYJb3e7UMYmUj58Y49D612njW38TfA34X+FdN8N+Nte1PX/Hms6ZoFvqPiC5F4ul+ejbpIVKjbhVbAORnHpX5lioTrVptTa95o+ho8qgtD6YGh6eGI/s+1BXg7oFH9PasDRfEnhHxB4p8QeGrH7LPrWiGEala/Y2TyPNXfHlmQKcqM5UnHfFeIeMLLxL+zl4g8B6pB468QeJtC8Qa5b+HtTsNfuUuWQ3AZY54G2gxsrLkrnBBxXHfCj4N3En7THxXth498Zx/wBkTaXN566iBJe74S+LkhP3ijhQMYxn0zXDGjeEp+0ei01NdNND7AXRdNZcrp9qQOOIVP8ASuK+Jnjbw/8ADWbwpBeaKLqTxJrUGiWzW8CYikkDHe2f4QF7V5B8TtW0DWvFniWD/hcfjyLWLDciaX4Z0+4ms9PkAyIpDb2rK7DjIkYtg9hiuP1j4hal8TvhB+zX4o11o5dVvPG1itzIqbA8iG4j8wL/AAltgbAAxnpVxw9RcspzdvmugXjtY+yJNF03ambG14bGfJX0+lV20HTzJIfsFsVwOTCvt7VpBMhOmTIcZ/GvlP4c6B4q+NXjX4wQ6j8RPEeiaPo/im4sbC20adYZI8RpwXIJ8sBlwgwMlic8VwUVUqpt1LJebK0XQ+nv7H0+JlT+z7bd6fZ19MntSnTdOU4bT7Yc45t1/nivj68+LXji3/Yw1DWrvxFNL4p0rxANGOswARzTJFerFufGASUyD6989a9n/aP8Vat4Yi+FEul6lPYtqfjvSbC7aE7fOt5BL5kbAdmIGa7JYXERkouW91v21EnHset/2bpvH/EvtQW6A26g/wAqd/ZGnlgBp9rn/rgv+FfNljp/iv4pftE/Fjw1L4/1/wAPeG9F/s5re10WcRShpLcnAkYNsXOSQoG44ya5P4X6T8QPit8MfF11qvxR8Q6fdeEr/UdF0+40mVYTObY5E10dpMzHKjHAwvUkknKNCrtKp26vqK67H0R8QvG3h34c614T0++0gTTeJdWTSLdoYI9kcrqzBnJ7fL29a7H+xdPOQdPtc+nkL/hXxp8TvGPiT4pfBf8AZm1+K+t9P8Uar4nsUN80AdI5jHKjTeUCA3I3beB24rvfGln4r/Z38bfD3Vrbx9rXijQvEOvWvh3VtN8QTRTEyXAYJNDhF8vDLyq56jsK0nQq8sVCWut9X0C8ex9HroOntnGnWpx/0xX/AApYdFsGXI0+2+nkKD/KvkSb4sL8UviJ48TXfGfjzwzpGhazPommab4N0q6kQ+SAHnnmgt5AzOx4jLfKoB4zknjP4rfEab9n7wvLBql/pPib/hN7bQYtXvbGSzbUbbzmEM8kDKrBHUpuXAyVYeoqY4TEO152v3v/AJAnF9D69/snT+QdPtxj1twP6Uz+xtPdh/oNr/35X/Cud+HPgWfwPp95HqHivWvFFzeTedJeaxKjFGIGViVVAReD8oGBk4ryrxFqXib4vfH7XvANj4p1PwZ4b8Lada3t7JobpFeX1xcFig80qSsaxjoByTnnjHNH2s3JRnotbmvu9j3WTRdK2s32O1UINxJiXGB+Feb/AAz+KWk/F3UrmXQvBV0fCSPLHB4puI4I7W8dDtxEhbzWBOcNs2/KRnPFec+G5vEN/wCKPiZ8HNW8Za/d2ukWNrqmm+II51j1KKKRSXgkmC4f5lPzEZIJBPTD/wBgHwVJpHwJ8Pa7Jr+tXyalbShdJvbkSWdoRcON0SbcqTt9cfMeK35Z06MpSk79DPS9rH0YNEsI1ZhYWwUck+SvH6U4aDYruH9nwDscwj/D2rwH9pjWPFx+MPwe8L+FPFN14XXXptQhvZ7cBw0SwoSfLYFS6rvKFgQG5wcVVWPxP8Cfjr4A0iHxjrfi/wAL+M/tNhPZeIpxczWs8MXmJLE6gEKQSCuMDPXpjONKpKKvU1ettQdkfQzaPp24f6FbZ6f6pe/4e1N/sPT2ZSLC16bh+5X/AAr4+0H4qL8Zv7b8Ra5488f+FJDfXNto2meEdGvJbS1hjYqhkkitZEnkLKS2W9hgDFdGfit4+8feFPhD4RmnufCPibxdNewaxrH2U29zHBaAl3gjdSI5ZUwQxHyknAyQRrUwtWk0pTf4k80WfUY0awVcmwth/wBsV/w96d/Ydh3sLb/v0v8AhXz1DceIvgT8dvBHhg+M9c8YeGfGKXkTw+IZlnnsp4Ig4kikCg7SDgqfrXOfBnQvGXxysvH13rXxJ8SaVp2m+LdS0/TIdEuEt3iCyjmRypLINwCx8KNp67gBn7GbXMqja9WHMtj3b4seMtA+EPhZNe1TRReWzXtvYiG1hj375pAgY7uwzmutbRtO8sN/Z1vgDnECn+Qr4u+I3j7XPGf7M2saV4lvF1HXvCfxCt/DtzfLGI/tXk3UW2UqOASHGRxyDkCvWf2l/ijeaH468E+BINb1Xw1p2tJdXmqanodhLeXywQgARwrHHIyFmflwvAXqK0lgqi5Y311DmW57yNH07kfYLXI6/uV/wo/sbTe9ha/9+V/wrwL4K+Lr+1+KknhzTda8X+LfBdzpb3Q1DxVpN1DPY3qSooiEstvHvR4yTznDIemefUfjRq2naN8P72XVPGM3gW0kdIjrFqivcKSeY4lZHy7qCo2qWBOV5FctShUjVjSb1ZsuVq9jr/7D05Mg6fajv/qV/wAKwdE1/wAI+JNc13R9NFpc6loc0cGowfZCpgd03opLKAcrz8pOO+K+bPB/jibw98cvBfhrRPGXjbX9D8T2d7BqEPjG0uYpInjiEkU1u9xBGQTyCq5XnnHFY/wV+B02qfG74y2I+IPjOxl0/ULNWvbTVQkt0Xt85mOw7yOAvHAJ611fUmlLmk9FdbkSaXQ+q/CviDwh42k1dNENlftpN9Lpl6FtdvlXMeN8fzKM43DkZHPWt1dF01/u2Nt0z/qV/wAK+SP2SfhsNP1D4ja+fGfimZdA8aapbyafJfqbe/KIn7yddnzuwPLDH3RjFYfhP4qXXxK8Gv411X4l+P8ARvFN8Zbmw0jQPD1/JpVmqsfIidVtHS4HALEsc7iO1VLCTc3CL29SOZPofaLaNpoyTYW+B1/cj/CkbR9NXj7Fa/8AfpfXHpXy54w8b+PvH3jD4BabaazqXgC+8TadfSaxbxR4aN0t1ZgEccN97aWUlSQcHGK6PwpceIvhL+0d/wAIXP4u1jxV4X1HwvNrapr84uLi2uIZghCSbRhSvbGOTxXO8POKu5Glk+h9ASaNYJGz/YbchQSSsKnp/wDrryXw38ZtM8ZfDfQPGOieBdS1K01bU/7OFtaWsUs1qoleMzzAHiMFMkrnANcJ8GfDvjX46eAX+Jl78SNf0PVdWluZdM0nTyg02yRJHjjR4HU+cPk+YkjIbAwRmvOPhl401vwh+yb8FpdM1Oaxur3x/b6ddPCcCSF7+cSxkf3WwOPTiuinh+aN+a5Dsmfbx0fT/PLHT7ZQRjHkr/hR/YemhQ62FuA3Q+SvP6V82JF4w+K/7TnxO8J/8J5rHhnwpotrpsottIKJOXeEnCSEHYpO4tgbm+UbgAc5Fn8ZvFPwf+HXxztb3VZvFl94HvI4NK1PVn3zSi5RDH5xA+fy2fdnqRx6VksNUdtd7fiVouh9WQ6PZRyqfsNuhyDzCo7Z9PSuZ/ZhhCeHvGqIoUf8JprQVVAAA+0tgfSvnP4reBfiD8MP2eda8bWfxa8T3vihNMS6vvtM6S2TCQDzRAgUGFhvyjK3G0ete4/sXXk+rfCfWLq4kklubnxNqjyzE/OztKSzfXJJr6jIKM41JzcrpaddzzcVaysetaF8QfD/AIj8WeIPDGnah9p1zQfJ/tK1WGQG385C8fzFQrZUE/KTjocVj/D34uaf8RPFXjbQ7SzurOfwnqK6ddy3O0JMxjDhkweB8wHPPBr5e+C/wRluP2qvi/ajx/4zjOjzaROZ/wC0Rv1AGEybLn5MSKMbQpxhTVv4T/DXWfiN8cvj7CvjnXvCWiw+I03Q+HpUt7i4n+zJh3mKswVVGNoxkkk9q+7VzzD7UfapOeMdadjHQcevavh6x/aG8beCf2XNde41p9R8U2HjafwRZeILiE3EyIs4jW5eIKTLIqk/KFYsQDhuQdzwv4wuvCHjrwaPB/jH4jeO21LV4dO17T/FOg36wC3lyrXUcstrGsBjcq20NgqSOwxQH2L14prSBVDHIHrg1xvxk+IH/Cr/AIV+KvFiW/2x9H06e7SAEfvHVCVB56Zxn618dt8RNXtfANp40034ifEfxB8UvKi1AaBJ4b1KPRruU/M1osItQioVPlh/MxnD5Gc0AfehZTg574oaZAuScDkdD2r558O/EfX/AAj+0xJoviS5vT4Y8b6HFquhRXhAXT7qBMXNsB/CSmHx9fevK9e/aA8Xab8KfFvxOs9au4rLxr4otvD3hJTbvcJptkGMP21LcgkyMFmfZtO47Bg5wQD7akUnOAxHB4BPtTFJVdoDYGFwFJr498OeMLrwb468GP4P8X/Efx2uqaxDpuu6Z4s0G/W3W3myjXccstrGsJifDbQ2CrHsOL3gfSfGnxo+MPxn0rUfiR4i0LwtoWuLb2Vloc6QTq5gQ480qdsYA+4MAliTQB9OeMPGOj+AfDOoeINfvV07R9PiM1zdOjMI0HUkKCfwArT0++g1S1hubWUTQTRrLG4zhlYAgj8CK+A/iBN4j+I37EfxHXxH4v1u4v8AwPrGpaMZ4rlU/tWOGeNEN2Nv7whfTHPJya+s/gD8NX+H/gu1c+LPEPib7da2sm3Xr37QLbEQO2IbRsXnpzQB6krBVOelKoXr/n1rwv8AaF1zQ4da8PaXqvxN8SeDZZY5ZRo/hC3ee/vlyoEpEMMsyxpgjIAXLcnIxXlfwx+LWuWvhf8AaF0Oy8UeIddtPCmmG/0PVPEVrJBqUXm2Uj7X81EclJEypZfXtigD7JLAKSeADjJFG4Y9umcV8Iapp/xGt/2P9I+M0vxW8Sr4zsdDs9YS0inRdOljAjIjlhKHzGZDl2YksxI6cV6V4/8AFfin4s/HDwT8MtL8TX/gvSrnwivi7V77RZFivZw0ohSCOQglAHyx2jkcUAe23nxU02z+MVh8OntLhtUvNGl1qO6DJ5IjSZYih53bsuD0x71u+LvFeleA/DGqeIdduvsGjaZbvdXd15byCONBljtQFjx2AJPQA18s+FfCGseBv28NG0vU/Ed94osY/Alw9heaoQ94kZvE3RyyBQJCGBIbGdpwckZPeft0eGH8Q/s2+MrtNb1TRxpenT3Tx6dcCKO6UIcxTDadyHnjigD0P4pfF7Svhj8Kbvx9Mk2oaNDBDcJ9lADyJK6IjDdgAfvFPJFd3bTLdWsMqjAkjEg9cEZ59K+H/jF8NbjwP+wTrd1/wlniHXzf6Zo8q2ut3v2mK1JmhO2BdoKL82Mc5Cj610fxW0Hxp8DfDPgr4j/8LN17XdU/trTrXVNJuHji0m5hncRSJHbKoEYG/CnkjqSTzQB9gZ2/NgkAjoCac5GfQ18f/FL4wHxV8ffE3grW/FfizwZ4X8L29t5a+CdOvLi81G5nXeXmnt4JDFGqcCM7dx5yccekfsw+Ntb8Rt4u0W+utb1vQ9Duoo9H17X9KmsLq8tpI922RZY0aR42DKZNo3ZBNICh8FdKtdQ/4WFNcQRzyL401lQXQMcC6bgfma9I/sHT2fd9it9w6nyh6Y9K+X77WdIs4/ENhqfxC17wYbrx3rxSy8NWzT31/tuCfkEcMkwCc5KDHzfN2q/8F/iBqMPjb4m+E7XxL4g8RaNpulw6tpt54mtpob63eVXEkZ82ON2XKhgSMAkgeo/LMww1aeJqVFLS/me9Rsqa0PpN9D06NSzWNqAOv7teP0praLp2cfYbUH/riv8AhXxBY3XxAuf2Srb4wN8TPEg8R6baC5hsxOgsJY4pyNsybd0rMA2WY55A6AAd748Xxt8Lo/hp49k+IGtatqOta9pthrGj3BjGmyxXWd6Qwoo8sJ0VuW6EknJrzvqre1Trbd7o2TXVH0+uh6cWwNPt/wDvyv8AhTv7D09vkFhbep/cr/hXgE1x4g+Ovxs8f+Hf+Er1zwl4b8FtZ28dv4dmS2nu554vMZ5JSGJUAAKoAHNclqfxO8ZeE/hH8fPC914hn1DWvAsKjTvEbqq3UsE8QePzCMAyopK7wBnAPXJp/VavNyc2uj+8enY+rZNF0794BY2v/fpfX6UraXp6zODYWwDLkEwqPf09BXgP7QHjrXfDP7KOn+I9M1e5s9ZEOkzNfwuVdmeWESE+u7cRg8HNZXjRvGPjr9rRvA1h401Tw54WTwbHqV5DpcixzO32p0zE5U7HYlMtjOFI71McLUtzc2mvXsJtJ2sfSFxpemwxl2sLVFUFmYxLjA6np7H8qx/B2teFviH4as/EHh2O11HSLvd5N0tsYw+1ijfK6hhhlYdO1fPfhPSfEV94q+MXwrv/AB34muNO0eOxvrDW2vQNSiWeLfJEZQvzJ8oGCO7etTfsEfD2TS/g34W8UnxP4hvory0uIhpFxe7rCH/SGG9ItvDEoTnP8R9adXDyjTcubtsCabsfS/8AY+nLnNjbcDJ/cr/hUjaDYZIFhak4+75af4V45+0R4y8RR+Ivh/8AD7wvqUmgX/i++mjutahjV5bS0hj3yiLcCBK4OFY/dIz1wa5i/t/EHwN+LPgjQV8b6/4n8L+NGu9LuItcuFmubS4WHek0EoQFeeCDkenNRRpXinKe/wCg2l2O8vPixpN18WbzwHofgu98SXlgbf8Ate+s4II7XTBK3HmtKyFiE+crGGJHQEggbnxa8ZaF8H/h3qPivUNFW9stPWMyQWkMfmtukVAF3cdWFfP/AOzT8KZLX45/FSZvGniqc6Frtupjk1AFL/NuGzcjb+8POO3Ar0P9uQj/AIZf8ZE5wI7XOOv/AB9xV0zpqNaEIvRiila57Pbabpl1DHONPtljdQ4VolBAPOOB1HtXHfDnxt4e+JF74ttbTQfsz+G9Zm0SdpoUImmjVGZl28bSHGM4PB4rzX4N/EDX/wBojxpHr2l6xN4d8B+F7lrIaTGwW91O6VArm7QEmGFcnbGQGYnJxwK4T4H/AAz1f4leJfjMy+N9c8Kabb+ONQjii0CVYJXmZY90kkhUllC7AqDAzuJzkYn6v7OU4Tlqv8yeZX2PrhvDundrG2+hiX/CnHw9p21T/Z9uvv5Ax/KvkC2/aK8ZeH/2XdKvrzVmuPFl34pk8J/22tl50qIJ3X7QIVX97IsaEBQpLMBkEkit3wz4oufCvxC8HJ4U8V/EPxlZ6nfCx1qx8V6PfLBbwshK3Mc01tGI9jhcrnBVjxxU/Vatm7/mNyij6ibw/p7YP2C2Pb/VL/hTV0XTmQMLC2ZfUQqf6e9fIlt8Vrb4seJ/FV/rnj7x54Zt9P1e503SdM8JaLePCkUDbDNLPBbSiVnIYlS3yjH4O8afFP4l6x8IPhG9tqN34b8Xar41h0O4vrmwa2F3CDOiTPA4Vgj7UkKYXJyOOguWBqx93m1fr/kPmi9kfQXhu3jt/wBqSaGCJLZP+EN3bY1C8/bVBPHfivRPiN8TrH4dX/hDTprafUdS8S6tFpdla2+N3ILSysTwEjjVnbvwMcnFeL/B3wTc+Av2jLvT7vxFq3ie4k8JNcNfaxMskgLXifIm1QFTjIUDgs1S/EaQ61+3T8JtNuEEltpnhvUdThVuizO4hzxyPlr9GymLjg6abvoeJiPjdj2zw348n8QeKPE2iyeHNW0qLRpIki1O+jVLbUA4yWtyCSwXgHIrq1Yjg/njj86+Rdd+KHiy2vP2svL128jXwzp0UmjKHz9gkOnvIxiz93LAHjuM1yni/SviV4O/Zd0r4zT/ABU8ST+MLWw07Vm0+KaNdLlikaICF4Anzkq67mPJbcTnNeucx9zb9vU0vmA1R0u7Op6XZ3W3DTRI5U9MkA18ufCjSfFn7SE/i3x1ffEfxJ4XtbfWbnStD0PQZEhgs47aQqr3CFSJpHY5ZWHTjleAAfWG5QAefbg0vHIr4Cb4xfEeL9j/AOL2u3Hi+5k8XaV48uNLt9UgynlRi7t0McYBJSP5mAUHgNivf9R8L3Hwn+GviLXPGXxl1+yl1NIftGuXMkLR2T7gCtnbmNlTdkqFAZhweTzQB75tXpkZ9M80mFDKMYZug718ZeGPGzeC/jp8MtM8MeO/HvizQ/E811Zana+NLK7jjJSEuksDT28W1gwYFVyMfhWn4T0Hxn8avjN8btFufiX4l8N+HtA1uGLT7bQrhYZUZ7cEgyFSRGOCEBAJZie2AD673ruIBBK4zg04MrMoGSWGRwa+EvBNv8Tfip+y/rfxD1P4sa/pmueHbW+Wwj0ny7eCUWW795dKEzM8hiwxJ2gYwvLZ7f4kfEXxt4s+GPwQ1pZvEWmeEvEVlDe+KtU8H2zTX0DPao8IG1WdY2kcliqk8AexAPrfjmj5R3GfTPNeK/s26xoGpaZqi+GfidrXxA09JEzbeI3DXmnNg7lffFHMu4Y+WQcbSR1NXf2jvEWkaPoGk2eqeP8AV/Av266ZUXw/am51DUQEOYYkSKSXgsrExrkcc80Aessy+dycM3rxS+YMgZ5JA/Ovk74F+PrvTf2hNf8AAWn+LPFXinwxceFzrsUvjGyngvLO4FwIGSMzwxSPEVKnONu4NjnNcj8FvCfxC+MP7Ns3jXWfi/4qsNVhi1E6dDpU6Qxp5UsuDOdpac7l7kAKFAHBJAPuFWHPOcc//q9a4Txt8XLDwT8QfAnhO4srm4uvFs91BbXERTy4TBEJG35IPIPGAf8AH5ub4zeNvir4B/Z80C11qTw3q/xGgefWNa09AlwkNtCHlWDgiNpDn5gPlqLxp8N9W+Hf7UX7PttP4y1rxZpk19qjQrr8iXFxbyC1G8icKrFWGPlOcEHHU0AfXPjHxLB4M8I654guo5JbXSbGe/ljhALskUbOwXJxkhTjNU/hz44tfiR4D8O+KbK3mtLTW7CDUIYJ8b40ljDgNjIB59axvj7n/hRvxFQEBm8OaiAT/wBe0lfLP7MPxD8RfHXw94E8DeGNWbwl4W8D6Tpf9vXSyeXqWpzCBGWCFPvR25wMy/xgkCgD7hZgrBf4jzgc1ynxU8exfC/4e694rubK6v7XR7V7ua3tFzKyKMsRkdAASfYV4Lo1r4o/aM+MnxPs7jx5r/hTw14Nv00bTtN8M3CWsks/lq8k8zlCzZOAqn5RtOO5J8AdW8U+J/Enx+8F+OvEEni200m7h02IzKiAwSWrBgUQbVZl27gABuLEAZxQB9K6Brdn4m0HTtY06dbnT9Qto7u2mXpJFIoZGH1BB/GuS1/4uad4f+LvhfwBLa3Uupa9ZXV9FcRhfKiWErkNk5ydx6DtXnX7BmpXOpfsr+ChcztcNaxz2cbt1Ecc8iIp+igD8K4n9ojw/qniz9sb4TaNpOu3PhuW70DVVn1GzVTcRwfKXEJYEI54AfBK5yOQDQQfW+7lRnGemeKNy5wfXH5HFfL/AIB1XxB8Hf2jfFvgLUPFWteM/DI8HJ4ptX1ydZ7u3kFw0DxiTaCQdmQOg7DJJPkXhf4u3nxI+HreP7z4n/EPSPHGoQzXunaToHhvUJ9GtCC3kW/lrZvFMvyoGLSc5IJoA+/uKMj0PXHQ/wCcVyvws8Sal4w+GXhfXNZ06bSNY1DTYLi9sZ4zG9vOyAyIVIBGGyOfSvnDwXpHjT40fF74z6VqHxI8R6F4V0PXVt7Kz0KdIJ1c26HAlKkrGAPuLgEsxNAH11uAZh3U4PFNZl3YJ57e9fEun/tCeM/Av7LXiKWXWJNU8VaZ4xuPBdnrdzb/AGmYKtwIluHjUZkdULYAVtzKODkitbQfGFz4J8XeDpfCPjP4l+O3vtYgsdc0nxLoN+bdraXKyXCPJaxrAYmYPw2CoIxigD7EJX9cfnSbcdRivi3UPiynxT+JXxAt/Efjfx54O0jw5rc/h/S9P8F6VdzRyNBgS3E9xb20u52Y8RlhtVRx8xJWb44fEXXPhf4F8KR3+oaH4j8TeL5fCy+KrzTGs7qbT48uL1LeZBtlki2jkDDbiCDjAB9O/Eb4nWPw31TwfY3ttPPL4l1mPRbcx4CxyOjuGYk9PkI455rtOB/n/PpXxT8bfhfrHw1+I/wEjPjfXvFWiXXji0MsXiSdbi4juRG214ZAgwhUyZQ5AO3GPmJ1Pip4q1Cz+M/jD/hY/jTx58P/AAbaLbL4evvDEEg05oig8155oYZPn8wniXaAAOcdAD7DX5un8q5+Hx9oNx44m8Hx6gr+JIdOXVZNPEb7ltS5jEm7G37wxjOfao/htMlz4F0aSPxN/wAJejwBk1xvK/0tSSVc+UAvQjkDnGa+RV+CNxrP7cniTTh8Q/GlkD4Vi1Q6ha6mqTruvGH2YME2rApwQgA6ccUAfbuc9Ac8cY559vwo3V8u6bb+J/2ivix8RNOfxt4h8G+GfBd3Ho9jbeGb5bae5maFZJJ7l8MW+8u0cLgHvk12P7L/AI61/Vm8eeBvFOoPr2r+BdYOlJrEiqst5atErwPLt4MgBKsQOcA8nNAHuORkDIHbrSkFeSDj6V8z/tEa54xuP2iPg/4O8N+LL3wrp3iCDVI9QlsgpeREiRsqGBUSAZ2vglS2QOKg0698T/Ab9pHwP4Nfxhq/jDwp44tLxBF4hnW4urG7t18zekgCt5bLhdh4B3EHNAH0+FJIAHJz+lC/NjHfpxXyB+zFpfjf4rabe+NfEvxH8QfYNE8Tailpo9jOIorpIp2JFyxDM6Z+QRjChV9Txxfg74vRfGDw7c+Mtc+I/wARPDniG8nnbTdJ8L6DfzaTZRxyMsKNstJI7jJXc5L4O4qcAYoA+8lw2MEc9OaCwDKp+8xIA+lfG3ir4ifErxxq37N9lHqV/wCAtU8VwX8WuwW8JRgY7dd7CORSA+AWTeDsLDIOK6aSPxR+z3+0B8P9KXxrr/jHwf44a6sJrHxHcrdXFjcww+Yk0LqoYKRkMv3e57YAPqNW3Yxk56cUo+YgAgkgt17DvXx38Utc0PXNQ8Z3mn/Gr4gNrdiLgQ2vhjT7iXS9PlTcVgdre1aJtrYDF5NwH3jWZ4u+L3j/AOIHwx/Zn1LQ/ETeGdf8Z36QancW6gpITAwZymMHkM4Q/LnGcgUAfa2flzg4+hoDZ7H8q+R/jFrmqfA9PAnw5bx74rurfxZe3lzqniiWKTUtWhghRGaG1SGJim7IAKo2zczADjGn8FvGk+l/GSy8P+G9e8c+NPCOrWE8l5N4x0i8hfS7qLa0bJPPbxZSVd67OcMq4xuNAH1NtNGDQGI4YEH3FO7UANooooAKKKKACiiigAo5xx+tFFAHh/w3/Z68R/CfXNXtdA8cRv8AD/U9QuNQbw9e6SJZ7dpwxdI7oSjCeYQ4BjJ7Z6mtn4Y/Ar/hXf7P4+GT6wNRAs7yz/tIWnlf69pTu8ve33fM6bucds8ergkdKMmgDwS7/ZUEfgD4aadpHiy60jxl4AtlttJ8SwWisjDy1jkEtszFWR1A+Xdkdm9e58C+DPiBpfiCXUvF3xEi8S2otjDDpWn6ImnWwYlT5r5lmkZ+OMOFAz8vOa9CyaMmgD5b8L+AbH4qfDf4s+EtUklhstV8V65A8sJG+M/bXKuueMggHn0ouf2dvEXi/wCH6eF/G/j1tdfT3tbjRtWsdJWxurG4hyVmYiVxI3RTwowDxk5qv4H+Jtj8N9T8c6XrmieKUu5PFerXaGz8NX11E8Mt27RsJI4ipBXB4Peuq/4aS8LL/wAwjxof+5P1L/4xX5fjKOMjiJ+yg7Xvse7SqQUEmzEtfgN4n17xl4b1rx/47j8WW3h2QXVhp9joqadE12FKi4mPnSF3AJxjaoJJxzirGufAvxDb/FPWPHPgvxpH4Xu9ct7eDVLG90ldQimaHhJFPmxlGxx3HtWn/wANKeFv+gN40/8ACP1P/wCMUf8ADSnhb/oD+NP/AAj9S/8AjFcfsMfb+G//AAHQ29rT7nNWX7Onifwzc+KrXwx8QU0Xwx4kvp7+7006OJbyGScATmC681fL3Y+Usj7OMc81V/4ZLFv8CPBvgK08VPaaz4T1FNV0vxEtiG8u4WWRwzW7OVcbZGXBbGefauu/4aU8Lf8AQH8af+EfqX/xij/hpTwt/wBAfxn/AOEfqf8A8Yo9nmT3pv7h+0pdzvvCtnrFjoNjb6/qUGr6tCP317bWv2VJTkkERb328EA/MeQTx0rlPhb8J2+GureOr3+1Pt6+J9cl1ryvI8r7NvVV8vO5t+Ng+bj6Vl/8NK+Fv+gP4z/8I/U//jFH/DSnhb/oD+M//CP1P/4xWUcLjY3SpPXyD2tL+ZGEf2WbK6+DHiX4e32uzTwavq1zq0V/BAIntpJLgToNpZt4Vhg5I3A/w9qGufs5eMfG+reCL/xf8S11T/hE9UtdStrfT9DS0inaE5Yyr5rEyP03BgqgEBDuJrrP+GlPC/8A0B/Gf/hIan/8Yo/4aS8Lf9Afxn/4SGp//GK2dPMnryP7hc9L+ZfeaXg34Tnwn8UvH3jX+1ftTeK/seLL7PtFr5EXl8vv+fIOei4qt8NvgrF8O/Cfi/Q01Zr5fEWrahqjTGDZ5H2r+ALuO7aMc5GeeB0FVf2jvC2SRpHjMZ6/8Uhqf/xilP7SHhZeukeMz/3KGp//ABisvYZhf+G/u7D9pR/mRxesfsiprPwj+G/gb/hL7qwl8GahHqEWtWVqI5pWRZACilz5bZkBBywG3kHORtQ/AHxF4k8eeF9e+IHjpPFVn4af7RYabY6OthE11gqLiY+dIZGCngDauew5B2v+GkvC3/QH8Z/+Ehqf/wAYpP8AhpLwt/0B/Gf/AISGp/8Axit+TML39m/uDno/zL7zOuPgd4h8P+NNc8QeAvG6eFotcuDe6lpGoaUNRtZbohQZ48SxNG5AJbkgnFWfGXwR1bx94M8NaRr3jObUdU0jX7TXpNVk06JfPaGTeYREhRUU5IByxHU7jU//AA0j4V/6A3jP/wAI/U//AIxR/wANIeFf+gP4z/8ACQ1P/wCMVLp5hfSm/uGqlH+ZfeeqSKJNpDMmOgU479PevLfGnwZv9Q+IkPjzwh4nbwr4o+wrpt559it7Z39urllWWHfGd6knDhwccHIpP+GkfC3/AEB/Gf8A4SGp/wDxij/hpLwt/wBAfxn/AOEhqf8A8YrGnhsdTbcab18ivbUv5l9474b/AAVn8I3XifXtf10+KfGfiNRHe6u1qtpGkKqVihihUsERAf7xLHJJNbXwR+GA+DXww0Pwgupf2sumJIn2sQeSJN0jv9zc2Mb8dT0rFX9pDwu3TSPGY/7lDU//AIxSH9pLwsv/ADB/Gf8A4SGp/wDxinPDY6pfmpvXyJ9tS/mR5r+1F4euPFfx2+B1hZarcaFqH2nU5rfU7VVd7aRIEdXKN8rrleVPDDI4zXa6B8C9cuvilpXjfx14zTxXqOiW7waTY2Glf2ba2jyArJKV86VpHKnGSwAwOD0Gqv7SnhZWyNH8Z5xj/kUNT/8AjFJ/w0l4Vz/yB/Gf/hH6n/8AGK1VPHxgoRpPTrbUXtKL3kvvMiz+BPijwHrmsSfDv4gReGfDuqSyXb6Hqej/ANox2txIcvJbv58ZQE/NsYMoO7jnFX/GvwHufGvhXwzE/jLUIPHHhqdrvTfGD2sDzrMwIcNCFWNomBAMfHCqM9SbDftIeFW/5g/jP/wkNT/+MUL+0h4VUf8AIH8af+Ehqf8A8YodLMZPmlTd/QXPQt8X4kPhv4L6vcfEbS/GvjnxbH4o1XR4JYdJtrPTRYWlmZBh5SnmSM8jABcl8AHgV4x+zV8OvG82m/Ey+8K+Of8AhEpL/wAZ6xFc2uo6P9vhEiyALNEplj2SDJUk7g21cr8vPtn/AA0h4V/6A/jT/wAJDU//AIxTl/aR8LHaBo3jPjp/xSGp/wDxitIQx0YuPsnr5Bz0P5vxOcuf2UNKk+Ad58Oo9cuUv7q7/teXxFNGJJ5tSMgla4dAQGBcfdJ6cZ71o658CfEXifSfDGpah44CfEbw7JK1j4psdLSKMpLhZI5bUyMroyhcgMDlcjb0rVb9ozwyf+YL4z/8JHUv/jFJ/wANHeGR/wAwXxn/AOEjqX/xiplTzCT1pv7h81L+Y2PA/hPx1puvTX/ivx9D4gtvJMUOm6fo6afbBiQTIxLyyM3H98Lyfl71W+NvwoHxh8JW+lx6tL4e1TTtRt9W03U4YxN9nuoWJjcoSNwGTkZGeOaof8NHeGR/zBfGf/hI6l/8Ypv/AA0Z4Y6/2L4z/wDCR1L/AOMVhLDY6UlL2TuvIpVaS+0vvMWH4D+JtS+K3g/x54n8eprt34dFxFHp1po62Vq0csRTKjznKvnksS2QFAC4ybknwT17RPilrXi/wh4zh8P2/iB7eXWNLu9IW+EskWF3RSGVDGSgx/EBnOO1X/8Aho3wx/0BfGX/AISOpf8Axik/4aM8Mf8AQF8Z/wDhI6l/8Yrf2eY20pv7ifaUX9pfeZnh/wCB3iDwP8QvEGqeGfGsVp4V8Qal/aupeH77SxcF52wJjFcCVTGHCjqjYB/Kh4d+AfjH4d2V5ovgX4kxaD4UmmkmttMvtDW+m04yMWdYJvOjGzJJCujYz36V0X/DRfhj/oC+M/8AwkdS/wDjFH/DRfhj/oC+M/8AwkdS/wDjFDjmUt6f4C5qH834kurfBmfVvH3w38UT+Jp7u78IWt1BI91aq0moNNEIy7MpRUPBPCEH2rT1D4Wx6h8bNJ+IJ1EJ9h0SfRjppt93mCSVZPM37uMbSNu05z14rI/4aM8Mf9AXxn/4SOpf/GKP+GjPDH/QF8Z/+EjqX/xisfquNvzezd/Qv21Facy+85jQ/wBnTxR4H0/UfD3hL4mTaP4IvZpJBpE2kRz3dkshJlW3ui4CBiTjdE23PHOTUGifsnwaZ8I/APgOTxHJcL4V8Qw6+l99k2/aGS4eXyim/jO8jduPTOO1dd/w0d4Z/wCgN4z/APCR1L/4xS/8NG+GP+gN4z/8JHUv/jFaqlmC2pv7iXUpP7SNHwr8JU8N/Fzxx47XUvNfxJDZRvp/k7fs5t4ymRJu+bdnONoxjqa5nUPgpouhWvxh1XXpbjXdF8ZKLm60q1tXM0SRWwj8uPaxaRyEyuADkgYNaY/aK8Lgk/2L4zyev/FI6l/8Yo/4aL8LnH/El8Zf+EjqX/xio9hj27um/uY/a0v5kfI3xGvdC8VfBnUfBehfG7X/AIhzTRxWmieDRYRJfCQNhFuSIhO6xgZO8qAU5yQK+x/2ObCfQ/hnrVhKuZrTxVqsD+5SYqf1FUl/aH8LtJj+xvGK7vlJbwjqQHfr+49zXRfswNdSeDPEd7LY3tlFqPivVb63S/tJLWV4ZJ2ZH8uRVYAg55Ar7LKHW55KpFxXn/wyODFOEopxdylrH7P3iSx+MWtePvBHjqLwrNr9vb2+r6ffaONSiuDCMJIhM0Zjbbxxke1dT8Mfg2Phz4y+IOvjVftw8W6oup/Zjb7PspEKxlN2478kbs4GM45xmvR92407cK+rR5h4Lafsm6TL8NfGXg/VtYubuDXvE134mt72zhFvPp88syyx+WSzhihQfMcZBPArc8M/Df4q2ur6VL4i+LMOp6TYOry2emeG4rKa/wBpBAnlaaYbT0IjRCfUdK9e3D1o3D1qwMrxH4bsfFWh6ho2qW63en6hayWk8L9GjdSjLntwxrxfw78DfiZ4T8Pw+F9L+MbReGbeRYraSfw9FNqkFqMYhFyZthOBtDtCSAR3AI993CotooA8h/aI/Z+g+PfgzT9KXXrzw1rWm3Qu7HXLVfMmgYqY5QAGQkOjsDyMZB5xitHxT8A/Dfir4Oad8OSs2maTpkFqmnXFntFxZSW5UxSxsQRuBXOe+T616btFG2gDybwv8PfinYa9pT6/8W4dV0WybfLa6d4ZitJr3B4E8rzS/KR18tUJ/vDpWn8M/hEvw38afELXU1VtQPi3VV1Tyfs4jFpiJY9m7cd/IznC+nvXo/ln0o8s+lAHiugfs02Fp8M/iN4J1fV5NS0/xjrOpatJNbwC3e2+1MGCqNzhihAIY4Bx0FdN8G/A/jD4e6PFpXifxrb+MbW0t47Wykj0cWEiImQDIRNJ5jFdoyAvTPJJr0Tyz6UeX7UAeRfET4H614k+KGlfEPwd4uj8K+KLPTJNFuBfaYNQtbuyaTzfLaPzYyrCTDBg38IBBFYPhn9ly+0Zvizcax44uvEGqfEHT0s7i9msI4vsriGSIsqK+Cv7wEJxgLjcT8x96HHSloA8e1L9n1tT/Zfj+D514QFdBh0T+2vsm77kar5vk7x12j5d/wCJ61B42/Z7vda1jwV4n8N+LH8MeNvDNiulpqbWIube7tMLvimty6kqzLu+WRSpPBOK9oooA8K8Efs563ovx0T4qeJfHLeJ9dfRJNFntl0tbS2CGVXTyFErmJFwfkJcszs24ZwPVvHnguw+IvgXX/CmqeYNO1mylsJ2iOHVJEKkqfUZyPpW/RQB86ah+zH4y8S/A/U/hlr/AMTYtV0mW1tbOxuhoAimtlgmV1MjC4PmnYip0XpnnnPoHxu+Dh+LvgDTfDf9pDSzZ6lY363CwebxbSrIF271xu24yDx1wa9LDEdKCd3WgDx7xj8DdYk+JT+PfAHi2Pwb4gvraO01mO803+0bLU0jDeUzxebGVkQn76sOAAc812Xw78K+JPDlvfnxT4ubxbf3c/mrJHYJZW9umOI4ogzMBnnLux9+gHXUooA+NfDvwdvfFni7XPGnh3XY/D3ifRfF3iC2jmubM3kE0Etyd6PF5keeQCCHGMdDxjtfA3wF1Lw/428X+LNa8Xtr2seJtMisLjbYC3igKbhujXzGwmGUBOSMEliW4yPBPxQsfhvqnjfS9c0XxSl5J4q1S8Q2fhq/uYnikuGZHWSOIqQVweD3rp/+GkfC+cf2N40J/wCxQ1P/AOMV+YY6GN+s1PZQbV+x7dKcFBJsyoP2cRD+zK3wgTX9itZtZnWPsmeGlZy3lb/Q4xu/Gt34m/Bc/Ejwr4S0VtZFgNB1bT9U8023mi4Fqf8AV43Lt3/3ucehqL/hozwz/wBAXxn/AOEjqX/xij/ho3wx/wBAXxp/4SGpf/GK8/6vj739m++3U2dWmvtIq+IPgprdv8QtW8ZeCfF6+F9T1qGGDVbS800X9pdiJdscmzzI2R1HGQ+COq96raB+zPpVr8O/Gega/qlz4j1vxoJX1/xBIixTXErptVo0GRGkfBSPkLjvzWn/AMNHeGP+gN40/wDCQ1L/AOMUf8NHeGP+gL40/wDCQ1L/AOMVXscw/wCfb+4n2tPueb+Kv2UfGXxB8B2HgzxJ8VhPommi3Fotl4eS3MjQsNjXH79jJhRgBSgB+Y7ulesWfwlWy+OU/wARV1Ys0/h5NAbTvs4wNtwZvNEm73xt29s57Vn/APDRnhn/AKAvjP8A8JDUv/jFH/DRnhn/AKAvjP8A8JDUv/jFEqOYTXK6bt6D56V7834l7QfhGmj/ABY8b+NJNTNwnie1s7Z9PWDb5HkIVLCTcd27PTAxjvmsX4MfBfxF8GY4dDsfG0WpeBrZ5mtdGudIVLqFXYsE+0rJhgGYnmPJzjNW/wDhozwx/wBAXxn/AOEhqX/xil/4aN8Mf9ATxn/4SGpf/GKz9hmElyum7PyDno7834lv4yfB22+LVnos0Wo3Hh/xJoN6uoaRrVrGsj2swwDuRuHjYcMh4OBWNoPwJ1u8+ImkeM/HnjNfFuoaFFJFo9pY6Uun2tqZFCySlfMkZ5GHGSwA7Crp/aQ8Mj/mC+M//CQ1L/4xQv7R/hkZI0bxn/4SOpf/ABiqjhsdBcsabt6Fe2pfzL7zT+Hnwq/4QPxt498QjUvtf/CV38d8bbyNv2UpEI9u7cd+cZzgfSpPjf8AC9fjN8MNZ8HPqDaUNREQ+2i3EwTZKkmCm5c52469/wADlf8ADSXhr/oDeNP/AAkNS/8AjFL/AMNJ+Gv+gN40/wDCQ1L/AOMVEsJj5S53F39CfbUtuZfeQy/AmDT/AIjaZ448OarL4c1j93DrcMMW+21q3UfdljyAsgx8so5HcNWp8J/hOnwrvPG8qag2qx+JNfn1wRmERfZ/NVQY85bfjbndxnOMVR/4aS8N/wDQG8Z/+EhqX/xij/hpLw3/ANAbxn/4SGpf/GKcsLmDfwN/IXtKX8y+85+y/ZfsF+FF94Iv9cu5zJrU2u2mr2UP2aezuGnaaNkBZhlCcZPXngVt+GfAPxMs9U0eTxF8UY9Y03T8l7Ow8PxWb3h24AmkaSTgEk4jVOn0qQ/tI+Gj/wAwXxn/AOEhqX/xij/hpDw1/wBAXxl/4SGpf/GKp4fMHvB/+Aj9pRe8l95kH4I+JvCvirXNT+HnjqDw1put3LX97o+p6L/aECXTffmhIliMZbqV+YZJOKu+IPgbeeKNL8BRax4tvNT1Pwv4it/EL6lcWcYN68ZkLQ7E2CNT5nBGdoUfeqyv7R/hlemi+Ms/9ihqX/xihv2kPDe0j+xvGXT/AKFDUv8A4xUuhmEnzODv6AqlGO0l95p+Hxv/AGqHGOngnH/k8Kw/j9ptx4U/aM+CXj63gkksnurjwrqEkQzsF2oFuW/2fNB/HH4v+E/iYePP2ir3W9P0rW7bS4PCYsmuNW0m4sR5xuw+1fORdx288elfQ20Hk1+l5XTlTwdOE1ZpHi4iSlUbTPFtQ/Zpi1O5+NEh18oPiTai3cfZedPxbNACPm/efe3Y+X0z3rS8ZfAk+M/2bR8KZda+x7dIs9KGqra7z/o/lESGLePvGIfLu4z1r1letFeqYIraXbHT9NtLbd5n2eFIt2PvbVA6fh0r458Ual4E+GfxK8b2+lfHLW/hENQ1B73WfDl3pMTRXMrDa89m1xC3L4J3Q7s4HHAr7O2huCMg8EGpHjWTAYZA5x2oGfEnwD/ZxuviH+yl4t8K3lxqHhew8UeKJ9a06bVLZpruO1FxE0TSozISzrCOpzzuOc19JfG34OW/xr+H/wDwjkmpTaRLDcQXtpqNtGrtbXMLh45PLY4cbh90nv1B5r0vpzjnGKRV20AeCv8As9+LfE3xG8B+M/GHxEg1m88JXU09vY6bof2K3lWSAxsGDXEjB9xzuyRhQAgOWrsPhn8HT8PPHXxF8Sf2sNQ/4S/Uk1Frb7P5X2QLCIxGG3NvzjO7C9cY7n0oDG7jrRjCnFAHjPgH9nz/AIQf4A+IPhoNe+1nVYdSi/tP7Jt8v7WZOfL3nOwSf3hux2zxJY/CDxn4T8C+BdB8H+P4dGfw1pUOlTm90VLy21BY4VjEjR+YjxsCuRtk/iIO6vXaev3TQB5b8I/gxefD3xV4q8Xa94hi8TeJ/Eht0vLq3sBY26RwqVjjihDuRjcSWZ2Jz26UfGf4MXfxI1zwn4l0HxH/AMIx4q8L3Es2n30lot3A6SqEljlhLKWBUdVdSO1enkZpyrQB4j4L+AWtaT8aLr4k+I/Gh8Ra1daA2hTQw6YtnbopnWRWiHmOVUbT8rFiS5O4D5RsfB/4Ip8K/gmfAB1ptSOy8QX/ANk8n/XySP8A6ve3TzMfe5xnjNetelLmgD5yk/ZMEXwp+HPhzT/GU+meKvATCXR/E8Wnhtr8h1e3ZyGjdSAybv4Bz1zZt/2c/E+tfFjwT4/8W/Ef+3NT8MPP5VjZaIlnZvHJFswq+Y7q2TuLM754AVRX0Jn/ADikoA53x94Z/wCE48FeIPDzXP2Mavp9xp5uNm/yvNjZN+3IzjdnGRnHWvG2/ZQg0vRfAVz4c8QN4e8f+EdPtdNh8V2tipF9bxoqPDc2/mYlidV+6WJQ4KkmvoButAzQB8g/Fi68IfD/AOOGsXWn/GHUvgr4l1O3hl1WO60uOfT9X2xgCWE3KGMSgfKSrE/L0yTnmvgfqcHwp+Ff7QPxOtBqmoeHNQufO0PU9bz9p1lkhMYuCpw22WeTg4X73QdvuJlDIFxwDkUCEEEkfjn/AD60AeV/ss/De6+E3wB8F+G78EajBYJPeKwwVnl/eyL/AMBZyv8AwGr/AIi+EA1745eEPiKNU8htA068086f9n3eeJ9vzb9w27cHjBzntivR/wD9dFSQec3PwhiuPjtJ8R3v1fzPDA8NvpbW+Qyi6afzDJv/ANort2++e1cN4b/Z78dfDfSZvDvgP4qJoPhFpXks7DUdAXULnTVdtzRwztOgKgk7Q6Ptz3Fe/Yo2igDP8P6dcaRoVhY3mqXOsXNvAkUl9dKgluGVQC7BAqhjjJwAOa4b4a/CH/hXnjH4ia4upfbR4t1RdTEBh2C1IhWPZu3HfnbnOF64969JwKNooA8KtP2UdIk+Gfjfwbq2tT38PiPxDd+Ior60h+yzWM8swmjKfM25o3UckgNz8orX8N/DX4o6feaMuu/FuPWNK0+ZZZLew8Ox2VxfBTkLcTGWRcH+Lyo4yexWvXtoo2igDxGb4CeJPC/jzX/Efw78cx+FYPEdz9s1bSNR0kalayXRABuIx50TRMQOQGIJ7VN40/Z9v/iB8PdH0fX/ABrqF94t0a/XVtP8WxWsUMltdqxZWS3UBPLAJXYSSQeWJ5HtGBRtFAHzxrv7M3jDx54y8DeJPGXxQh1e68J6rFqNpa6f4eWygkCj5g489z5jEL8+SAAQE5JrrfF3w9+KOp6trEnh/wCKlppOk6hnytP1Hw1HeSWG5cN5MyTRZHUgSK+CepHFetbRRtFAHGfCH4Zaf8Hfhvovg/TJ5rqz02Ix+fcY3yszFncgcDczMcDgZxXHfEH4D65rnxUsfiH4J8YxeDvEkemNpF4LvShqNteW24uitGZYyrK53BlbnGCCK9k2ijpQB4Xd/s9+KtB+IGseL/Avj+PwxqPiC3iGu2l9oq6haXVzHGqLdRJ50bQvgEFdzKeODgY6/wCCnwatvg7ouqRLqNxrWs6xfSapq2r3gVZby5kwGbavCLgABBwAB1616NmjNAHyn+0p4X1DxN+1R8DoNN1S40DUFtdXktdVt41k+zyrEjAtG3Eik4BQ4BBxkcGvQvB/wC1uP4tW3xD8e+NF8X65pdk9jpFvZ6WNPtLFXz5kix+bKWkYEAsW6duBj2oKCQSBkd6VqAPNPgf8HV+C/g/UfD39qf21Bd6nean5pt/J2/aJTJ5e0s2cA4znnrgdK47Qv2fPG3w3t9U0n4b/ABMt/C/hW6uJLq30nUfDy6kdPkkcvILaTz4sISThZFcDn1r3rFFAHyF+0V4F1fUfjR+zrog8W6nFrME2qmPxF5ULXBmjtkdZXjCCNlyo3JtwRxxnNen+Hv2f9fvfivpPj74geNk8WaloVs8OjWGn6UNNtLJ5BiWUoZZWkkYEDJYAAYx0x7dtG9WxyvSntJvAGBmgD5x039lfxF4a0XxN4Q8P/El9N+H2u3lzdPpg0lW1C2FwD5scV55mArMSctEWAYgMDhho6P8AsrrpPhf4L6T/AMJG0v8Awre6W5Wc2g/0/EbIV27x5Wd2c5fHI56171toxQB5v8X/AIOx/E9tA1Ow1ebwz4t8PXJu9I163hWdrZmXa6NE3yyRupIZSR0GCKTwh4H+Idp4ik1PxV8R49bt0tDBb6bpehpp8AkJ/wBbIWmleRsdBuVRzwc16TgUtAHI/C3wnr3grwba6T4k8WXHjXVYZJGfWLm2W3eRWcsqlFJA2ghc5OcV14+6abTh900AJRRRQAUUUUAFFFFABRRRQAUUUUAFFFFADFjVc4GM+9PBIoooAXeaN5pKKd2O7F3mjcaSikF2OooopjshuTS5NJRRckUqDRt29KWigqyG5NGTRRRckMmjJooouKyDJpcmkoouMUqDRt29KWigqyG5NLk0lFFyLIfSUUUXZVkNyaMmiigmwu40n40UUihdvuaNvuaWigLIbRRRQTZC7fc0bfc0tFBXKhtFFFBNkLt9zRt9zS0UFWQ2iiimTZADgg5NKjbMY/WkoFOw1psOPNFFFSWNoooqwCiiioICgUUUxi7j60bj60lFUULuPrRuPrSUUAFFFFQQFFFFABRRRQAUUUUAFGaKKYDdg9/zNP3Gkop2Q7sXcaTJ9TRRUhdi7jRuNJRU3YXYu40bjSUUBdhk+tGT60UUBcT/AD1opaKLsdkFFFFF2RZBRRRRdjCiiindgLt9zRt9zS0UyrIb3JBwSMH6UlLRQQFFFFAwpdx9aSigBdx9aNx9aSigBdx9aNx9aSigApdxpKKACl3EUlFAC7j60bj60lFAC7j60bj60lFAB1ooooAKNxoooAKKKKACiiigAooooAKKKKACiiigAooooAKKKKACiiigAooooAKKKKACiiigAooooAKKKKACiiigAooooAKKKKACiiigAoopKAFoqjo+uad4gsUvtLv7XUrJyyrcWcyyxsVJVgGUkcEEfhStrenLrKaQb+2GqvCblbEzL55iBwZAmd23PG7GM0AXaKKKACiioLy8g0+1lubqaO3t4VLySysFVFAyWJPQADJPagCeiq+n6jaatYwXtjdQ3tncIskNxbyCSORSMhlYHBBB6irFABRRRQA6iqOta7p3hzTZ9Q1a/ttMsIADLdXcqxRJkhRlmIAySAPUmroYMgYHKnoR0NBYlFFFBncXJpaTaeOMZ5pxBxQWhlFFFBHUKKKKBhRVLVNb07Q47d9Rv7axW4nS1hNxKsfmTOcJGuTyzHgAcmrisCePXFAD6KKKCw2ijAoooAKKKKADaKTFLRQIbRRRQSGTRk0UUAFFFFABk0ZNFFABRRRQAZNGTRRQAUUUUAFFFFABk0ZNFFABRRRQAUUUUAFFFFABRRRQAUUUUAFFFFABRRRQAUUUUAFFFFABRRRQAUUUUAFFFFABRRXN+PNfu/DukJPaSQW7zTLbte3QzBZKwObiXHJVcDjgEsoJVcsADJ+I3xO0zwdPpmkSazpejaxq5ItLjWLmOCCJAVDSEOy+YRvULGp3OSBlVDMsOifEbTdM8bP4G1PxLp+ra6qs8DRzxfaXUKGZZ4Y8eXIAcj5QrryMHIHnnia31Dw3Y/EbwtBrWm6nY6nvWbUNa1a58/TTLp8CSB0W2kRRkNPtDouJgAqritfxXdXlxqF74eS90ew0y58R2Ty6h/a11BcBTeQu9t5a2+3fJgxYEwB8wdM7aAPbKK5DwfqV9DqmqaFcytqcOmmNY9TI+Ztwz5UuAFMq4O7b2Kk4LYHX0AFFFFABRRRQAUUUUAFFFFABk0ZNFFABRRRQAUUUUAFFFFABRRRQAUUUUAFFFFABRRRQAUUUUAFFFFABRRRQAUUUUAFFFFABRRRQAUUUUAFFFFABRRRQAUUUUAFFFFABRRRQAUUUUAFFFFABRRRQAUUUUAFFFFABRRRQAUUUUAFFFFABRRRQAVFdNttpSOoQnj6VLUc+fJk2gk7TjHXpQB8O/sd/tYfDD4a/AbSND8Ta9d2Gp215fGaOLRb+4UbruUj95FAyngjoTXTeBPjF4S+M37eFhqXhDVJNSsrbwBPbSSzWNxalJPt6MRtmjRsbWHIGPfg16V+xP4T1rwT+zpoGla9plxo2pR3d/LJaXUeyQB7uVlLKfUMD+NV9Z8H6zL+25pviJdNum8PHwBNp76gsZ8gXBvt3lFum7ac49KAH2X7RXirxhZ6xrfgT4dL4s8H6dcSW66pNrQsrm/MTETNaWxgcSKMHaXkTeRgYHNU/H37X9h4X0/4YXvh3w1qHjWLx4ZvsENlKkE6siKQhVxjJc7WyyhMMSflwfFPA/wANrb4I6Tc+CfGPw08feIbyyuZW0/VvCGs3zWN/aySsYmaOK7jS3kJLBkKjoDyGyfRbn4X3Wl/ED9mptA8D3XhjQ/D8uqNd6WJhdHSxJBhRJKGbfuYn5snlsZ9QD0DVfj54n0GPwxoF58P45PiZ4ilmNp4Zt9aWS3t7eIgvcXF4IsIgU/wxsSSFGTzVvTfG158SpvEvwz8ceGbbw14kuNJe4/s/7T/adjeWUpMJlV9kRYK52ujKjcjBwQ1cD+1N8Lbq4+KXgz4lJ4d1fxfoml2FxpOr6XoGpy2d/HDJh454TFLEz7WBVkD8hhxgEjc+Aei+HL3x3d63pXwq8ZeFpIdN+yJr3jO+nkmkVpFcwRxXFxI4U7Q+4ADKY60ATx+L5/gbfeBfgl4F8Mjxfr0OhG7DXmojTbeK0hIiMryeXISzvx5aIcZ7KM16n8O/EHiPxFpMsvinwwfCWqwzNE1mL6O8ikUAFZIpUCkowbHzKrAggjoT5V+0np/h3VNc0ceI/hT4s8YJbxebZeIvCRZbmylJcNHvhljmQYw3XY24ZBI4u/so6T4x0rwv4hXxL/wkEOiyao7+HrbxXOk+qw2WxB+/ZSerhyFYlgDz2oA67WvjBD4f+OXhz4eXulvFFr2lXF9ZasZvlknhceZbCPb94RkPnd7YrnvCf7TekeKv2hvEPwpi0ySC60u2MkWqmbdFdTII2ngRQPvRrMhPzEnngYrP/a28Iaxe+DdF8beFNNk1Txj4J1SHWNPtYSQ91EDsuLfjkiSNuQOSVXHIrybVvg74v+HnwP8AAnjnRNAk1f4r6Jq0niLULKNS8t21+zC8tyRzlRMnOMjyB24oAu/tYfFxfiR+z58ctPs9LeLSvC2p2ekLqCz7heXKTwPOqqVG3y2IQ5Jyd3TFdnfftN+LPBNr4P1HxP8AC+50TwNrd9a6YmrtrEUl9atOAsMlxZiP5Ax25USEoGAIDfLXI/E/4I6/4V/YI1Dwfa2EureK7qO31DU44f3klxey3Uc1wc9W+Zn56/L1Nd5+1j4P1zxV8GdF0/R9KudT1GPXNIme2toi7IkdyjMxHYKoOfQUFnc+OvGXj/S9ej07wn8Po/EVn5Anl1a/16LT7ZeWHlqBFNIzcA8xhcEfN1x4z8UP2ifE3jT9lX4h654d8LvpHiLR01DRdetpdV8qXRpo4W8yaGQR/v8AAZGXGzO7qCKr/FWz1vSPj5rur+M/DXjfxf4Fm0y2Xw/D4Ru5kt7OZSROtxHBNEd7ZB3SZGDgZ28Znwf+C/jDVfgL+0J4XvtCm8Nan4q1nVDptpqFw042TWkKxEzMSZFzgF8nlWweKCD2r9mjxR448VfDfQZfFvhuDRYW0myaz1GLWxqE1/ugUtLIvkr5bHhiCzct1452dU+MX9ifHTSvh3f6S1vFrGkTajpuseeGW4liYia38raCGVMSZ3HIJGBiuc/Zl8c6trXgfRvDWt+BPEnhDVdB0y2sriXVrZUtJWiRYv3MobEmdu7oODWH+2xp8+lfDG1+I2kyw2vibwDew63YyzNtEiBwk9uT/dljYqR3IXvQUjpNc/aQ0jw7488daRe2bLoXgvRI9V1nWkkLCKWQkparHtyXKDfndjkDFcVN+1Z4x0Pwhp/jrxJ8J59G8AXbws+oR6yk9/aW8rBY557Tyl2qdylgJCVDCsDw9+z3rHxI/ZK8YaXq0sUHjv4ipJ4gv5ZM7VuJWWWCFnxwiKkaY5CjOKz/AIgeMvH/AMYvge3wnT4V+JNG8XatawaVf6hfQImj2YBQS3Aud53ptUlVUEnAGD0oJPej8areT48af8NotMZ/tnho+I01VZ/lKi5EPliPb0wd27d3xjvU3hn4tjxB8ZvGHgA6d5Evh60tLs33nZ84TruC7Nvy7cdcnOa8c+IGj638If2iPAnjuDwtrPizw9H4RfwlOvh+ET3NvKJhMkhjJG5WAI7Y2kn0q7+z1D4r8RftGfFLxtr/AITvfC+mazp2mJpqXrIXeJFcDdsYgOQAxXOVyAeaALf7bkxh8PfCbHBPxI0PJzj/AJaSfyrvPBnx0h+JHxC1bRvC2k/2z4X0aJk1LxZHcbbVbsc/Z4F2/vyARuYMqrx1JxXE/tt/DnUPih4H8CaPZ6Veataf8JrpcuopZB90VmGkWaQspBRVV+WBGM5yKh+Bvhnxf8AfER+E0+lza94DMc0/hrxJbxqr2SAl3tbzGPmBb5ZAMNuweTgAGX4S/a48efEL4W33jnw18H3vdI01ZzdNdeII7ZpfKZt/2ZTCxlwqgksIwSSq7iK7nxB+1JpNr8N/AniHw/od14i1zxyqr4f8OieOCW4lKb3EkpJSJE/jfkDI4Nc5+zL4I1/w7+yLN4d1XSbrT9cMOrRiwu4ykmZJZigw394MuO2DXmmhfCzxn4N+E/7PfjWDwvfanrPgG2ni1TwyI9l80FxGUdo1dl3SIVBCHk5GKCz3Dwl8ftdX4o2fgT4geCo/Bmr6vbSXWiXNpqy6jZ33lLumj8wRxtG6gg4ZcHnB6Zd4Z/aUsdY+Cfinx9qultoV14akv7bVNFNx50lvcWzMPJ37BlnHlkfLj94OtcVZ/wDCRfHr9oPwB4l/4Q7XfCHhfwTFeztceI7YW017c3EQjCRRbidqjkt+HauS+J3wW8X3n7R1z4Z0zTJbj4ZeOr+w8Qa/eRjEdtLab2kgPvOY4e+Tg9slQD1XRP2rNJ1P9mm9+LNxpM1i9nFNHNoUk2JlvY5DELUuUB3NJtXds43g47V2miePvFWpePNK0W58CXdlo11oSapda699G0NpdF9pstgXLsBzvBHb5cHI+evEXwV8Wz/tKP4Rj0iSf4P6zrNt43v7xWIjS6hRw9sfeSdIJSo7Y4+8a+kLrx5qcPxYs/CC+FtQfSZtMa+PiRXBtVcS7fIK9Q+Oc+hHbJAB2wOelFKFx0FBBxQAyiiiggKKKKACiiigAooooAKKKKACiiigAooooAKKKKACiiigAooooAKKKKACiiigAooooAKKKKACiiigAooooAKKKKACiiigAooooAKKKKACiiigApk0MdxE0U0aTRMCrRyKGVgRggg9QRT6SgDxDxx4AuPCum6zpOj6pa6N4X8TtcHWNS1e0kv3tWktorZAjC4iMUSxxKoZt4U7cgL0v6v4Y1PxX4s1Xw+mrWlx4VW+i1K5e1spLe7sbmOSO4gRLnzmjlcSxKxTyQAuNxzgN63NBHcRtFKiyRsCrKwyCCMEflUGm6NYaNZR2djZwWlrHkrDDGFUEksTgdySST3JJ60AM0PRrLQtNgs7GBbe2hBC7Qdz5OSWJ5Zi3JY5JPJ61eyacTu60mBQAtFFFABRRRQAUUUUAFFFFABRRRQAUUUUAFFFFABRRRQAUUUUAFFFFABRRRQAUUUUAFFFFABRRRQAUUUUAFFFFABRRRQAUUUUAFFFFABRRRQAUUUUAFFFFABRRRQAUUUUAFFFFABRRRQAUUUUAFFFFABRRRQAUUUUAFFFFABRRRQAUUUUAFAOOaKKAEwOvtijaAc98YpaKAAYXPA/KkPPXnv+uaWigAyfw9O3+eKQcZ9+Tk/rS0UAKGK9Kaqhc4GKWigBVYr0NJnO3IB29M89aKKAEKhuuScYznnGc9aFG05HHfj8qWigBoQBSO3H6U70FFFAC/dJ4yrY3D+tcn8UPhjonxY8NroHiJZ59Ja6gupYIZNgn8qVZFRzjOwlQCARx3FdbR2IxxQWR+Wu1BtGF4UelO42hcLgewoooIG7RnI4OMUoG3OOAeSAcClooAD8y4PIzmkKhtueducfjS0UACfu/u8c5pNvGMt9cnP50tFAxFULnH68mlz82e9FFAhGUMQTzimqxU4yR3p9JigB24+tG4+tJRQAUUUUAFFFFABRRRQAUUUUAFFFFABRRRQAUUUUAFFFFABRRRQAUUUUAFFFFABRRRQAUUUUAFFFFABRRRQAUUUUAFFFFABRRRQAUUUUAFFFFABRRRQAUUUUAJS0UUAFFFFABRRRQAUUUUAFFFFABRRRQAUUUUAFFFFABRRRQAUUUUAFFFFABRRRQAUUUUAFFFFABRRRQAUUUUAFFFFABRRRQAUUUUAFFFFABRRRQAUUUUAFFFFABRRRQAUUUUAFFFFABRRRQAUUUUAFFFFABRRRQAUUUUAFFFFABRRRQAUUUUAFFFFABRRRQAUUUUAFFFFABRRRQAUUUUAFFFFABRRRQAUUUUAGTRRRQCY7aKTFLRQUNooooJCiiigAooooAKKKKACiiigAooooAKKKKACiiigAooooAKKKKACiiigAooooAKKKKACiiigAooooAKKKKACiiigAooooAKKKKACiiigAooooAKKKKACiiigAooooAKKKKACiiigAooooAKKKKACiiigAooooAKKKKACiiigAooooAKKKKACiiigAooooAKKKKACiiigAooooAKKKKACiiigAooooAKKKKACiiigAooooAKKKKACiiigAooooAKKKKACiiigAooooAKKKKACiiigAooooAKKKKACiiigAooooAKKKKACiiigAooooAKKKKACiiigAooooAKKKKACiiuZ+IVn4tv8Aw88XgrVNL0jW/MUrPq9m91AV5ypRJEIPQ5z26UAdNRXx+vxA/aHk+PT/AAwXxP4D+2r4fHiA6gdCuRGU8/yfLC/aM5J5z716B40+I/xC+FUPwo03xBqWiavq/ibxdFpOoT6fp8kMa2jo5ARWlba2QuWPvx3IB9AUVg6H478N+Jrq5ttH8Q6XqtzajM8FlexTSQjOPnVWJXnI59Kb4i+IPhfwjcwW+u+I9J0Se4XdFFqN9FbtIM4yodhnn0oA6CiqV9ren6als95fW9qtzIsUBmlVPNdhlVXJ5JHYVU0/xjoOrWV7eWOt6deWVi7R3V1b3UbxQMuNyu4OFIyMgnjNAGxRWN4d8ZaB4wgmm0HW9O1uGF/Llk066juFjfGdrFCcHHY1qyTxwxu8jqiIpZmY4CgDJJ9sA/lQBJRXO6D8R/Cfim8ktNF8T6Pq91Gu94bC/indVzjcQrHjPGfWptS8deG9Gjun1DxBpdglpKlvcNdXkcYikddyI25hhmHIB5NAG5RWH4i8c+HPB627a9r+m6ILjPk/2jdxwebjGQu8jcRkdPWtpJFkVXQh0YBlZeQQehzQA6ivLvj5498beB/DJbwP4VXXtSmhmlbULydYrLTUiUM0kwzuckE7UUfMQeRTv2cPiBrPxU+AfhHxZq/2d9a1Sw8+Y26eXE0m5gCBztBwKAPUaK+c/E0v7Rek+FdW8Uy694F019Pilvf+EeXTJ7iN4UUuUa7MqkMFGMiPBNeq/BP4j/8AC3/hR4V8ZLafYjrNjHcvbbtwjkIw6g9SAwbBODjHA6UFnb7RRtFfOfxw/aTk8P8AxO8NfDzwl4k8K6Pqt8stxqmsa/cLJBp0aFQIjCJEJmfdwrOnT3yPYb3x5ofg2x06HxT4r0WyvpYlzPdXEdmlywADPHG7khSe2WxkDJ6kA6vaKNoqvZ6hbahZrd29xDPasgkW4icNGyEZDBhwQR3FZHhz4heFfGE8sOg+JtH1qaFd8senX8U7RrnG5gjHaM8ZPegDodo9KNo9Kz7HxJpOqaN/a9nqlndaVsaT7dDOjQbVzubeDtwMHJzxg15V8TPjDqXhv4tfB3QtGmsbrQvF896LuYL5jPHHbiSJonBxgkjnnIoA9l2j0o2j0rxnVv2pfCGg/HFfh3qGp6RZxDRpNTn1mbVoY44J0nEX2R1PR8bm5bIx0716xpuv6ZrTXK6fqFrftbMEnFrMsvlMVDBW2k4JUggHkgg0CL20elG0elU7TXNOv9QvbC1v7W5vrLaLq2hmV5INwyu9QcrkcjPWoNV8U6Noc3k6jq1lYTeS9yIrm4SNzEn35ACc7VyMnoO9AzT2j0pCoweK52P4meEJtBbXI/FOiyaIknlNqS6hEbZX/umXdtB5HGe9a+l61p+uafFfabe2+oWMy74rq1lWSKReeVdSQRweh7UCLFFYGj/EDwv4i1S40zSvEek6pqNuGaa0sr6KaWMA4JZFYkYPBz0NGqeP/DGhm7GpeItJ042bRpc/bL2OLyWkBKB9zDaWAJGeuDQSb9Fc7qPxG8KaPY6feX/ifR7G01Fd9lPc38UaXK8cxlmG8cjlc9RXDfHb4r6r8Nde+F1lpkds8PibxTb6PeSTKX2wPHKzbCDw2VTnnjPrmgD1uisDQfH3hnxTfXFlo3iLStXvLcZmt7G9imkiGdvzKrErzxzUnibxx4b8Fvbp4h8Q6VoTXGfJXU76K3MmOu3ewzjI6UAbdFUL7XtM0uxgvbzUbS1s53SOK4mnRUkZyAiqScEsSMAcnPFUrbxx4cvLPVLuDX9MmtNKZlv7iO8jaO0ZQSwlYHCEYOQ2MY5oA3KKx/DnjHQPGEM0ug65putxQttlk067juFRuuGKE4PI4NbFABRRRQAUUUUAFFFFABRRRQAUUUUAFFFFABRRRQAUUUUAFFFFABRRRQAUUUUAFFFFABRRRQAUUUUAFFFFABRRRQAUUUUAFFFFABRRRQAUUUUAFFFFABRRRQAUUUUAFFFFABRRRQAUUUUAFFFFABRRRQAUUUUAFFFFABRRRQAUUUUAFFFFABRRRQAUUUUAFFFFABRRRQAUUUUAFFFFABRRRQAUUUUAFFFFABRRRQAUUUUAFFFFABRRRQAUUUUAFFFFABRRRQAUUUUAFFFFABRRRQAUyXf5b+Xt8zB27ume2fan0UAeQ+Cbj47SeLbVPFtj4Fi8NZk+0SaRNdtdEYOzaHG3rjOe2a9fVfmB96WigD5jtIy3/BRC4xgkfDZWxnnH9ojnFVv24fD9r4qv/gdo1+jyafqPjm1trlI5GjaSNoZQyblIIBBIyCCM8Gvff+FdeHR8Qz45/s1R4qOmf2OdQ82TP2TzRL5WzdsxvGc7c++KXxb8PtA8dXWgXOuWH26fQdQTVNObzpI/IuUBCyYRhuwGPDZHPSgD56+Inw/8O/DX9qb4CzeFNF0/w2dQ/tayvTplskAuIVtgypJtA3gNzz3rhPhHpviD4geJPivqepfDDwh8R9VPiu/0+6u/E+t/Z7m0t43CwWywGylEcYTBVg3zbiTX2Hrvw/0DxR4l8O+INT0/7Vq/h95pNNuPOkXyGlQJIdqsFfKjHzA47YrlPGX7OPw+8deJrjxDqejXEWt3MQhuL7S9VvNOkuFAwBKbaWPzMDgFskCgD5S+Knwr1bTfg78BfAPjGeN0m+JEFn5Wm6g9x5NlIbjbb+cQpykbeXuGCNoxiu3/AGnvBtn4L1D4P+BvCnhXRrTwhrGvSHUNGMw0yw1C4SFTbQ3EqRtu3Mv3Srb9gFfQ0fwL8CRaD4X0aLw7BBpvhnUY9W0q3gkkjFvdpuKykqwMjZdid5YMTzmtzxz4D8PfEvw1deH/ABPpcOsaRc4MltODjcOjKwIZWHZlII7GgDwfwf8ACTxhpnx08K+KY/B3g/4e6XBaXdrqdt4d1RpG1KNkHlKYhbRKfLcbs9RzXpP7Snjbw98Pvgzr+seKdGbxHowEcEmkZCrdNJKiIjMeApYjOc8dj0qbwT+zv4A+H/iKLXtI0e5fWYYjBBfapql3qMkCEYKxG5lk8sEcHZjIrsPF3g3RvHvh2+0HxDp0GraPfJ5dxZ3Ayki5BH0IIBBHI7UAfHPxA0WXwX8YPgDeL8OvCfw2vrnxJ9lX/hHdTFxc3FvJAweN0W1hGwZTLFmwcDByTXR/DX4V+F/iB+118dtR8S6LaeIH0q60xbODUoxNDEz2wLMI2yu75QN2MgZA6mvZ9I/Zd+G2i6rpGpwaDcT6hpFxHdWF1f6te3cls6BgoRppmIQb2+T7pOCRkAjsvD/w70Dwv4o8R+IdMsPsuseInhk1O586R/tDRJsjO1mKrhePlAz3zQB8ifD+y1rx58ZPjNd33w68J/ELVrLxFNpYHiTWvJmsrCJf9FjjgNlMFiZG3hgwLMzZzjJ+gv2X/A/iD4dfDu70bXhZW6RapdPp1hp9+17HY2bvvjtjKyJuMZZ1+6OAvA6VqeMv2dvAPjzxKfEOqaNNFrrReRJqOland6dPNGOiyPbSxmQDHG7OO1dV4F8BeH/hr4bt9B8M6ZFpOlQMzrBEWYlmOWZmYlnYnksxJPc0ARfEry/+Fe+Jy2eNKu+gJ48ls9K8u/YdmP8Awyb8NnZCcab0HXAkcf0rt/ip8C/BXxrhsofGOl3GqRWe/wAlIdSurQLuADZ8iVN2QB1zWb8J/wBmf4cfA+7nuPBWgzaPJPD9ncNqd3cp5e7dgJNK6rz3ABoA88+LnjDVf2gPFGp/B7wFN5OkQj7P4y8WKhMdlExG6yh5G6d1yG7IOvOQPoHwroFh4V8N6Zo2k2wstN063S1trdQQI40G1Rj6AV4v/wAMJ/BJbi5nTwjdQyXMxnl8nX9SjDSE5LYW4AzmvXPAfgPRPhn4XtPDvh21kstItd3lQzXUtyy7mLHMkrM55J6k0Fnzb8TPhv4R1r9uj4f2l/4b0u7TUvDOpXF0s1lE6zypIgSSQFfmYZwGPNXdWk8O+Ofjh4z0Xw58GfCvi7VPDsFnZ6xq3iK9S1RBJGXiihX7NOSoUc/cHGK+hL34f6BqPjjTfGFzp4l8R6baS2NremVx5cMpBkTYG2HJUckEjHBrmPFv7Ovw/wDG3ii58Rarok39tXcKQXV1Y6ldWZuo1GFWYQSoJQASPnB4JHQ0AfE+n6jdf8MSzaSLuOw8KN8Rm0bUv7PuHkt7bSnvSXSOTAJi+cDdgZB5Aya+1bP4H/DbwqtjqeieDtC0nUbC0kj027sbOOOVVaNl4dQCcqe/qTWpofwS8DeHPBWp+ELDw3aR+GdSnmubrS5N0sMkkrBpDhycAkDAGAuBgDFZHgX9mn4c/DfXLLV9C0GaG/sYWt7N7zU7u8W0jYYZYUnldYgQcHYBkcdKAPA/g/rFlpX/AATU1Ke8u4rWH/hHdZtzJIwA813uERc+pZlAHqRWH4bYu/7ETs4VZNMmUMTgZOmxEAfnivoCb9jv4QTXN/I/hH9zfSSyz2A1K8Fk0kilXcWom8lWweGVAQeQQea6LxV+z38P/G3gXQPB+seHlufD/h/yf7Kt47qeGSzMK7YzHNG6yAheM7snvmgDwfxB8LvBGpft6aXZan4Z0Wez1TwNPeSQz2EWy5vPtoDSkFf3ku3OW5OM9queMta0v9lX9pK48U3bR2HgDxzosi3gSMKltqFhEZEwQcDfEGUAD7y8A17P4u/Z08AeO7Pw5Brej3N5J4dTy9MvV1W8ivbdcAY+0pKszZwM7nOSMnJ5riP2kvgjqPxW8P8Aw5+Hml6Sj+DLbVre41fULi5EklnaWqfu4wJH8yRpc7C4LHAO7rmgC5+yJ4V1KP4f3fjfxFE0XivxzePr9+JVw0UTki2gHcKkITAPQk981xHx28H6P42/bY+Dmma7ZR6npb6HqjzWVxloZtm10Dr0YBlDYPGVFfVkMMVvGscKLFGoCqqjAAHQVz2pfD/w/qnjbSPF93p4l8RaTbT2lleebIPKimx5i7A21s7RywJHbFAHyz8Nfgj4G1D9rz4u6RN4c0u58Padp+m3drockCmxiuJ4mDzLD9wOQm3OOAT6mvN7jUNU+Hf7Lf7RGjeGbiTT9K0P4gXOmWarKYvsdi89uJIlcZ2JiR+g+UMxr7r0n4f+HdF8aa14ssdOWDxBrMUEF9eCRz5yQgiIbC21cBjyoBOec1T0n4S+EdCsvFVpaaHAbXxRezajrMFwzzpeTyqBIzLIWABAHyjC+goA+cbz4NeJbi38F3fhv4ZeAPh5NpGo2N7b+INL8Q+bI1urIJI+LKMyrLHlSGc7s+tTfDv4X+GfiF+158dZvE+i2OvpYppKW8GoRiaKMyWmGbYwKliABu6gDAOCa9Z0L9k34W+GdU0+8sPDtxnTZ/tNlbXWsX1za2sgbcrx28szRIVIyMKNvbFdxofw78PeGvF3iHxPpun/AGbXNf8AI/tK686RvP8AJTZF8jMVXavHygZ75oIPjz9mX4L+CvEPwY+Mq674bsdaGl+Itb0bT/7QiE/2OziG+KKAvnylV3kYbMctmuQ8ZTad4i/Za/ZRh8UX7rpd54i0+1vrp5ihMPlzIUMg5UbPl3DoOa+7vDHwz8NeDdH1rS9H0wWdhrN5cahfw+dI4mnn/wBc+WYkbvQEAdgKwb79nf4dap4P8NeFL3wxb3fh3w3OtxpmnzyyvHC4V1BbL5kGHcYk3A55HSgDwz4/eA/CXwr+IvwN1XwHpFh4e8V3fi210tINHt47b7dprq4uRKEA3qq7DvIOM++Ry/w70vXviB8XPjbean8NvCfxC1a08SXOmIPE+siCey09APsyJCbOYLEyMXDqQWJbIyOfpTwd+zb8O/AfiqHxLpOhS/25bw/Zre8v9Su71raLn5IRPK4iGCRhAODjpUnjT9nX4f8Aj7xKPEOq6LPHrvkiB9R0vU7vTp5YxjCyPbSxmQDAxvzjFAHyp8YfhnrXh39mnwR4P8Qm1to5fifaQ2VrpN+9wNPsZp5NlukxVDmLeVGAMBV6Y49z+M37M9jqHw90TQ/h3pehaKNM1y11aXQruLyrHWhDkfZ7kopZgVOQSGGUXPrXoC/AHwBH4R0jwxH4dii0PSdRh1e0tYp5kKXkTb0mZw+523HJ3k7v4s1rfEL4W+GPinYW1p4m0v8AtBLWZbi2ljnlt5reQDAeOWJldGxxlWHBIoA8n+DuvaBpHxd1Dwtq3wp0r4Z+OX0g6gs+jTQXFpf2CyhN4ljSMriTHyuinvzXvljeW+o2kV1aTR3NtMoeOaJgyOp6EEcEVwHhn9nvwF4TTXPsOiyyy65bGy1C61HUbq+uLiAggxGaeV3CYJ+UMBXVeCPBOi/Djwrp3hrw7YjTtF06Pyra1EjyeWpJYjc5LHkk5JJ5oA3KKKKACiiigAooooAKKKKACiiigAooooAKKKKACiiigAooooAKKKKACiiigAooooAKKKKACiiigAooooAKKKKACiiigAooooAKKKKACiiigAooooAKKKKACiiigAooooAKKKKACiiigAooooAKKKKACiiigAooooAKKKKACiiigAooooAKKKKACiiigAooooAKKKKACiiigAooooAKKKKACiiigAooooAKKKKACiiigAooooAKKKKACiiigAooooAKKKKACiiigAooooAKKKKACiigdaAHUYLcAUgYMMg59h1H1HauY+Inw38MfFXw7JoXi7R4Nc0dnWZrW4yBvXOGBBBBGT370AdN5ZbGOc+9NceWyhsAscDn/PpXwVa/sl/CQftuXHg3/hC7P/hFY/Af9pppvmzbRdf2gIxLnfuzsLL19PSuz/aY8MeEv2ddC+Btn4b0b+xPDun+Pbe6+w6ejzySExSMwVfmZnY4AHOTigD7EUcUmK8Y8L/tInUviLpPgvxL4I8QeB9U1u2kuNJk1Y27xXgjG6Rd0Mj7JAuTsbBGOQMgGTVv2iJJvE2v6R4N8Da94/Tw/ObfVb/RprSO3tpwoZ7cGeVDLKoxlYwSCQDzxQB7Kq8Um32rw/xZ+114M8L/AA38I+OPJ1O+0XxJqS6Vbx2tsWuYpiJMrJGedymJlKjJzwM1bvv2lB4f8GW+veIfAviPRL+/1AadpPhyZIpdQ1ORlDKY0jdtoxuzvK7dpJ7UAey7fajaa8p8IfHv+1fG0Hg7xT4T1bwJ4jvYHutOt9Vltpo76NGxII5beWRN65GUJDYIOK7zxd4oXwf4cvtWfT9R1b7Mm5bHSbcz3MzE4CxoOpyR7DqcAE0AbW00bTXiui/tJXP/AAmnhfw94r+HXiTwQ3iR3h0y71WS0kjllVC/lsIZnaNyoJ2sAeDVbVP2r7KL4n+IPAeh+CPE3inxFos9vDPDpdvGYgskYk81pndURR93DEEnpQB7nRXkGtftDM/i7VfDnhDwTrnju90VVOsTaZJbRQ2EjDd5BeaVBJIAeUTcRkDrxXbfDT4kaR8VPB9p4h0jz4YpZJLea0u4zHPbTxsUlhkQ8q6OrKe3GQSCKAOo6cmiJhMzBDuKnBx2rzn45/FZvhb4TifTrT+1/FWrTrp+h6OjAPd3T8AY/uKMuzdAqnNeJfsI+HdW8J+Kvjlpmv61Jr2s23iaMXmoOu0TzNbq0jBey7mOB2AFAH1vtPpRg+lc/wCM/Ez+DfDN9rI0vU9fa3UMun6PAZ7mUkgAKmRnrnJIAANebaD+0ZJ/wnWgeFPFvgTxD4Jv9fEp0qfUZLWeG5aNdzxloJpAjhedrYPFBZ7RTVkWTO1g2Djg5rw26/anS78Z69ofhHwD4m8dw+HXMOq6npH2YW8EwCs8amSRDK6gjKICc8AHivJv2b/jXo3w4+Anxl+ItzDe3+iW/jzU7xVWMxztHLJCF+V8EcMCQeR0oA+zW+XrS186az+2bpXhmXR7rxN4F8W+HfDetM6aTrlzbQyJeSqhdIhCkjSo8gGEV0UnI+tdL4J/aOXxJ8SoPAviLwZ4g8Da1fWT6jp39r/Z3S8gU/MFaKRwrgEEq2DgdqAPZNyjdllG04PI4pPMWvmjwr8Yfhr8G/hP8V/Gvh7QdUs9M0fxZexavbtN50txf+bHDJJHvkbCHchC5HfgVtf8NgWdrd+HbjW/h/4s0Lwl4gu4tPsPEt5DALd5JSBGzxLKZo1YkbS6DIOcUAe/hg3AIJ64zzRXiuk6v4Ds/wBpjxw0Om3dl4ytPD9rcatrUs7m2ezLuURYyxAK7MkhRwevWq3hv9py88Y2ena1pHwt8W33g3U5xFZ6/bi1cSoX2CX7MJvPCZydxTgDPSgD3NXG0kkAA+tIx3dDkV8g2f7QHj+P9rTxXoX/AAgninUdJtdDgEfh+C5sQYD9ob/TCTPs2uvA+YtgYwMYr0nVP2qobf4keJfAGh+A/E/ibxRoZtjPDpkMHk7JY9+8yu4RAucfM2Sfu5oA9wDru61LuDZAIP415V4y+MniDQ9ev9N0b4T+LfEy2UaSz3tolrbwHcobbC08yecwzghAeQa8X/aQ/aa1HVv2Vf8AhNfh/peuwJqLJGdYgaGB9LkS7jR4plaTcGYhk+QMM9cCgD67LjqeOcc8GgNmvm34pfELRPEnwdsL/wCKPw+8RaZpy67p9vbWVxdQrPNcPINk4NvOfkDNk5IJ9DXqvg/4uaX4r+I3jLwRFZ3Vhq3hc27SJcqoFzFMm5JIdpOUByOcHNBB31FeOXH7T/hSz0vx/q04uv7G8IagNJmvIYw4v70qp+z2ygks4dljwcfM3oCRJoH7QU7eIvD+k+LPAPiHwMviKT7PpN5qzW0kM8xjMixP5MrtDIyqSFkAJII6ggAHr9ITtBJ6VmeJ/E2m+DfDuqa7q9wLXS9MtZb26nYHEcUalnPHsDx1PavL/CH7QereLJNAu0+Fni+x8Pa6qvp+syC1kVkdd0UkkUczSRKwwcuoA3DPYUAex5GFIO4NnG3np16Up+XrxXx/8K/2gfH+sftG/EvSbjwJ4s1TToTpsMWjm5sgNHDRndK+6cKQ/LDaScLz2FexeNPjtr3h3XtT0/SvhN4v8TWmmR+Zc6jZxW0Nu3yhiITLMrTEAjOwHnI7UAevDLZwM0gZWJAZcqcHkcV8e/tS/tG33iL9mjRdZ8Cafrn9meLJLaCTWbOaGB7RWuBHJbNmQOsr4ZAyjbnPzAEGvO/jBqT+E9E+G/w60H4M+JvBvhXxBr4fVtGt7yzSbXAsTZtzLHcMSXKqXLsuQPvUAfoLHIsqhkbcp7inVyfwv0Wx8P8Aw/0ey0vwt/whlokRKaDiINaEktsbymZc85OCevPOa8qk/a4ivdb8YaT4d+H/AIn8WX3hPUZ7DVF0xLdUj8sA7w0kq7iecIuX+U/LQB9A0V81S/twaPdeBYfHOkeA/FWr+Coo0bUdaihhjismOBIpR5A8nlnIdkVlGOtelfEL456T4Jh8P29hYah4s1/xGSdH0XRY1ee6jVA7y73IjSNVIJZmA5FAHpdFeYeCfjjF4k1bXtB1nwzq/hHxPo9mNRl0nVfIZ5rY5xNFJFI8ciblZCVPDEA4rzC3/bo0m78BWnjyDwB4uk8DbkS8177PAIrVjIEOUMgd1BbBZFI4PPFAH08BuIA60isrMyqysy/eUHJGfUV4NF+1rZR654WS+8EeJdM8L+KNQTTtH8UXkMKW1xI4/dExeZ50ayHG0ui5Bz2rzSz+Klx4J/bS+MVnp/hnWfGGsXthpRttP0kRjZEkHzyPJKyRxoCy8lgSWGAewB9i0V5N8NP2jvD3jqx8VnU7O/8AB2q+E8trml69GsM1lHsLrKSGKlGUEhgcYBrnrP8AarSTQLLxVqHgPxJpHw+vXjWHxXdC38oRyNtSdrZZTcLE2V+Yx9GB78gHvVFeJ/ED9qXR/BXxKj+H9n4c1zxR4pn0uHVLW10eFXFwkkrxgb2YKgXZuZmIUBlGcnFWta/aEuofFUXhPQfh94g8TeKYNPhv9WsLO4s4l0rzQdkck0syxtISp+VGYHggmgD2Kiuf8CeLJPG3hq21aXRdU8PTSsyPp2sQrFcRMrFSCFJBGQcEEgjBroMGgAooooAKKKKACiiigAooooAKKKKACiiigAooooAKKKKACiiigAooooAKKKKACiiigAooooAKKKKACiiigAooooAKKKKACiiigAooooAKKKKACiiigAooooAKKKKACiiigAooooAKKKKACiiigAooooAKKKKACiiigAooooAKKKKACiiigAooooAKKKKACiiigAooooAKKKKACiiigAooooAKKKKACiiigAooooAKKKKAG7qN1Qb6N9AE+6myBZY2Rs7WBBwcHn3qLfRvoA8t8Efs3eG/A3iu31+x1zxhcXVuZGjttS8R3NzbHcCDmJnKng8Zz29K9ZB3cVBvpd1AHz/BoWpf8N9Xetf2dc/2QPh+LQX/AJTeR5w1Df5e/G3dt525zipP2q9A1DxL4w+B72WnXF/FY+OrO4uWhiLiGMRSZkfA+VRxyele8hF3M5GT9KFwzyEn7pHHrkUAeDfHDRL/AFD9pT4CX9pp1xcWtld6ubu6hgZkgVrVQpdgMKCRgZ614Xo/gSL4ReNvHWi+L/EnxV8NG81y71XSr3waLqbTb63mfcvywQyFJgdysHx91cE193u/mYz2GOOKa2Dg85Axuzz+dAHx14k+Htp/whPwCg8LeHvFI0uP4k22p3sXiCB3vVQvOz3E452KzMGycDDDOK7L9szwHq+vXnw98Yabb+IbnTvC+p3D6pbeFJDHqYgni2edARySrAZUckMfevpXzxuI24+Unp3yDSxzeYxY9NoYD0NAHyp8J9M8G+Jvi94Z1bTrr4reKtR0uK4eDUPFKXcdhpxkj2uHNzFGS7D5cJuGfpmvW/2ntU8aaV8D/Etx8P1uW8TqkZh+xRrJcLF5i+c0SsMFxHuwOvpzivUPM+ZiOrdeP8+lCna24ZDfX/PrQB8LXyR+I/if8GZvDF78TvGNnp/iaO61HU/FUV6lvakxuFTy5o0GQN+XQbVAwWO7Fe0/AzQ9Rs/2lP2gNSvLC4tLS+utLNpeTQuiTBbY7tjHhgG4OK9/yCMY4zngY5PenHDZzzQB8N2vhG3+Evxe+JNr4y1P4meHbPX9duNf0/VPCH2uWxnjnIfy3W1jkYTKQU+YYIVOwGfpH9mnw9ofh74eXEmg2HibT7XVNSudQkPi0t9vnlkYb5mDHIDkZGcE5JIyTXqnmNtwSfr3/OmsxOPYYFAHh3xI+APjTxd8ZrPx/oXxJstCexsGsNP0/UPDi6gliH/10kbfaIwHfAG4ruABXdgkVwP7LPgD4l6L8avixe6/4ihfTH18teGTw+1uNaf7MgWaBjMfKRCQMLvBxyea+rPMPSl43bv4vX8c0AeT/tVav410L4P3tx4C+2jV0urc3TaXGJLxbPzFFw0CFTlwh44yBnFfPaWMPiD9oT4J3vheT4keKtI0u+uf7Q1vxbBfCC3d7dwqhbiKMq3GSwG0fKMk8V9wK23HGcHIyM8004Zdp5HvzQWfJ/wV8dTfs4ah8RPB/jDw94he5uPE15q+kX2laNcXsWqRXTK6BXiRgsgzsO8qOByO3mUPhPxTefsV/HWyvPCOo6Xrmp+ML2+j0cWzmQK9zbtiMKpDqOQGUkHaSDivv5SFVQBgL04pkzYifHG7OTjnmgD55/ae8O6pqXh/4HQ6bpt5ctZ+ONFmuxbQPIYIkSTcz7Qdqr3J6Zq58W/D+q3f7XnwO1G1sbqfTLW01sXN0kLtFCzQIFDPjC5PTPWvdmxMh3SOBxgDAH+eBUkbNsZjM5PQE4z/AJ4oJPhLWvA/iZf2V/2h9MHh3UpL/UPH97dWlqbRy9xE17AwkRcfOpCk5GRgGvc/2vfD2qa98E9GstM0+7v7uPXdHdbe1gaSRQtyhY7QCQAOvoK9+jYNIwywQAZ3YOaYrFty7z8pGPwoGfPuk6HeWX7W3xS1W70a+u9Ik8HWEabLclbooZN0MZbCsxAIxnvz1ryOLVx4PGjL8C7z4k2HiGbUIQPAWtaVdHR4YWkHnxyPcwiOGNV3fNFMSCRt46fcGAW3Hlv73enKFXIAwDyaBnzF4t164+Df7YV94x17RdYufC/iHwpDYRappOmz3ywXEMxYxSJCjONwbg4I+Ye5Gt8C9Hu1/aU+OmsTabc22n6k+jvZ3E0DoJUFqQ20sBnGQCB0PB5r6FkAdgSM46elL/CRyQeuTnNAHyH4w8ReIZvjJ46tvHutfEfS7G1liHhbT/BlvcraX1qyZG6a3iIMu8kEysAOmcCuU0H4ZeLdV/4J1694Zh8O6kviaG/vLn+yb1P9KkWPUTMR82C7lFOCMlz0ySBX3PxjnP505W6Lk+lAHyF8ePHsPx6+Bul2/hnw94le+07xDoT3VneaNdW00WZ1LDDxjft/iKZAxknHNbn7Vun+Jvhv488O/GLwJoV1r2orY3Ph3VNMsIy7XEciO9pK23qI5lUE44Divp+SbBIHy7Ofl46EU2TafmA2ng/jgc0EHyP8UP2bdc0n9kPw34b0iO71XxLo+rWniPUY9Om8u4v5xI0t15TNj58yOUzzlF4J4qt4VtvA/i7xf4HhGo/GbxTqdtqltqC2PiBLtbTT5ozuWS5aaKOMhDkfu2YnBHOa+vlPl7ccADAFOLb+e+c8cUAYvxAksB4I13+1dGuPEem/Y3W40i1i86S8jKkNEsZ+8WGRjvkV8k+E9Wn8K+LfAem/BjXPiFd2lzqVva6p4T8WaXdf2bp2lkFpQJbmFTC0S4CFJHyVx8wbn7R3kHqR9DijjOec5yTnr9fXoPyoA+XbfxD/AMKW/ax+JuqeJdC1ptC8X2GnT6dqemaVPfxO8EbRtA3kIxRySSNwxwCSARXN614g1i6+IvxBtPHmq/E2wvrbUJE8M6P4St7mLT72w8tDb4lhjKCVmLbjM6gEjOAK+xZUWZcMMj8qbtCspAxtGBigD4MsfA3iOT/gn/4I0c+HdXXW18R2kklhJaObhEGqOxZgV3YAwSxHvXvX7S+h6jqnxQ+AlzZ6ddXUFp4nka8nhjZ1hQ2zANIcfKuR1PGa983hkbBbduGc4OabIGaR2LcEccDuaAJmkJaIBiDnnnrzk18+fsy+HtR0nXvjtNf6fcWYvPG15PatNEy+fEYUw6ZHzKT0I4JBr31G/wBKUZ45/kaGb7jDkM2cdhweKAPjr4e+F9Ysf+CbniHQpdJvo9YfR9YUac1s4nLNNPtUR43ZIYYGMnIqj8TPh9rGkzfA3xxcr4tt9C0/wlFoWrN4OkePVNPdoY3STYoLsmQUZVGRgd8V9pu5kllB44P/AKEKVXAm+bJAJ6+wP+NAHzD8JfD/AIR1nxj4l17Qrj4l+JtRh8O3NiuveMo7lLURyMHMEK3Ecbs5KqT8mABwa5G38K65Y/8ABL2XQX0W+/t7+w5ITpjW8huS/wBqLAeVjOSCD075r7MRkMaoB5Y6/KKbFtaFFKgnBGT9c0AfOX7Q3h3V7z4SfBi307S7m6ubTxX4eluYbe3d3hjQgOzAcgKRyTwO9c5p/jK5+Ev7YXxT1zWfCmu3PhTVrHSYf7e0zSprpIJY4CQrLGrOyHLgsithlUNjNfV+5tx54/wp7KN0uR2A/l/hQB8Z2vgDXP2h7r9oHxTpmk3/AIf0rxdoltoeiNrVs1rLetBG2ZWiYBlUk7QzAcH1BrmtF03wvrnw30/w74pvfjg2uNbQ6dqHg6OK8aIvhUZVk8nyDDkcZk+7ivvHOFA7UmflAycfWgDwDwz4fvbP9tjV9VGmXUGkt4AtbSC6aM+XuF4cxb/u78AZXOeKxPjd/wAINJ8Urm/1KX4i+BPFMNnDAPEHhTTrySDUoMFo428iKVJNhZv9Yg5LDOOK+m2YORkA/gKDjBU5IOM80AeB/Cv4xeMPDvwf8K6n4+0PxBreratrJ0uKS10vbeLbvKwguruIBRCNigtgcZBx2r6EaT5vQGoB8hLKWBJyTk80wE5zzQBZ3Ubqg30b6AJ91G6oN9G+gCfdRuqDfRvoAn3Ubqg30b6AJ91G6oN9G+gCfdRuqDfRvoAn3Ubqg30b6AJ91G6oN9G+gCfdRuqDfRvoAn3Ubqg30b6AJ91G6oN9G+gCfdRuqDfRvoAn3Ubqg30b6AJ91G6oN9G+gCfdRuqDfRvoAn3Ubqg30b6AJ91G6oN9G+gCfdRuqDfRvoAn3Ubqg30b6AJ91G6oN9G+gCfdRuqDfRvoAn3Ubqg30b6AJ91G6oN9G+gCfdRuqDfRvoAn3Ubqg30b6AJ91G6oN9G+gCfdRuqDfRvoAn3Ubqg30b6AJ91G6oN9G+gCfdRuqDfRvoAn3Ubqg30b6AJ91G6oN9G+gCfdRuqDfRvoAn3Ubqg30b6AJ91G6oN9G+gCfdRuqDfRvoAn3Ubqg30b6AJ91G6oN9G+gCfdRuqDfRvoAn3Ubqg30b6AJ91G6oN9G+gCfdRuqDfRvoAn3Ubqg30b6AJ91G6oN9G+gCDfRvqDfRvoAn30b6g302ScRRs7ZKqCTtBY8egHJ/CgCzvrmPiR8Qofhn4XbXJ9F1jXo1mWE2uh2hubj5jjdsyOB3+tcT4M/am+G3xA8VW3hzQtbvbvWLgyLHDJot/AhKAlwZJIFQYAPVhntXqbyFcHNAHzsv7d3hefxI3h6PwB8R21xbX7a2njw6fOEG7b5uzzM7N3G7pniu+h/aQ0L+yPCN9eeHvEeiHxVrK6JY2uqWHkTiY5w0ilvlTCnkZ+ledWuG/4KKXkm7aV+Gm3C8DnUgf/AGWq/wC2w2qpf/BFtAa1TWm8b2qWjXwZoFlMMoDOF5Kg4yBQB9Rb6N1fNTeJfiD8K/j98PPDWu+O5PGmg+LoryKWG70q1tHtJoYvMDxPCikoc42vuIH8THmuLb9pOPx54m8YNd/G3TfhJZ6Tqc+k6Xo7R2EtxceT8rXVwbmNztZw2ETbgKckkggA+zC/fvjFMDBOB6Yr4z8SftN/ELXvgt8J9a8LXGm2nijxD4yXw7cytBvsrxQ06b13DIik8tHyp3AHAaui+LHxQ8Y/AfQ/CXhnWviPYXviXxdqsiHxXrWmwWlrpFpHGrTFIYxtcgkbBIWJLHccDNAH1UJKfur5X+G/x0uLb40eHfCVr8TbT4s6Hr9rclrpbe2S50u4hQOCzWyRxmNwdoDLuzznHFe9fEbVbvSvBupXNnr2n+GJ1TC6xqkQltrQkgb3UugI9BuGSRQB1u4Uu+vjzS/jpqfhv4jfDW1sfjNafFXSvEmof2TqFmtjZRCGRo2ZZont41IAYDKMzHDDmtrS/FXxV+Jfx++J3hXSvHUPhfwr4burIpLDpNvc3g8yAEwoZFKhCdzFnV2BAC4BOAD6p30b6+OtR/aWi8WfEjxzp+ofGfS/hNpHhrUX0izslSxe8v5YgBNPIblJAI94ZVCBTw2T0r2X9mz4s3nxd+G51a/ntb29s9QudNlv7CMx2155T4SeIEn5XQo3U4JI7YAB1fxQ+L3hP4N+Hn1rxZq8WmWnIij5aa4cDOyKMfM7ew6d8Dmrvw3+IWl/FTwNo/ivRDN/ZmqwCeAXCBJFHTDLk4OQe9Y3xX8MaPrPhLVNVvtLtLzUtM068azu5oVeW3LwsGMbEZXOBnHXAry79le9mtv2KvDNxbL+/i0G4eJVGfmHmEAD60AbOvftleDNJ1bVYLPSfFHiHSdImNvqXiDRdIe5060dTiTdKOuwctsDYHvkV6T4k+L3hTwn8N5fHl/q8J8LR2y3a31v+9Esb42bAuSxYkAD1NeXfsYabZyfsn+BoFCyQX2nSSXK9Q7vI7SAjvyxH4V83eC7ie9+Bf7N+g3j+do8/wARXhkVuEkSK4uDAhU/w7gPlPHy+1BZ9XeCP2rPCvjLxZY+G7rSPEPhHVNURpdLXxLprWi6gqjLCJskE4IODgnNex+YGX2r5v8A22ttn8OPBmqWaY1fTfGWky2MiKC6yGfbgA9cqxGOhzX0HeSyW1lM8EZmkSNmjjz98gZA/GgC0kmI1HsKyo/FGlSeIpfD66jbHXI7db1tP8wecICxUSbOu3cCM+oNfKXwj+LfiT4iLpjap8arXwv47m1DZdeA9R0a0SK3USYNsEdVuGYoAQ/mnJbjPSs6Dwb44u/24vEtpa/E3UrC7bwfFeC9Gk2LkWzXr7LXaYiu1T/HgueQSaCbH2r5nyn6/wAqYJOvua8T+GfxG1/Xf2iPiz4U1K/a40TQY9MawhaKNDD5sLNKSyqGbcRn5icdsDivNrv9p7xH4Z8G/tAa/NNHqk3hfxINH0K0uIURIN6xRorlApdRI5bJJbGRnpQQfRvxS+KGlfB/wLqXi3XPOfStPEfnLboGkO+RUXAJA+8w7+tdXa3iXVtFMm7Y6hhuHOCMivh/9rLwn8UPDv7LOsX3iH4ixeLBciz/ALVsLnR7a3ihVriNs2rRIrZVto/eF8qCeD17v4rftCPovxN0T4ev47074YadBocer6jr90IHuJizmOK2tlnVo8/KzMWVjgADHWg0R9UeYKXzBXyDpf7SGtHwL8a7fSvGlj43m8KaG+qaN4rs4IWLM0UxCTrGghMkbovRQCGX5etZ/iLxp8bPDf7Ouk/GC78fwPex2VlqVz4Xh0e1FnPBIyAq0pUyhysgZirgA8KBQM+udQ8W6PpOtaZo95qdrbapqnmfYrOWQLLc+Wu6TYvVtoOTitIS9welfGXx48P+KfEP7UHwWn0/x3faMdWh1CSxWHT7SUaWRaoZNm+M+Z5nfzN+3tius+MHxG8RfDnxt4R8Ka98TbjwV4Zk0lrm48by6Tau+pXyuVNszPE1vbgJiTOwZ4UEZ5APp8yZye561yupfEKz0/4g6T4Ol03VJb3UrSS8jvobNms41jOCsko4Vj2B9vUVQ+Ed1e3ng+O5vPGln4+hmlZ7TXLOCKESw4AAcRHy2cMHyyBQePlGK4zxZ8SNe0v9qPwZ4OtblU8P6l4evr26gaJW3zRyIEbd95cDPAODk5zgUEHtnmBuKUOBXyB8JfEHxl+NvgPxTri/EceF2sNW1O00wWej2c7S+U7BBOZIyPLXhQECucElzkV7R+zJ8TNU+L3wQ8MeKdcjgg1e8ikS6FtkRmSOV4ywHbOzdjtmgD0OXxXpEPiW38PSanax67cW7XcOnvKBNJCrBWdV6kAkdKwofippU3xZvfh+qz/21a6UmrsfLHkmB5WiHzbs7tynjGMV8yfEbwP4v1P9uXw9Fp/xGvdLnufDF9c2dyml2cjWEPnqPIUPGRICedzgsPWn6vovjPUP25LzSfD/AImXSLl/AVmNR1uW1jnuTGt02WhiZfJWR3xkspVQTgHGKAPskSD1oMgr5Y8K/HjxN8NLj42aZ431Y+Mk8BWkGp22o/ZobS4uI5oHkELrEoTIZVUMFHUn2rhbr9pLVtD+HVv45b436HrfiXy49QuPAsMFmLQxv8zWkTLGLnzVU4Vi5yw5GDigD7g3ZBA71y/w/wDiNZfEjRbjUbCy1Swht7yayMOrWT2su6M4LBW6oex+o6gitjTdSTVNKtL2PciXMCTKHGGUMoIBHY818eal+0J4/tf2SvF/jaDXEPiex8VXFha3clpBtW3W/WNYygTaRsJXdjd3znmgD7R34kz3p27gei9K+WPiB4k+K3wa1f4ceI9T8dReJdM17xFaaNrHh+TSLe3t4VumwGtZFUS5jwcCR23cEkdKr/En4za1Z/GzxD4Z8QfE3/hTmgWlvbtodyNNtpF1dnQGZzPdRyR4jYhdibT8xyaAPpvxB4q0nwrBBc6zqVtpkFxcR2kUl1IIxJNI2EjGerMeAKy/GHxF0/wfrPhrTb2z1K5l129NlBLY2jTRwPt3bpmH3EPr/ga+Uv2utG8Vav8ACP4d6jJ8SI9Ttz4g0uCW40vTbZba9le4byrtf9YQyDGUDmNiOmOK9H8beJfHnwr8Q/Bzw3c+Np/E1xrviSS11PUJ9NtbZri3MDMsWyNAEAbady4bjrigD3q18UaRqGvX+i2upWs2sadHHJd2KSAywLID5ZdeoDAHGeuK1I32456V8W/Dv4f+Nrr9rP4rwxfFPUbbULOx0h7q6XSLFjdxlZGWMqYiEVVBUFAGIPPPNezfBP4jeIPFnxO+MujazeLc2Hh3Wrez0yNY0TyYmgDMpZVy2Tzlsnn0oA9f17xBpvhfR7vVtXvYNN021QyT3d04SONfUseBV2O6juYYrqCRZYZkDo6nIZSOGB9MGvgn4oeLvG3xc/ZN+M+r6j4se2ttE8Ratpxs49PtiLywjljEMDnZlSm4/Mp3HuSa9M8R+OPFf7NvwBh8Raj4y/4S6/1ZtPsdL/tm0trO00t5QQZJGhRC6KpBJY9EHTJNAH1V5lJ5gr5C0H9oYeH/ABp4Hs7D41ab8W49d1KDSNR0qO3s457czAhbqAW0asEVwAyyb8K2dwwTX1ruP+TQBZ30eZUG+jfQBY8yk31Bvo30AT76N9Qb6N9AE++jfUG+jfQBPvo31Bvo30AT76N9Qb6N9AE++jfUG+jfQBPvo31Bvo30AT76N9Qb6N9AE++jfUG+jfQBPvo31Bvo30AT76N9Qb6N9AE++jfUG+jfQBPvo31Bvo30AT76N9Qb6N9AE++jfUG+jfQBPvo31Bvo30AT76N9Qb6N9AE++jfUG+jfQBPvo31Bvo30AT76N9Qb6N9AE++jfUG+jfQBPvo31Bvo30AT76N9Qb6N9AE++jfUG+jfQBPvo31Bvo30AT76N9Qb6N9AE++jfUG+jfQBPvo31Bvo30AT76N9Qb6N9AE++jfUG+jfQBPvo31Bvo30AT76N9Qb6N9AE++jfUG+jfQBPvo31Bvo30AT76N9Qb6N9AE++jfUG+jfQBPvo31Bvo30AT76N9Qb6N9AE++jfUG+jfQBPvo31Bvo30AT76N9Qb6N9AE++jfUG+jfQBPvo31Bvo30AT76N9Qb6N9AE++jfUG+jfQBW30b6g30b6AJ99G+oN9G+gCysnybRwOlMbp0qNXpfM9/1oA8ug+Ed8v7TE/xPN/bHTpPCo0H7FhvOEouzNv6bdu049c1J8aPhXffE7VvhteWV9b2Y8L+JrfW7hbhWPnQxo6lEI/iywxnjryK9Jk5bcOvfmnGQCMYGT3oA8z+JHwq1Hxd8Yfhj4wtbu2hsfC8t7Jc28gYyTCeARrswMcEc5xx69K5aH4SfEz4YeIPEh+GWq+GZfDWvahLrEmm+JorjdZXcuPN8l4iSY2I3bWGFOcda90Wcjv7Ub/egDxzxx8HPFnj/S/ho+t+JNNv9c8MeKLfxBeXEdm1tBNGnmZiiQM5BUOFUsTu25OM8bnxp+E978R08PatoOsR+HvF/hy8+3aXfzQedDkqUkglXqY5FbBwcjAI6YPo27/OaN3+c0Aeb+A7P4vvr0E/jPVfCdto0MbB7DQLSd5LlyMKzSzN+7A4OFBz04q78fvhX/wuz4W6x4SW/XTpbzypYZ5ELxrLHIsib1/iUsoBHoa7zfSbv85oA+eNU+DfxV8eeK/h7rHi3XPDFta+FNXjvzp+iQzqlyojZWcl8nf90BeFxuJOcCu9+HPwrvvBfxd+Jviq4vLe4sfFU1jNbQxBg8PkwlHD54OSQRj3r0vd70bv85oA8Lk+FPxH+HvjzxFq/wANdZ8NvoPiS5Op32keJYZz9nvWULJJC8RyQ+1cq3Qg461634HtfEVj4ct4vFWpWWq61uZpZ9PtmggAJyEVWZjhQcZJycZrY3fl9aXd/nNAHnvxs0f4j+ItFXTPAV34ctYLyCeDUG15J2bDKFUxeX3wXzn2rlf2Zvhb8RvhP4RtPBvizVPDOo+GtOszb2UmkxXC3LMXJJk8wbcYJ6e3vXtm+jfQB826X8Dfi/8ADbR9T8F/D3xZ4YtvAlxNM1hJrNnM+oaXHOzNIibPkl2lmKlyMk84Fddrf7Mult8C9F+Huh6hLpc+gvDe6Tq23fJBfxMXW4dScPudn3KcghyPTHs++jfQWeA2fwc+J3xE8UeFLz4q+IfDc2ieGbxNRt9L8NWkym9u0BEcs7yn5QmdwVRyfpXv18ks1nNHbTLDcurBJZE3qjEHBK5GQD2yKN9G+gD5u8e/BP4sfGDTrHw94w1LwGujQ38VzJrWm6fc/wBp7I5A48lXYpC77VBIc4BP3uldN8QPg74ztfi/ZfEf4d6xosOrSaN/Yep2HiKGVre4gEpljkVovmV1JxgcEAdO/te+jfQB4Hq3wf8AiR4d+K+t+PfAuteHFu/EthaW2s6br1vM8STwJtEsDxncRgsNrAe+e2R4V/ZHvf8AhXvxY8L+LPEseqv411eTVo9RtLfy3gmOx0cp0BWVchASNoAzya+ktw/yaNw/yaCbHy98SPgX8bfjL8L7rwV4o8XeErWzxBtuNLspxLfGORWHnF8rEMKGIjBJYAZC5r0L4gfB/wASR+ONO8ffD7VNMsfF0Ompol7ba5HI9jf2YfzFz5Z3JIj5IYDkEg16/uH+TS76Bnj+pfDz4k/ED4Y+PNB8Z674civPEGlzadY2uh2cotrIvE6+Y0khLuSXGRgABeMk07xt8GNV8Vfsvp8M4L20t9YXRrTTPtcm42++ERAtwN2D5Zxx3r17fRvoGeOfGT4L+JPE2p/D7xV4M1XTdP8AFfg+SUQxaxG72dxFLCI5EfZ8wxgEEfjU2raX8eZLTTpbXUvh7cySQNHf2V7aXYgWTc2HjkBLMrKVBVl4Knk549ZlkLRL9alMmI1AOfxoA8t/Z7+Et58IfDGqwanc2FxqmtapNqt3BpNubextGcIoit0PIQBF5OCSSas+IvhTeax8fPC3xAjvoEsdI0a806SydW8ySSVkKMD0xw2eew9TXou7/OacG/zmgg8y+AnwlvfhP4D1bQL+9gvZLzVr+/SWEEARzyllDA/xAHnHGehq3+zp8M7/AODvwh0Xwnqd3b3t5YtOXmtd3lnfM8gxuAPRh2r0Ld/nNG7/ADmgDx/4vfCPxXrfxQ8K/ELwJq2lWHiDSbOfTLm11uKR7a6tZCGxlPmVgwzkDnPXjBs+D/hb4js/jofiPrl5pjz3XhK30O6tbESALdJOZHdNw/1Zzxk7u2O59Y30b6APGYv2f1v/AIhfF/U9dmgvdA8dafaaeLWAss0SRwtHJkkYzlsqR0rJ8KeBPjr4M0Ww8LWfi7wjf6JYEW0GuXthcPqRtlOF3RbxEzqvHLYOAT3Fe9M3+c0gb/OaAJI2ZY0WRt7YG5sdT3PX1r5lvv2Vdduv2d/E3w7XWtOF/qXiCXVoLrbIIUja8WcK3BbO1cYAPPfFfTBb/OaYz4Un+tAHnXx0+Fmo/FDQ/COn6bd29u2j+I9N1mZrosoeK2kLsq7QfmO7Azxx1qj8Q9D+LuoapqMHh258D6n4avBtWx8SWlwJoflAZT5ZKSKSN3IHXBzjJ9XWb5h6AGoydz7jwaAPn3Uv2U5I/wBmnTfhtpviBYtb0y8j1ez1Z4B5CXiTmYDyu0QZmULzgY4OMVp6l8J/iP46174da74w1HwvFfeF9fbUGi0VbgRzW5t9gAMgJ8zeScYxjHOa9vLU4OTjnp70AeJ+K/hH490D40ap8Qfh1q3h8Nr1jDZaxp3iKKYqTASIZYXjOchWIKnA4HXPFKb4O/ErwV8TvFviT4f6z4ZisPFskFzqNrr0E7tbXCReWZIfLb5gRk7WI7DjrXve+jfQB8+eB/2WbnTfgR47+HHiTXftx8UalqF4dStIwroJ2VkZlwBuBXLADHOBxzT1+CnxC8efC1/B/wAQNb0KC601bOfQ9b8NQzCeC7t23JNKkhCn7qfKuBy3TjH0Bvo30AeR+F9O+OEmtaWviTWPBtto9u6veSaRa3Mt1dhcZX96wWPfzlhkjsO47DwHp3jXTb/xIfFmt6brFpcalJLo62VqYGtrMgbYpD/EwweeevXnC9UX5pdw/wAmgCXfRvqDfRvoAn30b6g30b6AJ99G+oN9G+gCffRvqDfRvoAn30b6g30b6AJ99G+oN9G+gCffRvqDfRvoAn30b6g30b6AJ99G+oN9G+gCffRvqDfRvoAn30b6g30b6AJ99G+oN9G+gCffRvqDfRvoAn30b6g30b6AJ99G+oN9G+gCffRvqDfRvoAn30b6g30b6AJ99G+oN9G+gCffRvqDfRvoAn30b6g30b6AJ99G+oN9G+gCffRvqDfRvoAn30b6g30b6AJ99G+oN9G+gCffRvqDfRvoAn30b6g30b6AJ99G+oN9G+gCffRvqDfRvoAn30b6g30b6AJ99G+oN9G+gCffRvqDfRvoAn30b6g30b6AJ99G+oN9G+gCffRvqDfRvoAn30b6g30b6AJ99G+oN9G+gCffRvqDfRvoAn30b6g30b6AJ99G+oN9G+gCffRvqDfRvoAn30b6g30b6AJ99G+oN9G+gCffRvqDfRvoAn30b6g30b6AJ99G+oN9G+gCffRvqDfRvoAg30b6g30b6AJ99G+oN9Mkd/LfywpkwdobpntmgC4r1zfj+28WX3h94/BmpaZpet7gUl1a0e4gIzypVHUj657dOeOF8GXnxsbxRaJ4psvBMfh3dJ9ok0uW6N1jB2bQ429cZz716ur/ADr9aAPlSLx5+0DJ8dpPhifEngf7amgDXjfro1wI9hn8ny9pmJz3zXc+OfiF8QfhWnwt0/XNS0TVdV8ReK4dJ1CewsJIYfszq7YRWkYhhtHzE/hXP2+W/wCChd3jn/i3Kf8ApwNQ/tmeHrbxTq3wZ0u/3nT7zx1awTpHI0bMhhl3LuUggEcZBBoA+g9F8b+HfEl1dWuka9peq3Vr/wAfEFlexTSQ87fnVWJXkEc9xTNe8f8AhrwpcQ2+t+IdL0aeYFoo9QvY4GcA4JUOwzz6V87eNvBfh74b/tNfBKTwtoen+GmvBqlpdHS7ZLcXEK2ylVcIAGAPIz3Ga4n4X6drvjjxB8UdR1H4aeFfiDqsnii+sLm68S6wYLm2gjYCC3WA2UvlxiPBUhvm3EnpwAfaN5rVjpy27Xd5BbLcSLDCZpFTzXboq5PJODwPSqdh4z0HVLO+vLLW9PvLSwLLd3FvdRvHblRuYSMDhcDk5xgV8W/E/wCGeq6X8J/gf4H8WyxyRSfEWKyaGxv5J/ItHa4KQCbCsSiMY8jGMdq679pTwfaeENa+EXhHw54W0a38IarrkrahpHnDTbHULiKANbQ3EixvuBKk4ZW3+WB24APqbQPF+h+K4ZptD1nT9Zhhfy5ZNPuo7hY27KxQkA+xrTkuEhjZ5GCIoLMzcAAck181eFPhf4o0340eFvEdj4O8KfDvS4YLm21a30PU2lbU4ymYlMYtoQTG43ZOSATyOh9G/aK8ZaB4H+Eetap4n0f/AISHRsJBJpeQBcs7qqI2TgLuIyTnjselAHY6D8RfC3ii8ktNG8SaTq13Gu94LG+imkVc4yVViRyam1Dxx4f0hbg3+uafZC2kSKc3F0kflO4yivkjaWHIB6jkV8h+N9Jn8G/Fz4Gy/wDCv/Cvw+vbvxEbTPh/UBNPPbtCwkjdVtoQU5Xks2CwwOTnpPh38MPC3j39rL43al4j0O112XTbjTUs47+MTQxF7UEsI2ypb5QM4yBkDqaAPpnXvHHh7ws1uuta9pmjtcAtCNQvI4PMAxnbvYZ6jp61srJuUMDuUjIYcj86+K/Ben6t42+K/wAW728+HHhfx3qkHiKXS0PiLVvIlsrOMKLWOOFrSULGyZYMpBYs2c4zXvP7NvhHXfAHw9u9F1s2cSRardtp9jY3zXiWNmz7o7YysibjGSyfdHCqMDoADR+Onjzxl4K8NeZ4L8MLruoyQzyve3Uqx2enpEm4yS8hmJ/hVRyRyRUn7PPxC1P4ofBPwp4p1gQLqmpWfmzm3TZHvDMMgEnHT1rd+IrbvAPiVeSx0y6wBn/nkw/rXnH7HMyL+y/4BLFdo087snt5jnn8KAOI+Fnj347/ABo0G98QaL4g8G6Rpq6ld2UVvd6RPLKFhlZMsyygZOPQV9KeE49atfDljF4ku7O+1xI8XVxp8LQwO+TyiMzEDGO5r5y8Efsl+BYfCOozx+MNa1m2uLq5vLPWNN12a1gsN0jOTEkMvlZQk5Zw2SDkDoOz/ZA8Zax4x+BOjajrt5Jql5HcXVquozHc17FDO8ccxOTklVGT3Izz1IWet6l4w0PRZp4dR1ixsJYIFuZUurlIzHCxKrI24japIIDHjII7VLofiXSfE9iL3RtTs9Ws2YqLmxnWePI6jcpI/WvlXWvC/hnxb/wUBex8TQw30SeCop7TTLwb7a4mFy4y8Z+WQqrlgpBxywHy5EFxHD8Lv2hvixpfw3to7KBvAMutXOm6bGFig1ZHZbcpEBtDumDtHUHNAH1M/j7wzH4gXQn8Q6WmtswUaa17GLjJGQPL3bskc4xV3XfEWleF7Fr3WNStNKs1YKbi9nWGMMeg3MQMn0r4i+Hvwtv/AB9+zppf9l/DrwdLd6np32tPGFx4hYajHfMC5umb7DvWRZiWK+ZwQRnFdy+jR+Mf2tPDnhv4iRWesRaV4HiubCyul8y0ub1pNlxOsbcOwAYdOFwaAPqPSfEmk+INNTUNL1K01PT3BK3dnOs0RAOCQ6kjgg9+1ZknxM8IwyWUcnijRopL5Ve0STUIla4VjhTGC3zgngFc57V8z6fodp4L+Pnxg8P+F7aDS/C03gtNQvLGxhVbeDUGV0+4uAjNHgkcZwDisL4AfB/4WeJf2K7XU9a0vS7t5dKuZNQ1u6VTcW0qGQZErfNGYwBgAgfKOKAPf/if8UtY8I/GP4VeFrAWx0/xLdXsV/5kZaULDAHQKc/Lkn07V6Lr3irR/C1qLrWtWsdHti2wTX9ykCFsE43OQM8GvizwPrWta5N+yDq2uSTS6i8WprJdXJy8i+RiFmY9S6BTknnJ966Txe2s+MP2uvFOnXHg7w942g0rQ7R9I0vxNqv2SKOKQsZriKIwTK7F/lZyoK7VGaAPrjTdWs9ZsobzT7uG+s5l3xXFtIJI5FzjKsCQR9DUWteItM8N2L32r6ja6XZRkBrm9nWGNc9AWYgCvG/2efAXiXwP4k8dy6npujeHdA1O5t7vTvDui37XcVjKYsTNuMMe0OQG2hQMk+po+PWueHrvxl4I8JXngSw8deJtTN1c6Vb6vOsFnAIkUys8jK/JBAAEbZ9qAPVbfxhpfiDw3d6noOqWer28CyD7RYzLPGHVNxBZSRkZHHuPWvMPgB+0BaeNPg/4U8QeNNf0PRtb1dJmFvJcR23m7Z5IxsR3yfuY4zzmvLvhKsmh/tMfFLRl8PaN4UD+ErW8u9H8P3huLYXAeQCQkQxbXKt93Z0IOfm4y/2UvhH8NvFH7JkV5rmi6VqE1xBerqOpXsavNBskk4ErfNFtXDDaRjOaAPsPVvEOm6Dp819qeoW2nWMIBkubqVYo0ycDLMQBk8VD4f8AF2ieLLU3OiaxY6xbhthlsLlJ1DdcEoTzjnHpXx38PvA/jD4yfs1/CLVI7mw8Q3ehXk1y+i+J2c2mrW4eWKIyMEJ3ImNjFWHPIPFbep+OY/C/gf40aboHw7tfhx8StJ8Oi8uF0d45IpYSJRHPHJCq7ioLsNyKwOODigg+oYfH3hu41xtFi8QaXJrKkhtNW8jNyCBkgxbt2QOSMcYqzqnivRtEacajq1jYG3hFzMLq4SPy4SxUSNuIwhYEbjxkHmvjbSfhPrniz4IaNB4V+HXgzR9QlsrW/s/GMPiJnvEnGJPtLSCyDFyQ+4GTuQTXVXXgPSPH37clxD4n0+HWEsfA1pcfZrgF7eSYXTLukjPD4ycBgRnB6jNAH0hJ8SfDCeFbjxLH4g0u40OAHdqEd7EbfcDjb5m7bnOBjPUiuR+BP7QXh/45eENL1Wxu7Gy1S7illk0UX8c9zAqStHllGDg4BBKjhhXjPw98B+HIvjZ8f/CQ0HTG8LpbabqEWjNaobWOdrZ2MixEFVYkDkAdBW/+wj4T8O2/wB8Ja/aaDpsGuXEN2k+pQ20YuCv2lxtaQLuIwq8E9hQB9K+ZRvqDfRvoAseYaTdUG+jfQBPuo31Bvo30AT76PMNQb6N9AFjzDR5hqvvo30AWPMNHmGq++jfQBP5lL5hqvvo30AT76N9Qb6N9AE++jfUG+jfQBPvo31Bvo30AT76N9Qb6N9AE++jfUG+jfQBPvo31Bvo30AT76N9Qb6N9AE++jfUG+jfQBPvo31Bvo30AT76N9Qb6N9AE++jfUG+jfQBPvo31Bvo30AT76N9Qb6N9AE++jfUG+jfQBPvo31Bvo30AT76N9Qb6N9AE++jfUG+jfQBPvo31Bvo30AT76N9Qb6N9AE++jfUG+jfQBPvo31Bvo30AT76N9Qb6N9AE++jfUG+jfQBPvo31Bvo30AT76N9Qb6N9AE++jfUG+jfQBPvo31Bvo30AT76N9Qb6N9AE++jfUG+jfQBPvo31Bvo30AT76N9Qb6N9AE++jfUG+jfQBPvo31Bvo30AT76N9Qb6N9AE++jfUG+jfQBPvo31Bvo30AT76N9Qb6N9AE++jfUG+jfQBPvo31Bvo30AT76N9Qb6N9AE++jfUG+jfQBPvo31Bvo30AT76N9Qb6N9AE++jfUG+jfQBPvo31Bvo30AT76N9Qb6N9AEW6jdUG+jfQBPuo3VBvo3UAT76N/eocmjJoAw18B6DH4+fxqlhjxM+njSmvvOk5tRJ5gj2btn3+c7c++KXxX4E0Lxtd6Hc61Y/bZtE1BNV09vOkj8m5RSqyYVhuwGPytkc9K291JvoAw9c8BaF4k8TaD4g1Gx+0atoLStp1x50i+QZV2SHarBWyuB8wOO2K53xZ8AfAvjTxBPrupaROmr3EIt7i807U7qwe4jHRZfs8qeZjtuzjpXfb6N9AHHp8F/BMeheGNGi0CC30zwzfx6ppNtBLJGtvcpu2yfKwLn5mzv3Ak5Oa2fG3gfQPiR4en0PxNpcGsaTMQz21xnG4dGBBBVh2YEEVr76N9AHCeEfgJ4F8D69DrWmaRO+rQIYoLzUtTur+SBSMERm4lfYCODtxkcV1fizwpo3jnw/faHr2nw6ppN9H5Vxaz52yL6HHcdiOR2rQ30b6APNtL/AGafhxo+q6RqcOgzT6jpNyl1YXd9ql3dS2zqrKoRpZWIQBj8n3c4OMgGux0PwLoXhvxJ4g1/TbH7Nq+vtC+pXImkbzzEmyM7SxVcLx8oGe+a2N9G+gDhvF3wI8D+OPEZ1/VNJmTW2i8h9Q03UrqwmlQYwrtbyoXAxxuziuk8HeC9C+H+hxaP4e06LTNOjdpBDEScuxyzszEszE8lmJJ7mtXfRvoA434nfBbwd8YobOLxbpk+pR2m/wAlYtRubUDdjdnyZE3ZwOuazvhd+z14A+Ct7PdeDdCk0iWeEwPu1C5uFKFgxAWWR1HIHIGevqa9D30bqAPJNY/ZH+E2tXl5cT+FVtxetvubWxv7q0tpznq8EUqxtnvlee9epaJo+n+GdHtNK0myg0/TrOMRW9rbIEjjUdAAOlWd1G6gs8I8R/AVPHH7TWqeJ/EGjreeF5fDFrZ219HeGC4hvY7mRz5TxOs0ZCEZZcZDEZPIr0v4ffCXwl8LYdQTw1pC2TahKZry4muJbqe5c55klmZ3bqcZbjJx1rrN1G6gDy26/ZZ+F95dXcreG3hhu5vtFxp9tqd3BYyvxktapKITnHI2YPOeprpvG3wg8H/EK10yDXNHWb+zDmxmtLiW0nteAP3csLo6DAHAYZxXWhqMmgg4HS/gz4Z8A+B/EekeDtFjsZ9TtpxJJJPJNNcysjBTJNKzOxy3BZuAeMV5h8IP2PfBsPwj8Lad438LFdcitIDqenwapPHayXCEsGlihmEMrjgFiGzgDJAFfRuaXdQUjkfHnwd8G/Ezw/YaH4g0KK60zT5Y5rKGGV7ZrZ0GEaJ4mVkwOPlIql4m+Avgrxhb6Emq6VcTz6JGItPv49SuYb2FQNuPtSSCZuOu5znvmu63Um6gk5vwH8LPDXwyivl8O6a1pJfOJbu5muZLme4YdDJLKzO2O2WOM03x98LfDPxOisE8R6W13LYSma0uoLqW1ubdyMExzQuki5HUBsGun8wik+0N70AcX4P+B/gvwHq15qmi6H9m1K8s1sbq8mu5riWeEMWAkaR2LtknLtliAASQABzP/DI3wqj02PT4vDEltYLH5UlrbareRRXKhiw89EmAnOT1kDHt0r1vzmPtSGQ5HJoA4zxX8GfBfjTTNG0/U9CjFvowC6a1jNLZy2ShQu2KWBkdBgAEKQDgZq14H+E/hT4d/wBotoemNBPqJU3l1dXc13cT7RhQ8szu5UDgLuwMnA5NdRupd1AHly/ss/C9Zww8NObUXH2oaYdTuzp4kznd9j83yOvbZiu3t/AegWnjiXxfDp6x+IpNOXSnvFlfm1WQyLHs3bOGOc7c9BnAxW1vo30AYuk+AdA0PxZrviaysPJ1vXEhj1C686RvPWFSsY2Fiq4BI+UDPfNc/wCEvgN4F8B+J5tf8P6NJpV/M7yNHb6hci13OMMwtvM8kEgdQgrut9G+gCfdRuqDfRvoAn3Ubqg30b6AJ91G6oN9G+gCfdRuqDfRvoAn3Ubqg30b6AJ91G6oN9G+gCfdRuqDfRvoAn3Ubqg30b6AJ91G6oN9G+gCfdRuqDfRvoAn3Ubqg30b6AJ91G6oN9G+gCfdRuqDfRvoAn3Ubqg30b6AJ91G6oN9G+gCfdRuqDfRvoAn3Ubqg30b6AJ91G6oN9G+gCfdRuqDfRvoAn3Ubqg30b6AJ91G6oN9G+gCfdRuqDfRvoAn3Ubqg30b6AJ91G6oN9G+gCfdRuqDfRvoAn3Ubqg30b6AJ91G6oN9G+gCfdRuqDfRvoAn3Ubqg30b6AJ91G6oN9G+gCfdRuqDfRvoAn3Ubqg30b6AJ91G6oN9G+gCfdRuqDfRvoAn3Ubqg30b6AJ91G6oN9G+gCfdRuqDfRvoAn3Ubqg30b6AJ91G6oN9G+gCfdRuqDfRvoAn3Ubqg30b6AJ91G6oN9G+gCfdRuqDfRvoAn3Ubqg30b6AJ91G6oN9G+gCfdRuqDfRvoAn3Ubqg30b6AJ91G6oN9G+gCfdRuqDfRvoAn3Ubqg30b6AJ91G6oN9G+gCfdRuqDfRvoAn3Ubqg30b6AIN9G+q++jfQBY30b6r76N9AFnzKPMqtvo30AWPMo31X30b6ALG+jfVffRvoAsb6N9V99G+gCxvo31X30b6ALG+jfVffRvoAsb6N9V99G+gCxvo31X30b6ALG+jfVffRvoGWN9G+q++jfQIseZS+ZVbfRvoAs+ZR5lVt9G+gCxupNwqDfRvoAsbqNwqvvo30AWN9G+q++jfQBY30b6r76N9AFjfRvqvvo30AWN9G+q++jfQBY30b6r76N9AFjfRvqvvo30AWN9G+q++jfQBY30b6r76N9AFjfRvqvvo30AWN9G+q++jfQBY30b6r76N9AFjfRvqvvo30AWN9G+q++jfQBY30b6r76N9AFjfRvqvvo30AWN9G+q++jfQBY30b6r76N9AFjfRvqvvo30AWN9G+q++jfQBY30b6r76N9AFjfRvqvvo30AWN9G+q++jfQBY30b6r76N9AFjfRvqvvo30AWN9G+q++jfQBY30b6r76N9AFjfRvqvvo30AWN9G+q++jfQBY30b6r76N9AFjfRvqvvo30AWN9G+q++jfQBY30b6r76N9AFjfRvqvvo30AWN9G+q++jfQBY30b6r76N9AFjfRvqvvo30AWN9G+q++jfQBY30b6r76N9AFjfRvqvvo30AWN9G+q++jfQBY30b6r76N9AFjfRvqvvo30AWN9G+q++jfQBY30b6r76N9AFjfRvqvvo30AWN9G+q++jfQBY30b6r76N9AFjfRvqvvo30AWN9G+q++jfQBY30b6r76N9AFjfRvqvvo30AWN9G+q++jfQBY30b6r76N9AFjfRvqvvo30AWN9G+q++jfQBY30b6r76N9AFjfRvqvvo30AQb6N9Qb6N9AE++jfUG+jfQBPvo31Bvo30AT76N9Qb6N9AE++jfUG+jfQBPvo31Bvo30AT76N9Qb6N9AE++jfUG+jfQBPvo31Bvo30AT76N9Qb6N9AE++jfUG+jfQBPvo31Bvo30AT76N9Qb6N9AE++jfUG+jfQBPvo31Bvo30AT76N9Qb6N9AE++jfUG+jfQBPvo31Bvo30AT76N9Qb6N9AE++jfUG+jfQBPvo31Bvo30AT76N9Qb6N9AE++jfUG+jfQBPvo31Bvo30AT76N9Qb6N9AE++jfUG+jfQBPvo31Bvo30AT76N9Qb6N9AE++jfUG+jfQBPvo31Bvo30AT76N9Qb6N9AE++jfUG+jfQBPvo31Bvo30AT76N9Qb6N9AE++jfUG+jfQBPvo31Bvo30AT76N9Qb6N9AE++jfUG+jfQBPvo31Bvo30AT76N9Qb6N9AE++jfUG+jfQBPvo31Bvo30AT76N9Qb6N9AE++jfUG+jfQBPvo31Bvo30AT76N9Qb6N9AE++jfUG+jfQBPvo31Bvo30AT76N9Qb6N9AE++jfUG+jfQBPvo31Bvo30AT76N9Qb6N9AE++jfUG+jfQBPvo31Bvo30AT76N9Qb6N9AE++jfUG+jfQBPvo31Bvo30AT76N9Qb6N9AE++jfUG+jfQBPvo31Bvo30AT76N9Qb6N9AE++jfUG+jfQBPvo31Bvo30AT76N9Qb6N9AE++jfUG+jfQBPvo31Bvo30AT76N9Qb6N9AE++jfUG+jfQBPvo31Bvo30AT76N9Qb6N9AE++jfUG+jfQBPvo31Bvo30AT76N9Qb6N9AEG6jdRRQAbqN1FFABuo3UUUAG6jdRRQAbqN1FFABuo3UUUAG6jdRRQAbqN1FFABuo3UUUAG6jdRRQAbqN1FFABuo3UUUAG6jdRRQAbqN1FFABuo3UUUAG6jdRRQAbqN1FFABuo3UUUAG6jdRRQAbqN1FFABuo3UUUAG6jdRRQAbqN1FFABuo3UUUAG6jdRRQAbqN1FFABuo3UUUAG6jdRRQAbqN1FFABuo3UUUAG6jdRRQAbqN1FFABuo3UUUAG6jdRRQAbqN1FFABuo3UUUAG6jdRRQAbqN1FFABuo3UUUAG6jdRRQAbqN1FFABuo3UUUAG6jdRRQAbqN1FFABuo3UUUAG6jdRRQAbqN1FFABuo3UUUAG6jdRRQAbqN1FFABuo3UUUAG6jdRRQAbqN1FFABuo3UUUAG6jdRRQAbqN1FFABuo3UUUAG6jdRRQAbqN1FFABuo3UUUAG6jdRRQAbqN1FFABuo3UUUAG6jdRRQAbqN1FFABuo3UUUAG6jdRRQAbqN1FFABuo3UUUAG6jdRRQAbqN1FFABuo3UUUAG6jdRRQB//9k=)"
      ],
      "metadata": {
        "id": "6ZBwznLkSaV0"
      }
    },
    {
      "cell_type": "code",
      "source": [
        "# Assigment_01\n",
        "\n",
        "number_of_facutly = 12\n",
        "admin = 4\n",
        "students = 100\n",
        "absent = 15\n",
        "per_person_rabri = 250\n",
        "\n",
        "total_members = number_of_facutly + admin + students\n",
        "total_present_members = total_members - absent\n",
        "total_rabri = total_present_members * per_person_rabri\n",
        "\n",
        "print(f\"Total present member in PIAIC: {total_present_members}\")\n",
        "print(f\"Total rabri in grams: {total_rabri}g\")\n",
        "print(f\"Total rabri is kg: {total_rabri // 1000}kg\")"
      ],
      "metadata": {
        "id": "VcW7big8vFHP",
        "colab": {
          "base_uri": "https://localhost:8080/"
        },
        "outputId": "bd689380-db9c-4cc9-816d-c03f77206433"
      },
      "execution_count": null,
      "outputs": [
        {
          "output_type": "stream",
          "name": "stdout",
          "text": [
            "Total present member in PIAIC: 101\n",
            "Total rabri in grams: 25250g\n",
            "Total rabri is kg: 25kg\n"
          ]
        }
      ]
    },
    {
      "cell_type": "code",
      "source": [
        "# Boolean Example\n",
        "is_loggedin = True # Boolean example\n",
        "are_road_close = True\n",
        "is_internet_close = False\n",
        "\n",
        "print(is_loggedin)\n",
        "print(type(is_internet_close))"
      ],
      "metadata": {
        "colab": {
          "base_uri": "https://localhost:8080/"
        },
        "id": "y2mxnuwBKxo1",
        "outputId": "42aaee31-db02-4560-cc53-8848c96c3a38"
      },
      "execution_count": null,
      "outputs": [
        {
          "output_type": "stream",
          "name": "stdout",
          "text": [
            "True\n",
            "<class 'bool'>\n"
          ]
        }
      ]
    },
    {
      "cell_type": "code",
      "source": [
        "# Comparsion Operators\n",
        "# == : equal to\n",
        "# != : not equal to\n",
        "# > : greater than\n",
        "# < : less than\n",
        "# >= : greater than or equal to\n",
        "# <= : less than or equal to\n",
        "\n",
        "# Comparsion Operators Examples\n",
        "a = 90\n",
        "b = 30\n",
        "\n",
        "print(a == b) # False\n",
        "print(a != b) # True\n",
        "print(a > b) # True\n",
        "print(a <= b) # False"
      ],
      "metadata": {
        "id": "f7gbI1nNXeoV",
        "colab": {
          "base_uri": "https://localhost:8080/"
        },
        "outputId": "f0bb94ad-afb4-4f1e-f788-5500c262a5a9"
      },
      "execution_count": null,
      "outputs": [
        {
          "output_type": "stream",
          "name": "stdout",
          "text": [
            "False\n",
            "True\n",
            "True\n",
            "False\n"
          ]
        }
      ]
    },
    {
      "cell_type": "code",
      "source": [
        "myage = 14\n",
        "\n",
        "#        14 > 18\n",
        "print(myage > 18)\n",
        "print(myage < 18)\n",
        "print(myage == 18)\n",
        "print(myage != 18)"
      ],
      "metadata": {
        "colab": {
          "base_uri": "https://localhost:8080/"
        },
        "id": "qcZRLLlGQG5o",
        "outputId": "0bb3c773-a435-4757-f52a-3fb291e5d0fe"
      },
      "execution_count": null,
      "outputs": [
        {
          "output_type": "stream",
          "name": "stdout",
          "text": [
            "False\n",
            "True\n",
            "False\n",
            "True\n"
          ]
        }
      ]
    },
    {
      "cell_type": "code",
      "source": [
        "yousaf_age = 14\n",
        "\n",
        "if(yousaf_age > 18):\n",
        "  print(\"You're allowed\")\n",
        "else:\n",
        "  print(\"You're not allowed\")"
      ],
      "metadata": {
        "id": "NXXTlmk_Xfua",
        "colab": {
          "base_uri": "https://localhost:8080/"
        },
        "outputId": "47bd1171-cfdd-4f43-b906-fc84a6451435"
      },
      "execution_count": null,
      "outputs": [
        {
          "output_type": "stream",
          "name": "stdout",
          "text": [
            "You're not allowed\n"
          ]
        }
      ]
    },
    {
      "cell_type": "code",
      "source": [
        "# Input Example\n",
        "name = input(\"Enter your name: \")\n",
        "print(f\"Hello {name}!\")"
      ],
      "metadata": {
        "colab": {
          "base_uri": "https://localhost:8080/"
        },
        "id": "oTQDgmSeiTcZ",
        "outputId": "e492e3f9-6c47-4991-fa5e-7b045710cc02"
      },
      "execution_count": null,
      "outputs": [
        {
          "output_type": "stream",
          "name": "stdout",
          "text": [
            "Enter your name:  Abdulah\n",
            "Hello  Abdulah!\n"
          ]
        }
      ]
    },
    {
      "cell_type": "code",
      "source": [
        "# Conditional Statments\n",
        "age_01 = int(input(\"Enter your age: \"))\n",
        "\n",
        "if ( age_01 < 18 ):\n",
        "   print(\"You're not allowed\")\n",
        "elif ( age_01 == 18 ):\n",
        "   print(\"You are a young person\")\n",
        "   print(\"You're allowed\")\n",
        "elif ( age_01 >= 80 ):\n",
        "   print(\"You're older\")\n",
        "else:\n",
        "   print(\"You're allowed\")"
      ],
      "metadata": {
        "colab": {
          "base_uri": "https://localhost:8080/"
        },
        "id": "eUcyf_oDjEMB",
        "outputId": "9ffea20c-e9a3-45a5-d6e8-97d7dc372b47"
      },
      "execution_count": null,
      "outputs": [
        {
          "output_type": "stream",
          "name": "stdout",
          "text": [
            "Enter your age: 14\n",
            "You're not allowed\n"
          ]
        }
      ]
    },
    {
      "cell_type": "code",
      "source": [
        "# Assigment 2\n",
        "is_hungry = True\n",
        "burger_lover = False\n",
        "pizza_lover = False\n",
        "\n",
        "if ( is_hungry and (burger_lover or pizza_lover) ):\n",
        "  print(\"Let's order the Pizza\")\n",
        "elif(is_hungry):\n",
        "  print(\"Sleep without eat\")\n",
        "else:\n",
        "  print(\"Not Hungry\")"
      ],
      "metadata": {
        "id": "Zk0YdwI4eOI2",
        "colab": {
          "base_uri": "https://localhost:8080/"
        },
        "outputId": "fa5903e7-9274-4963-b3fa-cfb806bc32a6"
      },
      "execution_count": null,
      "outputs": [
        {
          "output_type": "stream",
          "name": "stdout",
          "text": [
            "Sleep without eat\n"
          ]
        }
      ]
    },
    {
      "cell_type": "markdown",
      "source": [
        "# List\n"
      ],
      "metadata": {
        "id": "Fw47mF6ODkbq"
      }
    },
    {
      "cell_type": "code",
      "source": [
        "from typing import List\n",
        "\n",
        "shopping_list : List[str] = [\"eggs\", \"juice\", \"bread\"]\n",
        "print(shopping_list)"
      ],
      "metadata": {
        "id": "bDyQ9TEwejO-",
        "colab": {
          "base_uri": "https://localhost:8080/"
        },
        "outputId": "bad971ee-e14b-4082-a358-dcebddaaf672"
      },
      "execution_count": null,
      "outputs": [
        {
          "output_type": "stream",
          "name": "stdout",
          "text": [
            "['eggs', 'juice', 'bread']\n"
          ]
        }
      ]
    },
    {
      "cell_type": "code",
      "source": [
        "from os import path\n",
        "shopping_items : list[str] = [\"orange\", \"mango\", \"Banana\", \"Pine apple\"]\n",
        "print(shopping_items[0])\n",
        "\n",
        "# find the length of the list\n",
        "print(len(shopping_items))\n",
        "\n",
        "# slipt\n",
        "print(shopping_items[0:2])"
      ],
      "metadata": {
        "colab": {
          "base_uri": "https://localhost:8080/"
        },
        "id": "aZsByGR9ajXS",
        "outputId": "8476b159-89eb-4e08-9ab3-2b9d8fcb1d07"
      },
      "execution_count": null,
      "outputs": [
        {
          "output_type": "stream",
          "name": "stdout",
          "text": [
            "orange\n",
            "4\n",
            "['orange', 'mango']\n"
          ]
        }
      ]
    },
    {
      "cell_type": "markdown",
      "source": [
        "**Checking Membership**"
      ],
      "metadata": {
        "id": "6eeQ61s-GvEw"
      }
    },
    {
      "cell_type": "code",
      "source": [
        "grocery_items : list[str] = [\"oil\", \"sugar\", \"salt\", \"rice\", \"wheat\"]\n",
        "\n",
        "print(\"oil\" in grocery_items)   #True\n",
        "print(\"Wheat\" in grocery_items) #False\n",
        "print(\"flour\" in grocery_items) #False"
      ],
      "metadata": {
        "id": "nrly8-NBxqiV",
        "colab": {
          "base_uri": "https://localhost:8080/"
        },
        "outputId": "e52902d7-1d77-4513-c0ec-b411b6f635a1"
      },
      "execution_count": null,
      "outputs": [
        {
          "output_type": "stream",
          "name": "stdout",
          "text": [
            "True\n",
            "False\n",
            "False\n"
          ]
        }
      ]
    },
    {
      "cell_type": "code",
      "source": [
        "from typing import List\n",
        "fruit_items : List[str] = [\"apple\", \"banana\", \"mango\", \"strawberry\"]\n",
        "print(fruit_items)\n",
        "\n",
        "# append item in fruit\n",
        "fruit_items.append(\"pineapple\")\n",
        "print(fruit_items)\n",
        "\n",
        "# remove item in fruit\n",
        "fruit_items.remove(\"pineapple\")\n",
        "print(fruit_items)\n",
        "\n",
        "# inster item in fruit\n",
        "fruit_items.insert(0, \"pineapple\")\n",
        "print(fruit_items)\n",
        "\n",
        "# pop item in fruit\n",
        "fruit_items.pop(0)\n",
        "print(fruit_items)"
      ],
      "metadata": {
        "colab": {
          "base_uri": "https://localhost:8080/"
        },
        "id": "qgzXeGZjHjiL",
        "outputId": "8bdb976b-2bb7-4312-849b-2b7b3868f9ec"
      },
      "execution_count": null,
      "outputs": [
        {
          "output_type": "stream",
          "name": "stdout",
          "text": [
            "['apple', 'banana', 'mango', 'strawberry']\n",
            "['apple', 'banana', 'mango', 'strawberry', 'pineapple']\n",
            "['apple', 'banana', 'mango', 'strawberry']\n",
            "['pineapple', 'apple', 'banana', 'mango', 'strawberry']\n",
            "['apple', 'banana', 'mango', 'strawberry']\n"
          ]
        }
      ]
    },
    {
      "cell_type": "markdown",
      "source": [
        "# Function"
      ],
      "metadata": {
        "id": "C_kTW3_12wBR"
      }
    },
    {
      "cell_type": "code",
      "source": [
        "# why we use function?\n",
        "# Because it saves us repetition.\n",
        "# Because help us organize our code\n",
        "\n",
        "# syntax\n",
        "def function_name(parameter):\n",
        "  return Value\n"
      ],
      "metadata": {
        "id": "y3Ft31UwKaZf"
      },
      "execution_count": null,
      "outputs": []
    },
    {
      "cell_type": "code",
      "source": [
        "#Lets greet through fnction\n",
        "\n",
        "def greet():\n",
        "  print(\"Hello world!\")\n",
        "\n",
        "# calling the function\n",
        "greet()"
      ],
      "metadata": {
        "colab": {
          "base_uri": "https://localhost:8080/"
        },
        "id": "aAG1T9zx5ELB",
        "outputId": "823ebc73-b466-4e04-9b22-515a41d82029"
      },
      "execution_count": null,
      "outputs": [
        {
          "output_type": "stream",
          "name": "stdout",
          "text": [
            "Hello world!\n"
          ]
        }
      ]
    },
    {
      "cell_type": "code",
      "source": [
        "def greet(name):\n",
        "  print(f\"Hello {name}!\")\n",
        "\n",
        "# let's call the function with a parameter\n",
        "greet(\"yousaf\")\n",
        "greet(\"Shahab\")"
      ],
      "metadata": {
        "colab": {
          "base_uri": "https://localhost:8080/"
        },
        "id": "GbY-748P5Su2",
        "outputId": "1d03d4b2-5008-4eec-c922-9273504e556c"
      },
      "execution_count": null,
      "outputs": [
        {
          "output_type": "stream",
          "name": "stdout",
          "text": [
            "Hello yousaf!\n",
            "Hello Shahab!\n"
          ]
        }
      ]
    },
    {
      "cell_type": "code",
      "source": [
        "# lets create a function with return value\n",
        "def add_two(a, b):\n",
        "  return a + b\n",
        "\n",
        "add_two(10, 20)"
      ],
      "metadata": {
        "colab": {
          "base_uri": "https://localhost:8080/"
        },
        "id": "_C-MeoW77LLD",
        "outputId": "611bc874-0d0b-4ce7-f5ab-ec3c289b3ba8"
      },
      "execution_count": null,
      "outputs": [
        {
          "output_type": "execute_result",
          "data": {
            "text/plain": [
              "40"
            ]
          },
          "metadata": {},
          "execution_count": 12
        }
      ]
    },
    {
      "cell_type": "code",
      "source": [
        "# subtract\n",
        "def sub_two(x, y):\n",
        "  z = x - y\n",
        "  return z\n",
        "\n",
        "sub_two(50, 10)"
      ],
      "metadata": {
        "colab": {
          "base_uri": "https://localhost:8080/"
        },
        "id": "s7ATRBmH-Ger",
        "outputId": "891e8f8d-71e3-4ca9-9f67-6edb32201e14"
      },
      "execution_count": null,
      "outputs": [
        {
          "output_type": "execute_result",
          "data": {
            "text/plain": [
              "40"
            ]
          },
          "metadata": {},
          "execution_count": 15
        }
      ]
    },
    {
      "cell_type": "markdown",
      "source": [
        "# Define default parameter"
      ],
      "metadata": {
        "id": "1gvd5WTCBxxp"
      }
    },
    {
      "cell_type": "code",
      "source": [
        "def greet(name = \"Guest\"):\n",
        "  print(f\"Hello {name}\")\n",
        "\n",
        "greet()\n",
        "greet(\"Shahab\")\n",
        "\n",
        "def add_two(b = 3, c = 4):\n",
        "  a = b + c\n",
        "  return a\n",
        "\n",
        "add_two(10, 20)"
      ],
      "metadata": {
        "colab": {
          "base_uri": "https://localhost:8080/"
        },
        "id": "9jARlfar-HZX",
        "outputId": "c53ce806-f89f-448b-ac93-ffb1c79111fe"
      },
      "execution_count": 1,
      "outputs": [
        {
          "output_type": "stream",
          "name": "stdout",
          "text": [
            "Hello Guest\n",
            "Hello Shahab\n"
          ]
        },
        {
          "output_type": "execute_result",
          "data": {
            "text/plain": [
              "30"
            ]
          },
          "metadata": {},
          "execution_count": 1
        }
      ]
    },
    {
      "cell_type": "markdown",
      "source": [
        "# Short Assigment Function"
      ],
      "metadata": {
        "id": "CuW1oqpy0AfP"
      }
    },
    {
      "cell_type": "code",
      "source": [
        "def make_tea():\n",
        "  print(\"step_01: Boil water\")\n",
        "  print(\"step_02: add patti\")\n",
        "  print(\"step_03: add milk\")\n",
        "  print(\"step_05: make tea\")\n",
        "  return \"Tea is ready\"\n",
        "\n",
        "tea = make_tea()\n",
        "print(tea)"
      ],
      "metadata": {
        "id": "UhYLprZ8CEB9",
        "colab": {
          "base_uri": "https://localhost:8080/"
        },
        "outputId": "ced6acda-3ed4-44b6-e4e9-50d65d49ddae"
      },
      "execution_count": 6,
      "outputs": [
        {
          "output_type": "stream",
          "name": "stdout",
          "text": [
            "step_01: Boil water\n",
            "step_02: add patti\n",
            "step_03: add milk\n",
            "step_05: make tea\n",
            "Tea is ready\n"
          ]
        }
      ]
    },
    {
      "cell_type": "code",
      "source": [
        "def call_llm():\n",
        "  return \"Hello, How can I assist you today?\"\n",
        "\n",
        "responce = call_llm()\n",
        "print(responce)"
      ],
      "metadata": {
        "colab": {
          "base_uri": "https://localhost:8080/"
        },
        "id": "2tmBotRws0X1",
        "outputId": "c872a9a3-0902-4610-851d-99217bb55b45"
      },
      "execution_count": 8,
      "outputs": [
        {
          "output_type": "stream",
          "name": "stdout",
          "text": [
            "Hello, How can I assist you today?\n"
          ]
        }
      ]
    },
    {
      "cell_type": "code",
      "source": [],
      "metadata": {
        "id": "YYnSGy-Zzx7e"
      },
      "execution_count": null,
      "outputs": []
    }
  ]
}